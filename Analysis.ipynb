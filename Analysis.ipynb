{
 "cells": [
  {
   "cell_type": "markdown",
   "id": "0554dc75",
   "metadata": {
    "pycharm": {
     "name": "#%% md\n"
    }
   },
   "source": [
    "\n",
    "# Introduction\n",
    "This dataset is taken from https://www.kaggle.com/datasets/uciml/default-of-credit-card-clients-dataset and it contains information on 30,000 credit card holders from a bank in Taiwan. Each credit card holder is described by 23 feature attributes as outlined below.\n",
    "\n",
    "## Data Modelling Problem\n",
    "We aim to predict whether a credit card holder will be defauting his payment in the next month.\n",
    "\n",
    "## Feature Descriptions\n",
    "\n",
    "**Client info**\n",
    "\n",
    "- ID: ID of each client\n",
    "- LIMIT_BAL: Amount of given credit in NT dollars (includes individual and family/supplementary credit)\n",
    "- SEX: Gender (1=male, 2=female)\n",
    "- EDUCATION: (1=graduate school, 2=university, 3=high school, 4=others, 5=unknown, 6=unknown)\n",
    "- MARRIAGE: Marital status (1=married, 2=single, 3=others)\n",
    "- AGE: Age in years\n",
    "\n",
    "**Payment**\n",
    "*(-2 = No consumption; -1 = Paid in full; 0 = The use of revolving credit (Customer paid amount due, but not all); 1 = payment delay for one month; 2 = payment delay for two months;...; 8 = payment delay for eight months; 9 = payment delay for nine months and above.)*\n",
    "https://www.kaggle.com/datasets/uciml/default-of-credit-card-clients-dataset/discussion/34608\n",
    "\n",
    "- PAY_0: Repayment status in September, 2005\n",
    "- PAY_2: Repayment status in August, 2005 (scale same as above)\n",
    "- PAY_3: Repayment status in July, 2005 (scale same as above)\n",
    "- PAY_4: Repayment status in June, 2005 (scale same as above)\n",
    "- PAY_5: Repayment status in May, 2005 (scale same as above)\n",
    "- PAY_6: Repayment status in April, 2005 (scale same as above)\n",
    "\n",
    "**Bill Statement**\n",
    "*(Possible to have negative values --> Overpayment)*\n",
    "\n",
    "- BILL_AMT1: Amount of bill statement in September, 2005 (NT dollar)\n",
    "- BILL_AMT2: Amount of bill statement in August, 2005 (NT dollar)\n",
    "- BILL_AMT3: Amount of bill statement in July, 2005 (NT dollar)\n",
    "- BILL_AMT4: Amount of bill statement in June, 2005 (NT dollar)\n",
    "- BILL_AMT5: Amount of bill statement in May, 2005 (NT dollar)\n",
    "- BILL_AMT6: Amount of bill statement in April, 2005 (NT dollar)\n",
    "\n",
    "**Previous Payment**\n",
    "\n",
    "- PAY_AMT1: Amount of previous payment in September, 2005 (NT dollar)\n",
    "- PAY_AMT2: Amount of previous payment in August, 2005 (NT dollar)\n",
    "- PAY_AMT3: Amount of previous payment in July, 2005 (NT dollar)\n",
    "- PAY_AMT4: Amount of previous payment in June, 2005 (NT dollar)\n",
    "- PAY_AMT5: Amount of previous payment in May, 2005 (NT dollar)\n",
    "- PAY_AMT6: Amount of previous payment in April, 2005 (NT dollar)\n",
    "\n",
    "**Target Variable**\n",
    "\n",
    "- default.payment.next.month: Default payment (1=yes, 0=no)"
   ]
  },
  {
   "cell_type": "markdown",
   "id": "988323c0",
   "metadata": {
    "pycharm": {
     "name": "#%% md\n"
    }
   },
   "source": [
    "# Importing Libraries"
   ]
  },
  {
   "cell_type": "code",
   "execution_count": 1,
   "id": "47900400",
   "metadata": {
    "pycharm": {
     "name": "#%%\n"
    }
   },
   "outputs": [],
   "source": [
    "import numpy as np\n",
    "import pandas as pd\n",
    "import matplotlib.pyplot as plt\n",
    "\n",
    "import seaborn as sns\n",
    "\n",
    "from sklearn.linear_model import LogisticRegression, LinearRegression\n",
    "from sklearn.metrics import confusion_matrix, accuracy_score, precision_score, recall_score, roc_auc_score, classification_report, roc_curve\n",
    "from sklearn.model_selection import GridSearchCV, train_test_split\n",
    "from sklearn.preprocessing import StandardScaler, MinMaxScaler\n",
    "from sklearn.svm import SVC\n",
    "from sklearn.ensemble import RandomForestClassifier, GradientBoostingClassifier\n",
    "from sklearn.feature_selection import chi2, SelectKBest\n",
    "from mlxtend.feature_selection import SequentialFeatureSelector as sfs\n",
    "\n",
    "import tensorflow as tf\n",
    "from scikeras.wrappers import KerasClassifier\n",
    "\n",
    "from xgboost import XGBClassifier\n",
    "\n",
    "from imblearn.over_sampling import SMOTE"
   ]
  },
  {
   "cell_type": "markdown",
   "id": "1fb039f2",
   "metadata": {
    "pycharm": {
     "name": "#%% md\n"
    }
   },
   "source": [
    "# Exploratory Data Analysis"
   ]
  },
  {
   "cell_type": "code",
   "execution_count": 2,
   "id": "439709aa",
   "metadata": {
    "pycharm": {
     "name": "#%%\n"
    }
   },
   "outputs": [
    {
     "data": {
      "text/plain": "    LIMIT_BAL  SEX  EDUCATION  MARRIAGE  AGE  PAY_0  PAY_2  PAY_3  PAY_4  \\\nID                                                                         \n1       20000    2          2         1   24      2      2     -1     -1   \n2      120000    2          2         2   26     -1      2      0      0   \n3       90000    2          2         2   34      0      0      0      0   \n4       50000    2          2         1   37      0      0      0      0   \n5       50000    1          2         1   57     -1      0     -1      0   \n\n    PAY_5  ...  BILL_AMT4  BILL_AMT5  BILL_AMT6  PAY_AMT1  PAY_AMT2  PAY_AMT3  \\\nID         ...                                                                  \n1      -2  ...          0          0          0         0       689         0   \n2       0  ...       3272       3455       3261         0      1000      1000   \n3       0  ...      14331      14948      15549      1518      1500      1000   \n4       0  ...      28314      28959      29547      2000      2019      1200   \n5       0  ...      20940      19146      19131      2000     36681     10000   \n\n    PAY_AMT4  PAY_AMT5  PAY_AMT6  default payment next month  \nID                                                            \n1          0         0         0                           1  \n2       1000         0      2000                           1  \n3       1000      1000      5000                           0  \n4       1100      1069      1000                           0  \n5       9000       689       679                           0  \n\n[5 rows x 24 columns]",
      "text/html": "<div>\n<style scoped>\n    .dataframe tbody tr th:only-of-type {\n        vertical-align: middle;\n    }\n\n    .dataframe tbody tr th {\n        vertical-align: top;\n    }\n\n    .dataframe thead th {\n        text-align: right;\n    }\n</style>\n<table border=\"1\" class=\"dataframe\">\n  <thead>\n    <tr style=\"text-align: right;\">\n      <th></th>\n      <th>LIMIT_BAL</th>\n      <th>SEX</th>\n      <th>EDUCATION</th>\n      <th>MARRIAGE</th>\n      <th>AGE</th>\n      <th>PAY_0</th>\n      <th>PAY_2</th>\n      <th>PAY_3</th>\n      <th>PAY_4</th>\n      <th>PAY_5</th>\n      <th>...</th>\n      <th>BILL_AMT4</th>\n      <th>BILL_AMT5</th>\n      <th>BILL_AMT6</th>\n      <th>PAY_AMT1</th>\n      <th>PAY_AMT2</th>\n      <th>PAY_AMT3</th>\n      <th>PAY_AMT4</th>\n      <th>PAY_AMT5</th>\n      <th>PAY_AMT6</th>\n      <th>default payment next month</th>\n    </tr>\n    <tr>\n      <th>ID</th>\n      <th></th>\n      <th></th>\n      <th></th>\n      <th></th>\n      <th></th>\n      <th></th>\n      <th></th>\n      <th></th>\n      <th></th>\n      <th></th>\n      <th></th>\n      <th></th>\n      <th></th>\n      <th></th>\n      <th></th>\n      <th></th>\n      <th></th>\n      <th></th>\n      <th></th>\n      <th></th>\n      <th></th>\n    </tr>\n  </thead>\n  <tbody>\n    <tr>\n      <th>1</th>\n      <td>20000</td>\n      <td>2</td>\n      <td>2</td>\n      <td>1</td>\n      <td>24</td>\n      <td>2</td>\n      <td>2</td>\n      <td>-1</td>\n      <td>-1</td>\n      <td>-2</td>\n      <td>...</td>\n      <td>0</td>\n      <td>0</td>\n      <td>0</td>\n      <td>0</td>\n      <td>689</td>\n      <td>0</td>\n      <td>0</td>\n      <td>0</td>\n      <td>0</td>\n      <td>1</td>\n    </tr>\n    <tr>\n      <th>2</th>\n      <td>120000</td>\n      <td>2</td>\n      <td>2</td>\n      <td>2</td>\n      <td>26</td>\n      <td>-1</td>\n      <td>2</td>\n      <td>0</td>\n      <td>0</td>\n      <td>0</td>\n      <td>...</td>\n      <td>3272</td>\n      <td>3455</td>\n      <td>3261</td>\n      <td>0</td>\n      <td>1000</td>\n      <td>1000</td>\n      <td>1000</td>\n      <td>0</td>\n      <td>2000</td>\n      <td>1</td>\n    </tr>\n    <tr>\n      <th>3</th>\n      <td>90000</td>\n      <td>2</td>\n      <td>2</td>\n      <td>2</td>\n      <td>34</td>\n      <td>0</td>\n      <td>0</td>\n      <td>0</td>\n      <td>0</td>\n      <td>0</td>\n      <td>...</td>\n      <td>14331</td>\n      <td>14948</td>\n      <td>15549</td>\n      <td>1518</td>\n      <td>1500</td>\n      <td>1000</td>\n      <td>1000</td>\n      <td>1000</td>\n      <td>5000</td>\n      <td>0</td>\n    </tr>\n    <tr>\n      <th>4</th>\n      <td>50000</td>\n      <td>2</td>\n      <td>2</td>\n      <td>1</td>\n      <td>37</td>\n      <td>0</td>\n      <td>0</td>\n      <td>0</td>\n      <td>0</td>\n      <td>0</td>\n      <td>...</td>\n      <td>28314</td>\n      <td>28959</td>\n      <td>29547</td>\n      <td>2000</td>\n      <td>2019</td>\n      <td>1200</td>\n      <td>1100</td>\n      <td>1069</td>\n      <td>1000</td>\n      <td>0</td>\n    </tr>\n    <tr>\n      <th>5</th>\n      <td>50000</td>\n      <td>1</td>\n      <td>2</td>\n      <td>1</td>\n      <td>57</td>\n      <td>-1</td>\n      <td>0</td>\n      <td>-1</td>\n      <td>0</td>\n      <td>0</td>\n      <td>...</td>\n      <td>20940</td>\n      <td>19146</td>\n      <td>19131</td>\n      <td>2000</td>\n      <td>36681</td>\n      <td>10000</td>\n      <td>9000</td>\n      <td>689</td>\n      <td>679</td>\n      <td>0</td>\n    </tr>\n  </tbody>\n</table>\n<p>5 rows × 24 columns</p>\n</div>"
     },
     "execution_count": 2,
     "metadata": {},
     "output_type": "execute_result"
    }
   ],
   "source": [
    "data = pd.read_csv(\"./card.csv\", index_col=0, header=1)\n",
    "\n",
    "data.head()"
   ]
  },
  {
   "cell_type": "code",
   "execution_count": 3,
   "id": "23878bda",
   "metadata": {
    "pycharm": {
     "name": "#%%\n"
    }
   },
   "outputs": [
    {
     "name": "stdout",
     "output_type": "stream",
     "text": [
      "<class 'pandas.core.frame.DataFrame'>\n",
      "Int64Index: 30000 entries, 1 to 30000\n",
      "Data columns (total 24 columns):\n",
      " #   Column                      Non-Null Count  Dtype\n",
      "---  ------                      --------------  -----\n",
      " 0   LIMIT_BAL                   30000 non-null  int64\n",
      " 1   SEX                         30000 non-null  int64\n",
      " 2   EDUCATION                   30000 non-null  int64\n",
      " 3   MARRIAGE                    30000 non-null  int64\n",
      " 4   AGE                         30000 non-null  int64\n",
      " 5   PAY_0                       30000 non-null  int64\n",
      " 6   PAY_2                       30000 non-null  int64\n",
      " 7   PAY_3                       30000 non-null  int64\n",
      " 8   PAY_4                       30000 non-null  int64\n",
      " 9   PAY_5                       30000 non-null  int64\n",
      " 10  PAY_6                       30000 non-null  int64\n",
      " 11  BILL_AMT1                   30000 non-null  int64\n",
      " 12  BILL_AMT2                   30000 non-null  int64\n",
      " 13  BILL_AMT3                   30000 non-null  int64\n",
      " 14  BILL_AMT4                   30000 non-null  int64\n",
      " 15  BILL_AMT5                   30000 non-null  int64\n",
      " 16  BILL_AMT6                   30000 non-null  int64\n",
      " 17  PAY_AMT1                    30000 non-null  int64\n",
      " 18  PAY_AMT2                    30000 non-null  int64\n",
      " 19  PAY_AMT3                    30000 non-null  int64\n",
      " 20  PAY_AMT4                    30000 non-null  int64\n",
      " 21  PAY_AMT5                    30000 non-null  int64\n",
      " 22  PAY_AMT6                    30000 non-null  int64\n",
      " 23  default payment next month  30000 non-null  int64\n",
      "dtypes: int64(24)\n",
      "memory usage: 5.7 MB\n"
     ]
    }
   ],
   "source": [
    "data.info()"
   ]
  },
  {
   "cell_type": "code",
   "execution_count": 4,
   "id": "4f7a4556",
   "metadata": {
    "pycharm": {
     "name": "#%%\n"
    }
   },
   "outputs": [
    {
     "data": {
      "text/plain": "            LIMIT_BAL           SEX     EDUCATION      MARRIAGE           AGE  \\\ncount    30000.000000  30000.000000  30000.000000  30000.000000  30000.000000   \nmean    167484.322667      1.603733      1.853133      1.551867     35.485500   \nstd     129747.661567      0.489129      0.790349      0.521970      9.217904   \nmin      10000.000000      1.000000      0.000000      0.000000     21.000000   \n25%      50000.000000      1.000000      1.000000      1.000000     28.000000   \n50%     140000.000000      2.000000      2.000000      2.000000     34.000000   \n75%     240000.000000      2.000000      2.000000      2.000000     41.000000   \nmax    1000000.000000      2.000000      6.000000      3.000000     79.000000   \n\n              PAY_0         PAY_2         PAY_3         PAY_4         PAY_5  \\\ncount  30000.000000  30000.000000  30000.000000  30000.000000  30000.000000   \nmean      -0.016700     -0.133767     -0.166200     -0.220667     -0.266200   \nstd        1.123802      1.197186      1.196868      1.169139      1.133187   \nmin       -2.000000     -2.000000     -2.000000     -2.000000     -2.000000   \n25%       -1.000000     -1.000000     -1.000000     -1.000000     -1.000000   \n50%        0.000000      0.000000      0.000000      0.000000      0.000000   \n75%        0.000000      0.000000      0.000000      0.000000      0.000000   \nmax        8.000000      8.000000      8.000000      8.000000      8.000000   \n\n       ...      BILL_AMT4      BILL_AMT5      BILL_AMT6       PAY_AMT1  \\\ncount  ...   30000.000000   30000.000000   30000.000000   30000.000000   \nmean   ...   43262.948967   40311.400967   38871.760400    5663.580500   \nstd    ...   64332.856134   60797.155770   59554.107537   16563.280354   \nmin    ... -170000.000000  -81334.000000 -339603.000000       0.000000   \n25%    ...    2326.750000    1763.000000    1256.000000    1000.000000   \n50%    ...   19052.000000   18104.500000   17071.000000    2100.000000   \n75%    ...   54506.000000   50190.500000   49198.250000    5006.000000   \nmax    ...  891586.000000  927171.000000  961664.000000  873552.000000   \n\n           PAY_AMT2      PAY_AMT3       PAY_AMT4       PAY_AMT5  \\\ncount  3.000000e+04   30000.00000   30000.000000   30000.000000   \nmean   5.921163e+03    5225.68150    4826.076867    4799.387633   \nstd    2.304087e+04   17606.96147   15666.159744   15278.305679   \nmin    0.000000e+00       0.00000       0.000000       0.000000   \n25%    8.330000e+02     390.00000     296.000000     252.500000   \n50%    2.009000e+03    1800.00000    1500.000000    1500.000000   \n75%    5.000000e+03    4505.00000    4013.250000    4031.500000   \nmax    1.684259e+06  896040.00000  621000.000000  426529.000000   \n\n            PAY_AMT6  default payment next month  \ncount   30000.000000                30000.000000  \nmean     5215.502567                    0.221200  \nstd     17777.465775                    0.415062  \nmin         0.000000                    0.000000  \n25%       117.750000                    0.000000  \n50%      1500.000000                    0.000000  \n75%      4000.000000                    0.000000  \nmax    528666.000000                    1.000000  \n\n[8 rows x 24 columns]",
      "text/html": "<div>\n<style scoped>\n    .dataframe tbody tr th:only-of-type {\n        vertical-align: middle;\n    }\n\n    .dataframe tbody tr th {\n        vertical-align: top;\n    }\n\n    .dataframe thead th {\n        text-align: right;\n    }\n</style>\n<table border=\"1\" class=\"dataframe\">\n  <thead>\n    <tr style=\"text-align: right;\">\n      <th></th>\n      <th>LIMIT_BAL</th>\n      <th>SEX</th>\n      <th>EDUCATION</th>\n      <th>MARRIAGE</th>\n      <th>AGE</th>\n      <th>PAY_0</th>\n      <th>PAY_2</th>\n      <th>PAY_3</th>\n      <th>PAY_4</th>\n      <th>PAY_5</th>\n      <th>...</th>\n      <th>BILL_AMT4</th>\n      <th>BILL_AMT5</th>\n      <th>BILL_AMT6</th>\n      <th>PAY_AMT1</th>\n      <th>PAY_AMT2</th>\n      <th>PAY_AMT3</th>\n      <th>PAY_AMT4</th>\n      <th>PAY_AMT5</th>\n      <th>PAY_AMT6</th>\n      <th>default payment next month</th>\n    </tr>\n  </thead>\n  <tbody>\n    <tr>\n      <th>count</th>\n      <td>30000.000000</td>\n      <td>30000.000000</td>\n      <td>30000.000000</td>\n      <td>30000.000000</td>\n      <td>30000.000000</td>\n      <td>30000.000000</td>\n      <td>30000.000000</td>\n      <td>30000.000000</td>\n      <td>30000.000000</td>\n      <td>30000.000000</td>\n      <td>...</td>\n      <td>30000.000000</td>\n      <td>30000.000000</td>\n      <td>30000.000000</td>\n      <td>30000.000000</td>\n      <td>3.000000e+04</td>\n      <td>30000.00000</td>\n      <td>30000.000000</td>\n      <td>30000.000000</td>\n      <td>30000.000000</td>\n      <td>30000.000000</td>\n    </tr>\n    <tr>\n      <th>mean</th>\n      <td>167484.322667</td>\n      <td>1.603733</td>\n      <td>1.853133</td>\n      <td>1.551867</td>\n      <td>35.485500</td>\n      <td>-0.016700</td>\n      <td>-0.133767</td>\n      <td>-0.166200</td>\n      <td>-0.220667</td>\n      <td>-0.266200</td>\n      <td>...</td>\n      <td>43262.948967</td>\n      <td>40311.400967</td>\n      <td>38871.760400</td>\n      <td>5663.580500</td>\n      <td>5.921163e+03</td>\n      <td>5225.68150</td>\n      <td>4826.076867</td>\n      <td>4799.387633</td>\n      <td>5215.502567</td>\n      <td>0.221200</td>\n    </tr>\n    <tr>\n      <th>std</th>\n      <td>129747.661567</td>\n      <td>0.489129</td>\n      <td>0.790349</td>\n      <td>0.521970</td>\n      <td>9.217904</td>\n      <td>1.123802</td>\n      <td>1.197186</td>\n      <td>1.196868</td>\n      <td>1.169139</td>\n      <td>1.133187</td>\n      <td>...</td>\n      <td>64332.856134</td>\n      <td>60797.155770</td>\n      <td>59554.107537</td>\n      <td>16563.280354</td>\n      <td>2.304087e+04</td>\n      <td>17606.96147</td>\n      <td>15666.159744</td>\n      <td>15278.305679</td>\n      <td>17777.465775</td>\n      <td>0.415062</td>\n    </tr>\n    <tr>\n      <th>min</th>\n      <td>10000.000000</td>\n      <td>1.000000</td>\n      <td>0.000000</td>\n      <td>0.000000</td>\n      <td>21.000000</td>\n      <td>-2.000000</td>\n      <td>-2.000000</td>\n      <td>-2.000000</td>\n      <td>-2.000000</td>\n      <td>-2.000000</td>\n      <td>...</td>\n      <td>-170000.000000</td>\n      <td>-81334.000000</td>\n      <td>-339603.000000</td>\n      <td>0.000000</td>\n      <td>0.000000e+00</td>\n      <td>0.00000</td>\n      <td>0.000000</td>\n      <td>0.000000</td>\n      <td>0.000000</td>\n      <td>0.000000</td>\n    </tr>\n    <tr>\n      <th>25%</th>\n      <td>50000.000000</td>\n      <td>1.000000</td>\n      <td>1.000000</td>\n      <td>1.000000</td>\n      <td>28.000000</td>\n      <td>-1.000000</td>\n      <td>-1.000000</td>\n      <td>-1.000000</td>\n      <td>-1.000000</td>\n      <td>-1.000000</td>\n      <td>...</td>\n      <td>2326.750000</td>\n      <td>1763.000000</td>\n      <td>1256.000000</td>\n      <td>1000.000000</td>\n      <td>8.330000e+02</td>\n      <td>390.00000</td>\n      <td>296.000000</td>\n      <td>252.500000</td>\n      <td>117.750000</td>\n      <td>0.000000</td>\n    </tr>\n    <tr>\n      <th>50%</th>\n      <td>140000.000000</td>\n      <td>2.000000</td>\n      <td>2.000000</td>\n      <td>2.000000</td>\n      <td>34.000000</td>\n      <td>0.000000</td>\n      <td>0.000000</td>\n      <td>0.000000</td>\n      <td>0.000000</td>\n      <td>0.000000</td>\n      <td>...</td>\n      <td>19052.000000</td>\n      <td>18104.500000</td>\n      <td>17071.000000</td>\n      <td>2100.000000</td>\n      <td>2.009000e+03</td>\n      <td>1800.00000</td>\n      <td>1500.000000</td>\n      <td>1500.000000</td>\n      <td>1500.000000</td>\n      <td>0.000000</td>\n    </tr>\n    <tr>\n      <th>75%</th>\n      <td>240000.000000</td>\n      <td>2.000000</td>\n      <td>2.000000</td>\n      <td>2.000000</td>\n      <td>41.000000</td>\n      <td>0.000000</td>\n      <td>0.000000</td>\n      <td>0.000000</td>\n      <td>0.000000</td>\n      <td>0.000000</td>\n      <td>...</td>\n      <td>54506.000000</td>\n      <td>50190.500000</td>\n      <td>49198.250000</td>\n      <td>5006.000000</td>\n      <td>5.000000e+03</td>\n      <td>4505.00000</td>\n      <td>4013.250000</td>\n      <td>4031.500000</td>\n      <td>4000.000000</td>\n      <td>0.000000</td>\n    </tr>\n    <tr>\n      <th>max</th>\n      <td>1000000.000000</td>\n      <td>2.000000</td>\n      <td>6.000000</td>\n      <td>3.000000</td>\n      <td>79.000000</td>\n      <td>8.000000</td>\n      <td>8.000000</td>\n      <td>8.000000</td>\n      <td>8.000000</td>\n      <td>8.000000</td>\n      <td>...</td>\n      <td>891586.000000</td>\n      <td>927171.000000</td>\n      <td>961664.000000</td>\n      <td>873552.000000</td>\n      <td>1.684259e+06</td>\n      <td>896040.00000</td>\n      <td>621000.000000</td>\n      <td>426529.000000</td>\n      <td>528666.000000</td>\n      <td>1.000000</td>\n    </tr>\n  </tbody>\n</table>\n<p>8 rows × 24 columns</p>\n</div>"
     },
     "execution_count": 4,
     "metadata": {},
     "output_type": "execute_result"
    }
   ],
   "source": [
    "data.describe()"
   ]
  },
  {
   "cell_type": "markdown",
   "id": "17c78dbd",
   "metadata": {
    "pycharm": {
     "name": "#%% md\n"
    }
   },
   "source": [
    "From the output above, we observe that there are no missing data entries in the dataset, however, there are potential outliers that will have to be cleaned later on."
   ]
  },
  {
   "cell_type": "code",
   "execution_count": 5,
   "id": "502ac584",
   "metadata": {
    "pycharm": {
     "name": "#%%\n"
    }
   },
   "outputs": [],
   "source": [
    "## Renaming Target Variable Column\n",
    "data.rename(columns={\"default payment next month\": \"default\"}, inplace=True)"
   ]
  },
  {
   "cell_type": "code",
   "execution_count": 6,
   "id": "da9a68c0",
   "metadata": {
    "pycharm": {
     "name": "#%%\n"
    }
   },
   "outputs": [],
   "source": [
    "## Renaming \"PAY_0\" to \"PAY_1\" for consistency\n",
    "data.rename(columns={\"PAY_0\" : \"PAY_1\"}, inplace=True)"
   ]
  },
  {
   "cell_type": "markdown",
   "id": "3e336f27",
   "metadata": {
    "pycharm": {
     "name": "#%% md\n"
    }
   },
   "source": [
    "## Analysis of the Target Variable (Default)"
   ]
  },
  {
   "cell_type": "code",
   "execution_count": 7,
   "id": "fdc68927",
   "metadata": {
    "pycharm": {
     "name": "#%%\n"
    }
   },
   "outputs": [
    {
     "data": {
      "text/plain": "<seaborn.axisgrid.FacetGrid at 0x298abda30>"
     },
     "execution_count": 7,
     "metadata": {},
     "output_type": "execute_result"
    },
    {
     "data": {
      "text/plain": "<Figure size 648x432 with 1 Axes>",
      "image/png": "[encoded data removed]"
     },
     "metadata": {
      "needs_background": "light"
     },
     "output_type": "display_data"
    }
   ],
   "source": [
    "default = data[[\"default\"]]\n",
    "default = default.replace({1:\"Yes\", 0:\"No\"})\n",
    "sns.catplot(data=default, x=\"default\", height=6, aspect=1.5, kind=\"count\")"
   ]
  },
  {
   "cell_type": "markdown",
   "id": "e93c255b",
   "metadata": {
    "pycharm": {
     "name": "#%% md\n"
    }
   },
   "source": [
    "We observe that the number of defaulters is significantly lesser than the amount of non defaulters in the given dataset"
   ]
  },
  {
   "cell_type": "markdown",
   "id": "85b71bda",
   "metadata": {
    "pycharm": {
     "name": "#%% md\n"
    }
   },
   "source": [
    "## Analysis of amount of given credit (LIMIT_BAL)"
   ]
  },
  {
   "cell_type": "code",
   "execution_count": 8,
   "id": "bd147f4f",
   "metadata": {
    "pycharm": {
     "name": "#%%\n"
    }
   },
   "outputs": [
    {
     "data": {
      "text/plain": "<seaborn.axisgrid.FacetGrid at 0x298f9b520>"
     },
     "execution_count": 8,
     "metadata": {},
     "output_type": "execute_result"
    },
    {
     "data": {
      "text/plain": "<Figure size 900x600 with 1 Axes>",
      "image/png": "[encoded data removed]"
     },
     "metadata": {},
     "output_type": "display_data"
    }
   ],
   "source": [
    "sns.displot(data=data, x=\"LIMIT_BAL\", height=6, aspect=1.5)"
   ]
  },
  {
   "cell_type": "markdown",
   "id": "45ee9457",
   "metadata": {
    "pycharm": {
     "name": "#%% md\n"
    }
   },
   "source": [
    "The amount of credit given to card-holders is not normally distributed. It is right skewed."
   ]
  },
  {
   "cell_type": "markdown",
   "id": "64f4ba30",
   "metadata": {
    "pycharm": {
     "name": "#%% md\n"
    }
   },
   "source": [
    "## Analysis on SEX"
   ]
  },
  {
   "cell_type": "code",
   "execution_count": 9,
   "id": "51666469",
   "metadata": {
    "pycharm": {
     "name": "#%%\n"
    }
   },
   "outputs": [
    {
     "data": {
      "text/plain": "Female    18112\nMale      11888\nName: SEX, dtype: int64"
     },
     "execution_count": 9,
     "metadata": {},
     "output_type": "execute_result"
    }
   ],
   "source": [
    "sex = data[\"SEX\"].replace({1:\"Male\", 2:\"Female\"})\n",
    "sex.value_counts()"
   ]
  },
  {
   "cell_type": "code",
   "execution_count": 10,
   "id": "103c47d7",
   "metadata": {
    "pycharm": {
     "name": "#%%\n"
    }
   },
   "outputs": [],
   "source": [
    "sex = sex.reset_index()"
   ]
  },
  {
   "cell_type": "code",
   "execution_count": 11,
   "id": "c18a9f2e",
   "metadata": {
    "pycharm": {
     "name": "#%%\n"
    }
   },
   "outputs": [
    {
     "data": {
      "text/plain": "<seaborn.axisgrid.FacetGrid at 0x298eda850>"
     },
     "execution_count": 11,
     "metadata": {},
     "output_type": "execute_result"
    },
    {
     "data": {
      "text/plain": "<Figure size 900x600 with 1 Axes>",
      "image/png": "[encoded data removed]"
     },
     "metadata": {},
     "output_type": "display_data"
    }
   ],
   "source": [
    "sns.catplot(data=sex, x=\"SEX\", kind=\"count\", height=6, aspect=1.5)"
   ]
  },
  {
   "cell_type": "code",
   "execution_count": 12,
   "id": "7b3ff777",
   "metadata": {
    "pycharm": {
     "name": "#%%\n"
    }
   },
   "outputs": [
    {
     "data": {
      "text/plain": "1    18112\n0    11888\nName: SEX, dtype: int64"
     },
     "execution_count": 12,
     "metadata": {},
     "output_type": "execute_result"
    }
   ],
   "source": [
    "# convert the \"SEX\" column to map 0=male, 1=female instead of 1=male, 2=female\n",
    "data[\"SEX\"] = data[\"SEX\"] - 1\n",
    "data[\"SEX\"].value_counts()"
   ]
  },
  {
   "cell_type": "markdown",
   "id": "17aeeb0a",
   "metadata": {
    "pycharm": {
     "name": "#%% md\n"
    }
   },
   "source": [
    "## Analysis on Education"
   ]
  },
  {
   "cell_type": "code",
   "execution_count": 13,
   "id": "9c927774",
   "metadata": {
    "pycharm": {
     "name": "#%%\n"
    }
   },
   "outputs": [
    {
     "data": {
      "text/plain": "<seaborn.axisgrid.FacetGrid at 0x299190e50>"
     },
     "execution_count": 13,
     "metadata": {},
     "output_type": "execute_result"
    },
    {
     "data": {
      "text/plain": "<Figure size 900x600 with 1 Axes>",
      "image/png": "[encoded data removed]"
     },
     "metadata": {},
     "output_type": "display_data"
    }
   ],
   "source": [
    "sns.catplot(data=data, kind=\"count\", x=\"EDUCATION\", height=6, aspect=1.5)"
   ]
  },
  {
   "cell_type": "code",
   "execution_count": 14,
   "id": "f10d06a6",
   "metadata": {
    "pycharm": {
     "name": "#%%\n"
    }
   },
   "outputs": [
    {
     "data": {
      "text/plain": "2    14030\n1    10585\n3     4917\n4      468\nName: EDUCATION, dtype: int64"
     },
     "execution_count": 14,
     "metadata": {},
     "output_type": "execute_result"
    }
   ],
   "source": [
    "# We observe additional EDUCATION categories (0, 5, 6)\n",
    "# We will convert them to others (4)\n",
    "data[\"EDUCATION\"] = data[\"EDUCATION\"].replace({0:4, 5:4, 6:4})\n",
    "data['EDUCATION'].value_counts()"
   ]
  },
  {
   "cell_type": "code",
   "execution_count": 15,
   "id": "34f34855",
   "metadata": {
    "pycharm": {
     "name": "#%%\n"
    }
   },
   "outputs": [
    {
     "data": {
      "text/plain": "<seaborn.axisgrid.FacetGrid at 0x2991bad30>"
     },
     "execution_count": 15,
     "metadata": {},
     "output_type": "execute_result"
    },
    {
     "data": {
      "text/plain": "<Figure size 900x600 with 1 Axes>",
      "image/png": "[encoded data removed]"
     },
     "metadata": {},
     "output_type": "display_data"
    }
   ],
   "source": [
    "education = data[[\"EDUCATION\"]].replace({1:\"Graduate\", 2:\"University\", 3:\"High School\", 4:\"Others\"})\n",
    "sns.catplot(data=education, kind=\"count\", x=\"EDUCATION\", height=6, aspect=1.5)"
   ]
  },
  {
   "cell_type": "markdown",
   "id": "92ab0c85",
   "metadata": {
    "pycharm": {
     "name": "#%% md\n"
    }
   },
   "source": [
    "## Analysis of Marriage"
   ]
  },
  {
   "cell_type": "code",
   "execution_count": 16,
   "id": "2a3c2176",
   "metadata": {
    "pycharm": {
     "name": "#%%\n"
    }
   },
   "outputs": [
    {
     "data": {
      "text/plain": "<seaborn.axisgrid.FacetGrid at 0x2992b15b0>"
     },
     "execution_count": 16,
     "metadata": {},
     "output_type": "execute_result"
    },
    {
     "data": {
      "text/plain": "<Figure size 900x600 with 1 Axes>",
      "image/png": "[encoded data removed]"
     },
     "metadata": {},
     "output_type": "display_data"
    }
   ],
   "source": [
    "sns.catplot(data=data, kind=\"count\", x=\"MARRIAGE\", height=6, aspect=1.5)"
   ]
  },
  {
   "cell_type": "code",
   "execution_count": 17,
   "id": "b7333853",
   "metadata": {
    "pycharm": {
     "name": "#%%\n"
    }
   },
   "outputs": [
    {
     "data": {
      "text/plain": "2    15964\n1    13659\n3      377\nName: MARRIAGE, dtype: int64"
     },
     "execution_count": 17,
     "metadata": {},
     "output_type": "execute_result"
    }
   ],
   "source": [
    "# 0 value for marriage will be converted to 3 (others)\n",
    "data[\"MARRIAGE\"] = data[\"MARRIAGE\"].replace({0:3})\n",
    "data['MARRIAGE'].value_counts()"
   ]
  },
  {
   "cell_type": "code",
   "execution_count": 18,
   "id": "c19492e0",
   "metadata": {
    "pycharm": {
     "name": "#%%\n"
    }
   },
   "outputs": [
    {
     "data": {
      "text/plain": "<seaborn.axisgrid.FacetGrid at 0x299258790>"
     },
     "execution_count": 18,
     "metadata": {},
     "output_type": "execute_result"
    },
    {
     "data": {
      "text/plain": "<Figure size 900x600 with 1 Axes>",
      "image/png": "[encoded data removed]"
     },
     "metadata": {},
     "output_type": "display_data"
    }
   ],
   "source": [
    "marriage = data[[\"MARRIAGE\"]].replace({1:\"Married\", 2:\"Single\", 3:\"Others\"})\n",
    "sns.catplot(data=marriage, kind=\"count\", x=\"MARRIAGE\", height=6, aspect=1.5)"
   ]
  },
  {
   "cell_type": "markdown",
   "id": "89c7dce9",
   "metadata": {
    "pycharm": {
     "name": "#%% md\n"
    }
   },
   "source": [
    "## Analysis of Age"
   ]
  },
  {
   "cell_type": "code",
   "execution_count": 19,
   "id": "0c99a189",
   "metadata": {
    "pycharm": {
     "name": "#%%\n"
    }
   },
   "outputs": [
    {
     "data": {
      "text/plain": "count    30000.000000\nmean        35.485500\nstd          9.217904\nmin         21.000000\n25%         28.000000\n50%         34.000000\n75%         41.000000\nmax         79.000000\nName: AGE, dtype: float64"
     },
     "execution_count": 19,
     "metadata": {},
     "output_type": "execute_result"
    }
   ],
   "source": [
    "data[\"AGE\"].describe()"
   ]
  },
  {
   "cell_type": "code",
   "execution_count": 20,
   "id": "88c7ccf4",
   "metadata": {
    "pycharm": {
     "name": "#%%\n"
    }
   },
   "outputs": [
    {
     "data": {
      "text/plain": "<seaborn.axisgrid.FacetGrid at 0x2992c6850>"
     },
     "execution_count": 20,
     "metadata": {},
     "output_type": "execute_result"
    },
    {
     "data": {
      "text/plain": "<Figure size 900x600 with 1 Axes>",
      "image/png": "[encoded data removed]"
     },
     "metadata": {},
     "output_type": "display_data"
    }
   ],
   "source": [
    "# Age distribution looks approximately normally distributed\n",
    "sns.displot(data = data, x = \"AGE\", height=6, aspect=1.5, kde=True)"
   ]
  },
  {
   "cell_type": "markdown",
   "id": "da11904f",
   "metadata": {
    "pycharm": {
     "name": "#%% md\n"
    }
   },
   "source": [
    "## Investigating relationship between Limit Balance and Default"
   ]
  },
  {
   "cell_type": "code",
   "execution_count": 21,
   "id": "b3322d07",
   "metadata": {
    "pycharm": {
     "name": "#%%\n"
    }
   },
   "outputs": [
    {
     "data": {
      "text/plain": "<seaborn.axisgrid.FacetGrid at 0x154180e20>"
     },
     "execution_count": 21,
     "metadata": {},
     "output_type": "execute_result"
    },
    {
     "data": {
      "text/plain": "<Figure size 900x600 with 1 Axes>",
      "image/png": "[encoded data removed]"
     },
     "metadata": {},
     "output_type": "display_data"
    }
   ],
   "source": [
    "sns.catplot(data=data, x=\"default\", y=\"LIMIT_BAL\", kind=\"box\", height=6, aspect=1.5)"
   ]
  },
  {
   "cell_type": "markdown",
   "id": "e7253276",
   "metadata": {
    "pycharm": {
     "name": "#%% md\n"
    }
   },
   "source": [
    "We had expected defaulters to have been given a higher credit, but the boxplot does not seem to show such a relationship"
   ]
  },
  {
   "cell_type": "markdown",
   "id": "48cc7b02",
   "metadata": {
    "pycharm": {
     "name": "#%% md\n"
    }
   },
   "source": [
    "## Investigating relationship between AGE and Default"
   ]
  },
  {
   "cell_type": "code",
   "execution_count": 22,
   "id": "4973db88",
   "metadata": {
    "pycharm": {
     "name": "#%%\n"
    }
   },
   "outputs": [
    {
     "data": {
      "text/plain": "<seaborn.axisgrid.FacetGrid at 0x299224cd0>"
     },
     "execution_count": 22,
     "metadata": {},
     "output_type": "execute_result"
    },
    {
     "data": {
      "text/plain": "<Figure size 900x600 with 1 Axes>",
      "image/png": "[encoded data removed]"
     },
     "metadata": {},
     "output_type": "display_data"
    }
   ],
   "source": [
    "sns.catplot(data=data, y=\"AGE\", x=\"default\", kind=\"box\", height=6, aspect=1.5)"
   ]
  },
  {
   "cell_type": "markdown",
   "id": "0b5c6f05",
   "metadata": {
    "pycharm": {
     "name": "#%% md\n"
    }
   },
   "source": [
    "Whether a person defaults on his payment or not does not seem to be influenced by a person's age"
   ]
  },
  {
   "cell_type": "markdown",
   "id": "f1ae667b",
   "metadata": {
    "pycharm": {
     "name": "#%% md\n"
    }
   },
   "source": [
    "## Investigating relationship between Sex and Defaults"
   ]
  },
  {
   "cell_type": "code",
   "execution_count": 23,
   "id": "edc96677",
   "metadata": {
    "pycharm": {
     "name": "#%%\n"
    }
   },
   "outputs": [
    {
     "data": {
      "text/plain": "<seaborn.axisgrid.FacetGrid at 0x299190d00>"
     },
     "execution_count": 23,
     "metadata": {},
     "output_type": "execute_result"
    },
    {
     "data": {
      "text/plain": "<Figure size 912.625x600 with 1 Axes>",
      "image/png": "[encoded data removed]"
     },
     "metadata": {},
     "output_type": "display_data"
    }
   ],
   "source": [
    "# creating proportions\n",
    "sex_default = data[\"default\"].groupby(data[\"SEX\"]).value_counts(normalize=True).rename(\"proportion\").reset_index()\n",
    "\n",
    "# renaming\n",
    "sex_default[\"SEX\"] = sex_default[[\"SEX\"]].replace({0:\"Male\", 1:\"Female\"})\n",
    "sex_default[\"default\"] = sex_default[[\"default\"]].replace({0:\"No\", 1:\"Yes\"})\n",
    "\n",
    "# plotting\n",
    "sns.catplot(data=sex_default, x=\"SEX\", y=\"proportion\", kind=\"bar\", hue=\"default\", height=6, aspect = 1.4)\n",
    "\n",
    "## Stacked\n",
    "# sex_default.pivot(index=\"SEX\", columns = [\"default\"], values=\"proportion\").plot(kind='bar', stacked=True, color=['steelblue', 'red'])"
   ]
  },
  {
   "cell_type": "markdown",
   "id": "3618e6d7",
   "metadata": {
    "pycharm": {
     "name": "#%% md\n"
    }
   },
   "source": [
    "It would appear from the barplot, that a larger proportion of males (1) default as compared to females (2)."
   ]
  },
  {
   "cell_type": "markdown",
   "id": "88a9c877",
   "metadata": {
    "pycharm": {
     "name": "#%% md\n"
    }
   },
   "source": [
    "## Investigating relationship between Education and Default"
   ]
  },
  {
   "cell_type": "code",
   "execution_count": 24,
   "id": "d8185ecb",
   "metadata": {
    "pycharm": {
     "name": "#%%\n"
    }
   },
   "outputs": [
    {
     "data": {
      "text/plain": "<seaborn.axisgrid.FacetGrid at 0x29cdf7340>"
     },
     "execution_count": 24,
     "metadata": {},
     "output_type": "execute_result"
    },
    {
     "data": {
      "text/plain": "<Figure size 912.625x600 with 1 Axes>",
      "image/png": "[encoded data removed]"
     },
     "metadata": {},
     "output_type": "display_data"
    }
   ],
   "source": [
    "# creating proportions\n",
    "edu_default = data[\"default\"].groupby(data[\"EDUCATION\"]).value_counts(normalize=True).rename(\"proportion\").reset_index()\n",
    "\n",
    "# renaming\n",
    "edu_default[\"EDUCATION\"] = edu_default[[\"EDUCATION\"]].replace({1:\"Graduate\", 2:\"University\", 3:\"High School\", 4:\"Others\"})\n",
    "edu_default[\"default\"] = edu_default[[\"default\"]].replace({0:\"No\", 1:\"Yes\"})\n",
    "\n",
    "# plotting\n",
    "sns.catplot(data=edu_default, x=\"EDUCATION\", y=\"proportion\", kind=\"bar\", hue=\"default\", height=6, aspect = 1.4)"
   ]
  },
  {
   "cell_type": "markdown",
   "id": "ad8a08cc",
   "metadata": {
    "pycharm": {
     "name": "#%% md\n"
    }
   },
   "source": [
    "From the proportion barplot as shown above, there is a higher proportion of people who are defaulting if their education levels is 2 (university), 3 (high school),\n",
    "compared to those who have education levels of 1 (graduate school) or 4 (others)."
   ]
  },
  {
   "cell_type": "markdown",
   "id": "c61a401c",
   "metadata": {
    "pycharm": {
     "name": "#%% md\n"
    }
   },
   "source": [
    "## Investigating relationship between Marital Status and Default"
   ]
  },
  {
   "cell_type": "code",
   "execution_count": 25,
   "id": "f46e9773",
   "metadata": {
    "pycharm": {
     "name": "#%%\n"
    }
   },
   "outputs": [
    {
     "data": {
      "text/plain": "<Figure size 912.625x600 with 1 Axes>",
      "image/png": "[encoded data removed]"
     },
     "metadata": {},
     "output_type": "display_data"
    }
   ],
   "source": [
    "# creating proportions\n",
    "marriage_default = data[\"default\"].groupby(data[\"MARRIAGE\"]).value_counts(normalize=True).rename(\"proportion\").reset_index()\n",
    "\n",
    "# renaming\n",
    "marriage_default[\"MARRIAGE\"] = marriage_default[\"MARRIAGE\"].replace({3: \"Others\", 2:\"Single\", 1:\"Married\"})\n",
    "marriage_default[\"default\"] = marriage_default[\"default\"].replace({1: \"Yes\", 0: \"No\"})\n",
    "\n",
    "# plotting\n",
    "sns.catplot(data=marriage_default, x=\"MARRIAGE\", y=\"proportion\", kind=\"bar\", hue=\"default\", height=6, aspect = 1.4);"
   ]
  },
  {
   "cell_type": "markdown",
   "id": "2ebb1e5f",
   "metadata": {
    "pycharm": {
     "name": "#%% md\n"
    }
   },
   "source": [
    "From the proportion barplots as shown above, it would seem that people who are married (1) are more likely to default on their payments as compared to those who are single."
   ]
  },
  {
   "cell_type": "markdown",
   "id": "07824e4b",
   "metadata": {
    "pycharm": {
     "name": "#%% md\n"
    }
   },
   "source": [
    "## Analysis on Repayment Status for 6 months, from April - September 2005"
   ]
  },
  {
   "cell_type": "code",
   "execution_count": 26,
   "id": "aeebd7c8",
   "metadata": {
    "pycharm": {
     "name": "#%%\n"
    }
   },
   "outputs": [
    {
     "data": {
      "text/plain": "<Figure size 1700x1000 with 6 Axes>",
      "image/png": "[encoded data removed]"
     },
     "metadata": {},
     "output_type": "display_data"
    }
   ],
   "source": [
    "fig, ax = plt.subplots(nrows = 2, ncols = 3, figsize = (17, 10))\n",
    "sns.countplot(x = \"PAY_1\", hue = \"default\", data = data, ax = ax[0, 0])\n",
    "sns.countplot(x = \"PAY_2\", hue = \"default\", data = data, ax = ax[0, 1])\n",
    "sns.countplot(x = \"PAY_3\", hue = \"default\", data = data, ax = ax[0, 2])\n",
    "sns.countplot(x = \"PAY_4\", hue = \"default\", data = data, ax = ax[1, 0])\n",
    "sns.countplot(x = \"PAY_5\", hue = \"default\", data = data, ax = ax[1, 1])\n",
    "sns.countplot(x = \"PAY_6\", hue = \"default\", data = data, ax = ax[1, 2])\n",
    "plt.show()"
   ]
  },
  {
   "cell_type": "markdown",
   "id": "fa71125a",
   "metadata": {
    "pycharm": {
     "name": "#%% md\n"
    }
   },
   "source": [
    "Majority of non-defaulters pay on time indicated by the 0 value. However, we can observe that those who pay late are more likely to be defaulters (orange bar is larger than blue bar). As such, we will merge payments that are 1, 2 ... 8 as late, indicated by 1, and payments that are on time , -2, -1, 0, as on time, indicated by 0."
   ]
  },
  {
   "cell_type": "code",
   "execution_count": 27,
   "id": "fdfa2d28",
   "metadata": {
    "pycharm": {
     "name": "#%%\n"
    }
   },
   "outputs": [
    {
     "data": {
      "text/plain": "    LIMIT_BAL  SEX  EDUCATION  MARRIAGE  AGE  PAY_1  PAY_2  PAY_3  PAY_4  \\\nID                                                                         \n1       20000    1          2         1   24      1      1      0      0   \n2      120000    1          2         2   26      0      1      0      0   \n3       90000    1          2         2   34      0      0      0      0   \n4       50000    1          2         1   37      0      0      0      0   \n5       50000    0          2         1   57      0      0      0      0   \n\n    PAY_5  ...  BILL_AMT4  BILL_AMT5  BILL_AMT6  PAY_AMT1  PAY_AMT2  PAY_AMT3  \\\nID         ...                                                                  \n1       0  ...          0          0          0         0       689         0   \n2       0  ...       3272       3455       3261         0      1000      1000   \n3       0  ...      14331      14948      15549      1518      1500      1000   \n4       0  ...      28314      28959      29547      2000      2019      1200   \n5       0  ...      20940      19146      19131      2000     36681     10000   \n\n    PAY_AMT4  PAY_AMT5  PAY_AMT6  default  \nID                                         \n1          0         0         0        1  \n2       1000         0      2000        1  \n3       1000      1000      5000        0  \n4       1100      1069      1000        0  \n5       9000       689       679        0  \n\n[5 rows x 24 columns]",
      "text/html": "<div>\n<style scoped>\n    .dataframe tbody tr th:only-of-type {\n        vertical-align: middle;\n    }\n\n    .dataframe tbody tr th {\n        vertical-align: top;\n    }\n\n    .dataframe thead th {\n        text-align: right;\n    }\n</style>\n<table border=\"1\" class=\"dataframe\">\n  <thead>\n    <tr style=\"text-align: right;\">\n      <th></th>\n      <th>LIMIT_BAL</th>\n      <th>SEX</th>\n      <th>EDUCATION</th>\n      <th>MARRIAGE</th>\n      <th>AGE</th>\n      <th>PAY_1</th>\n      <th>PAY_2</th>\n      <th>PAY_3</th>\n      <th>PAY_4</th>\n      <th>PAY_5</th>\n      <th>...</th>\n      <th>BILL_AMT4</th>\n      <th>BILL_AMT5</th>\n      <th>BILL_AMT6</th>\n      <th>PAY_AMT1</th>\n      <th>PAY_AMT2</th>\n      <th>PAY_AMT3</th>\n      <th>PAY_AMT4</th>\n      <th>PAY_AMT5</th>\n      <th>PAY_AMT6</th>\n      <th>default</th>\n    </tr>\n    <tr>\n      <th>ID</th>\n      <th></th>\n      <th></th>\n      <th></th>\n      <th></th>\n      <th></th>\n      <th></th>\n      <th></th>\n      <th></th>\n      <th></th>\n      <th></th>\n      <th></th>\n      <th></th>\n      <th></th>\n      <th></th>\n      <th></th>\n      <th></th>\n      <th></th>\n      <th></th>\n      <th></th>\n      <th></th>\n      <th></th>\n    </tr>\n  </thead>\n  <tbody>\n    <tr>\n      <th>1</th>\n      <td>20000</td>\n      <td>1</td>\n      <td>2</td>\n      <td>1</td>\n      <td>24</td>\n      <td>1</td>\n      <td>1</td>\n      <td>0</td>\n      <td>0</td>\n      <td>0</td>\n      <td>...</td>\n      <td>0</td>\n      <td>0</td>\n      <td>0</td>\n      <td>0</td>\n      <td>689</td>\n      <td>0</td>\n      <td>0</td>\n      <td>0</td>\n      <td>0</td>\n      <td>1</td>\n    </tr>\n    <tr>\n      <th>2</th>\n      <td>120000</td>\n      <td>1</td>\n      <td>2</td>\n      <td>2</td>\n      <td>26</td>\n      <td>0</td>\n      <td>1</td>\n      <td>0</td>\n      <td>0</td>\n      <td>0</td>\n      <td>...</td>\n      <td>3272</td>\n      <td>3455</td>\n      <td>3261</td>\n      <td>0</td>\n      <td>1000</td>\n      <td>1000</td>\n      <td>1000</td>\n      <td>0</td>\n      <td>2000</td>\n      <td>1</td>\n    </tr>\n    <tr>\n      <th>3</th>\n      <td>90000</td>\n      <td>1</td>\n      <td>2</td>\n      <td>2</td>\n      <td>34</td>\n      <td>0</td>\n      <td>0</td>\n      <td>0</td>\n      <td>0</td>\n      <td>0</td>\n      <td>...</td>\n      <td>14331</td>\n      <td>14948</td>\n      <td>15549</td>\n      <td>1518</td>\n      <td>1500</td>\n      <td>1000</td>\n      <td>1000</td>\n      <td>1000</td>\n      <td>5000</td>\n      <td>0</td>\n    </tr>\n    <tr>\n      <th>4</th>\n      <td>50000</td>\n      <td>1</td>\n      <td>2</td>\n      <td>1</td>\n      <td>37</td>\n      <td>0</td>\n      <td>0</td>\n      <td>0</td>\n      <td>0</td>\n      <td>0</td>\n      <td>...</td>\n      <td>28314</td>\n      <td>28959</td>\n      <td>29547</td>\n      <td>2000</td>\n      <td>2019</td>\n      <td>1200</td>\n      <td>1100</td>\n      <td>1069</td>\n      <td>1000</td>\n      <td>0</td>\n    </tr>\n    <tr>\n      <th>5</th>\n      <td>50000</td>\n      <td>0</td>\n      <td>2</td>\n      <td>1</td>\n      <td>57</td>\n      <td>0</td>\n      <td>0</td>\n      <td>0</td>\n      <td>0</td>\n      <td>0</td>\n      <td>...</td>\n      <td>20940</td>\n      <td>19146</td>\n      <td>19131</td>\n      <td>2000</td>\n      <td>36681</td>\n      <td>10000</td>\n      <td>9000</td>\n      <td>689</td>\n      <td>679</td>\n      <td>0</td>\n    </tr>\n  </tbody>\n</table>\n<p>5 rows × 24 columns</p>\n</div>"
     },
     "execution_count": 27,
     "metadata": {},
     "output_type": "execute_result"
    }
   ],
   "source": [
    "columns = [\"PAY_1\",\"PAY_2\",\"PAY_3\",\"PAY_4\",\"PAY_5\",\"PAY_6\"]\n",
    "\n",
    "for column in columns:\n",
    "    data[column] = data[column].apply(lambda x: 0 if x <= 0 else 1)\n",
    "\n",
    "data.head()"
   ]
  },
  {
   "cell_type": "markdown",
   "id": "9e05d8b3",
   "metadata": {
    "pycharm": {
     "name": "#%% md\n"
    }
   },
   "source": [
    "## Comparing Distributions of Amounts of Bill Statements for 6 months, from April - September 2005, between defaulters and non-defaulters"
   ]
  },
  {
   "cell_type": "code",
   "execution_count": 28,
   "id": "b131796e",
   "metadata": {
    "pycharm": {
     "name": "#%%\n"
    }
   },
   "outputs": [
    {
     "data": {
      "text/plain": "<Figure size 1700x1000 with 6 Axes>",
      "image/png": "[encoded data removed]"
     },
     "metadata": {},
     "output_type": "display_data"
    }
   ],
   "source": [
    "fig, ax = plt.subplots(nrows = 2, ncols = 3, figsize = (17, 10))\n",
    "sns.histplot(x = \"BILL_AMT1\", hue = \"default\", data = data, ax = ax[0, 0])\n",
    "sns.histplot(x = \"BILL_AMT2\", hue = \"default\", data = data, ax = ax[0, 1])\n",
    "sns.histplot(x = \"BILL_AMT3\", hue = \"default\", data = data, ax = ax[0, 2])\n",
    "sns.histplot(x = \"BILL_AMT4\", hue = \"default\", data = data, ax = ax[1, 0])\n",
    "sns.histplot(x = \"BILL_AMT5\", hue = \"default\", data = data, ax = ax[1, 1])\n",
    "sns.histplot(x = \"BILL_AMT6\", hue = \"default\", data = data, ax = ax[1, 2])\n",
    "plt.show()"
   ]
  },
  {
   "cell_type": "markdown",
   "id": "5e9f4ed3",
   "metadata": {
    "pycharm": {
     "name": "#%% md\n"
    }
   },
   "source": [
    "## Comparing Amount of Previous Payments for 6 months, from April - September 2005, between defaulters and non-defaulters"
   ]
  },
  {
   "cell_type": "code",
   "execution_count": 29,
   "id": "d611cc82",
   "metadata": {
    "pycharm": {
     "name": "#%%\n"
    }
   },
   "outputs": [
    {
     "data": {
      "text/plain": "<Figure size 1700x1000 with 6 Axes>",
      "image/png": "[encoded data removed]"
     },
     "metadata": {},
     "output_type": "display_data"
    }
   ],
   "source": [
    "fig, ax = plt.subplots(nrows = 2, ncols = 3, figsize = (17, 10))\n",
    "sns.histplot(x = \"PAY_AMT1\", hue = \"default\", data = data, ax = ax[0, 0], bins=100)\n",
    "sns.histplot(x = \"PAY_AMT2\", hue = \"default\", data = data, ax = ax[0, 1], bins=100)\n",
    "sns.histplot(x = \"PAY_AMT3\", hue = \"default\", data = data, ax = ax[0, 2], bins=100)\n",
    "sns.histplot(x = \"PAY_AMT4\", hue = \"default\", data = data, ax = ax[1, 0], bins=100)\n",
    "sns.histplot(x = \"PAY_AMT5\", hue = \"default\", data = data, ax = ax[1, 1], bins=100)\n",
    "sns.histplot(x = \"PAY_AMT6\", hue = \"default\", data = data, ax = ax[1, 2], bins=100)\n",
    "plt.show()"
   ]
  },
  {
   "cell_type": "markdown",
   "id": "f5830c69",
   "metadata": {
    "pycharm": {
     "name": "#%% md\n"
    }
   },
   "source": [
    "# Data Pre-Processing"
   ]
  },
  {
   "cell_type": "markdown",
   "id": "aa0e3465",
   "metadata": {
    "pycharm": {
     "name": "#%% md\n"
    }
   },
   "source": [
    "## One Hot Encoding"
   ]
  },
  {
   "cell_type": "code",
   "execution_count": 30,
   "id": "a98ecb9d",
   "metadata": {
    "pycharm": {
     "name": "#%%\n"
    }
   },
   "outputs": [
    {
     "data": {
      "text/plain": "    LIMIT_BAL  SEX  AGE  PAY_1  PAY_2  PAY_3  PAY_4  PAY_5  PAY_6  BILL_AMT1  \\\nID                                                                             \n1       20000    1   24      1      1      0      0      0      0       3913   \n2      120000    1   26      0      1      0      0      0      1       2682   \n3       90000    1   34      0      0      0      0      0      0      29239   \n4       50000    1   37      0      0      0      0      0      0      46990   \n5       50000    0   57      0      0      0      0      0      0       8617   \n\n    ...  PAY_AMT5  PAY_AMT6  default  EDUCATION_1  EDUCATION_2  EDUCATION_3  \\\nID  ...                                                                       \n1   ...         0         0        1            0            1            0   \n2   ...         0      2000        1            0            1            0   \n3   ...      1000      5000        0            0            1            0   \n4   ...      1069      1000        0            0            1            0   \n5   ...       689       679        0            0            1            0   \n\n    EDUCATION_4  MARRIAGE_1  MARRIAGE_2  MARRIAGE_3  \nID                                                   \n1             0           1           0           0  \n2             0           0           1           0  \n3             0           0           1           0  \n4             0           1           0           0  \n5             0           1           0           0  \n\n[5 rows x 29 columns]",
      "text/html": "<div>\n<style scoped>\n    .dataframe tbody tr th:only-of-type {\n        vertical-align: middle;\n    }\n\n    .dataframe tbody tr th {\n        vertical-align: top;\n    }\n\n    .dataframe thead th {\n        text-align: right;\n    }\n</style>\n<table border=\"1\" class=\"dataframe\">\n  <thead>\n    <tr style=\"text-align: right;\">\n      <th></th>\n      <th>LIMIT_BAL</th>\n      <th>SEX</th>\n      <th>AGE</th>\n      <th>PAY_1</th>\n      <th>PAY_2</th>\n      <th>PAY_3</th>\n      <th>PAY_4</th>\n      <th>PAY_5</th>\n      <th>PAY_6</th>\n      <th>BILL_AMT1</th>\n      <th>...</th>\n      <th>PAY_AMT5</th>\n      <th>PAY_AMT6</th>\n      <th>default</th>\n      <th>EDUCATION_1</th>\n      <th>EDUCATION_2</th>\n      <th>EDUCATION_3</th>\n      <th>EDUCATION_4</th>\n      <th>MARRIAGE_1</th>\n      <th>MARRIAGE_2</th>\n      <th>MARRIAGE_3</th>\n    </tr>\n    <tr>\n      <th>ID</th>\n      <th></th>\n      <th></th>\n      <th></th>\n      <th></th>\n      <th></th>\n      <th></th>\n      <th></th>\n      <th></th>\n      <th></th>\n      <th></th>\n      <th></th>\n      <th></th>\n      <th></th>\n      <th></th>\n      <th></th>\n      <th></th>\n      <th></th>\n      <th></th>\n      <th></th>\n      <th></th>\n      <th></th>\n    </tr>\n  </thead>\n  <tbody>\n    <tr>\n      <th>1</th>\n      <td>20000</td>\n      <td>1</td>\n      <td>24</td>\n      <td>1</td>\n      <td>1</td>\n      <td>0</td>\n      <td>0</td>\n      <td>0</td>\n      <td>0</td>\n      <td>3913</td>\n      <td>...</td>\n      <td>0</td>\n      <td>0</td>\n      <td>1</td>\n      <td>0</td>\n      <td>1</td>\n      <td>0</td>\n      <td>0</td>\n      <td>1</td>\n      <td>0</td>\n      <td>0</td>\n    </tr>\n    <tr>\n      <th>2</th>\n      <td>120000</td>\n      <td>1</td>\n      <td>26</td>\n      <td>0</td>\n      <td>1</td>\n      <td>0</td>\n      <td>0</td>\n      <td>0</td>\n      <td>1</td>\n      <td>2682</td>\n      <td>...</td>\n      <td>0</td>\n      <td>2000</td>\n      <td>1</td>\n      <td>0</td>\n      <td>1</td>\n      <td>0</td>\n      <td>0</td>\n      <td>0</td>\n      <td>1</td>\n      <td>0</td>\n    </tr>\n    <tr>\n      <th>3</th>\n      <td>90000</td>\n      <td>1</td>\n      <td>34</td>\n      <td>0</td>\n      <td>0</td>\n      <td>0</td>\n      <td>0</td>\n      <td>0</td>\n      <td>0</td>\n      <td>29239</td>\n      <td>...</td>\n      <td>1000</td>\n      <td>5000</td>\n      <td>0</td>\n      <td>0</td>\n      <td>1</td>\n      <td>0</td>\n      <td>0</td>\n      <td>0</td>\n      <td>1</td>\n      <td>0</td>\n    </tr>\n    <tr>\n      <th>4</th>\n      <td>50000</td>\n      <td>1</td>\n      <td>37</td>\n      <td>0</td>\n      <td>0</td>\n      <td>0</td>\n      <td>0</td>\n      <td>0</td>\n      <td>0</td>\n      <td>46990</td>\n      <td>...</td>\n      <td>1069</td>\n      <td>1000</td>\n      <td>0</td>\n      <td>0</td>\n      <td>1</td>\n      <td>0</td>\n      <td>0</td>\n      <td>1</td>\n      <td>0</td>\n      <td>0</td>\n    </tr>\n    <tr>\n      <th>5</th>\n      <td>50000</td>\n      <td>0</td>\n      <td>57</td>\n      <td>0</td>\n      <td>0</td>\n      <td>0</td>\n      <td>0</td>\n      <td>0</td>\n      <td>0</td>\n      <td>8617</td>\n      <td>...</td>\n      <td>689</td>\n      <td>679</td>\n      <td>0</td>\n      <td>0</td>\n      <td>1</td>\n      <td>0</td>\n      <td>0</td>\n      <td>1</td>\n      <td>0</td>\n      <td>0</td>\n    </tr>\n  </tbody>\n</table>\n<p>5 rows × 29 columns</p>\n</div>"
     },
     "execution_count": 30,
     "metadata": {},
     "output_type": "execute_result"
    }
   ],
   "source": [
    "# Get dummy variables for Education and Marriage (since they have more than 2 categories)\n",
    "data = pd.get_dummies(data, columns = [\"EDUCATION\", \"MARRIAGE\"])\n",
    "data.head()"
   ]
  },
  {
   "cell_type": "markdown",
   "id": "2ffef5e0",
   "metadata": {
    "pycharm": {
     "name": "#%% md\n"
    }
   },
   "source": [
    "## Feature scaling"
   ]
  },
  {
   "cell_type": "code",
   "execution_count": 31,
   "id": "9220dd69",
   "metadata": {
    "pycharm": {
     "name": "#%%\n"
    }
   },
   "outputs": [
    {
     "data": {
      "text/plain": "   LIMIT_BAL  SEX       AGE  PAY_1  PAY_2  PAY_3  PAY_4  PAY_5  PAY_6  \\\n0   0.010101  1.0  0.051724    1.0    1.0    0.0    0.0    0.0    0.0   \n1   0.111111  1.0  0.086207    0.0    1.0    0.0    0.0    0.0    1.0   \n2   0.080808  1.0  0.224138    0.0    0.0    0.0    0.0    0.0    0.0   \n3   0.040404  1.0  0.275862    0.0    0.0    0.0    0.0    0.0    0.0   \n4   0.040404  0.0  0.620690    0.0    0.0    0.0    0.0    0.0    0.0   \n\n   BILL_AMT1  ...  PAY_AMT5  PAY_AMT6  default  EDUCATION_1  EDUCATION_2  \\\n0   0.149982  ...  0.000000  0.000000      1.0          0.0          1.0   \n1   0.148892  ...  0.000000  0.003783      1.0          0.0          1.0   \n2   0.172392  ...  0.002345  0.009458      0.0          0.0          1.0   \n3   0.188100  ...  0.002506  0.001892      0.0          0.0          1.0   \n4   0.154144  ...  0.001615  0.001284      0.0          0.0          1.0   \n\n   EDUCATION_3  EDUCATION_4  MARRIAGE_1  MARRIAGE_2  MARRIAGE_3  \n0          0.0          0.0         1.0         0.0         0.0  \n1          0.0          0.0         0.0         1.0         0.0  \n2          0.0          0.0         0.0         1.0         0.0  \n3          0.0          0.0         1.0         0.0         0.0  \n4          0.0          0.0         1.0         0.0         0.0  \n\n[5 rows x 29 columns]",
      "text/html": "<div>\n<style scoped>\n    .dataframe tbody tr th:only-of-type {\n        vertical-align: middle;\n    }\n\n    .dataframe tbody tr th {\n        vertical-align: top;\n    }\n\n    .dataframe thead th {\n        text-align: right;\n    }\n</style>\n<table border=\"1\" class=\"dataframe\">\n  <thead>\n    <tr style=\"text-align: right;\">\n      <th></th>\n      <th>LIMIT_BAL</th>\n      <th>SEX</th>\n      <th>AGE</th>\n      <th>PAY_1</th>\n      <th>PAY_2</th>\n      <th>PAY_3</th>\n      <th>PAY_4</th>\n      <th>PAY_5</th>\n      <th>PAY_6</th>\n      <th>BILL_AMT1</th>\n      <th>...</th>\n      <th>PAY_AMT5</th>\n      <th>PAY_AMT6</th>\n      <th>default</th>\n      <th>EDUCATION_1</th>\n      <th>EDUCATION_2</th>\n      <th>EDUCATION_3</th>\n      <th>EDUCATION_4</th>\n      <th>MARRIAGE_1</th>\n      <th>MARRIAGE_2</th>\n      <th>MARRIAGE_3</th>\n    </tr>\n  </thead>\n  <tbody>\n    <tr>\n      <th>0</th>\n      <td>0.010101</td>\n      <td>1.0</td>\n      <td>0.051724</td>\n      <td>1.0</td>\n      <td>1.0</td>\n      <td>0.0</td>\n      <td>0.0</td>\n      <td>0.0</td>\n      <td>0.0</td>\n      <td>0.149982</td>\n      <td>...</td>\n      <td>0.000000</td>\n      <td>0.000000</td>\n      <td>1.0</td>\n      <td>0.0</td>\n      <td>1.0</td>\n      <td>0.0</td>\n      <td>0.0</td>\n      <td>1.0</td>\n      <td>0.0</td>\n      <td>0.0</td>\n    </tr>\n    <tr>\n      <th>1</th>\n      <td>0.111111</td>\n      <td>1.0</td>\n      <td>0.086207</td>\n      <td>0.0</td>\n      <td>1.0</td>\n      <td>0.0</td>\n      <td>0.0</td>\n      <td>0.0</td>\n      <td>1.0</td>\n      <td>0.148892</td>\n      <td>...</td>\n      <td>0.000000</td>\n      <td>0.003783</td>\n      <td>1.0</td>\n      <td>0.0</td>\n      <td>1.0</td>\n      <td>0.0</td>\n      <td>0.0</td>\n      <td>0.0</td>\n      <td>1.0</td>\n      <td>0.0</td>\n    </tr>\n    <tr>\n      <th>2</th>\n      <td>0.080808</td>\n      <td>1.0</td>\n      <td>0.224138</td>\n      <td>0.0</td>\n      <td>0.0</td>\n      <td>0.0</td>\n      <td>0.0</td>\n      <td>0.0</td>\n      <td>0.0</td>\n      <td>0.172392</td>\n      <td>...</td>\n      <td>0.002345</td>\n      <td>0.009458</td>\n      <td>0.0</td>\n      <td>0.0</td>\n      <td>1.0</td>\n      <td>0.0</td>\n      <td>0.0</td>\n      <td>0.0</td>\n      <td>1.0</td>\n      <td>0.0</td>\n    </tr>\n    <tr>\n      <th>3</th>\n      <td>0.040404</td>\n      <td>1.0</td>\n      <td>0.275862</td>\n      <td>0.0</td>\n      <td>0.0</td>\n      <td>0.0</td>\n      <td>0.0</td>\n      <td>0.0</td>\n      <td>0.0</td>\n      <td>0.188100</td>\n      <td>...</td>\n      <td>0.002506</td>\n      <td>0.001892</td>\n      <td>0.0</td>\n      <td>0.0</td>\n      <td>1.0</td>\n      <td>0.0</td>\n      <td>0.0</td>\n      <td>1.0</td>\n      <td>0.0</td>\n      <td>0.0</td>\n    </tr>\n    <tr>\n      <th>4</th>\n      <td>0.040404</td>\n      <td>0.0</td>\n      <td>0.620690</td>\n      <td>0.0</td>\n      <td>0.0</td>\n      <td>0.0</td>\n      <td>0.0</td>\n      <td>0.0</td>\n      <td>0.0</td>\n      <td>0.154144</td>\n      <td>...</td>\n      <td>0.001615</td>\n      <td>0.001284</td>\n      <td>0.0</td>\n      <td>0.0</td>\n      <td>1.0</td>\n      <td>0.0</td>\n      <td>0.0</td>\n      <td>1.0</td>\n      <td>0.0</td>\n      <td>0.0</td>\n    </tr>\n  </tbody>\n</table>\n<p>5 rows × 29 columns</p>\n</div>"
     },
     "execution_count": 31,
     "metadata": {},
     "output_type": "execute_result"
    }
   ],
   "source": [
    "# Scale dataset to be between [0, 1] as range of each variable varies a lot. Min-max scaler being used.\n",
    "scaler = MinMaxScaler()\n",
    "scaled_data = scaler.fit_transform(data)\n",
    "col_names = data.columns.tolist()\n",
    "data = pd.DataFrame(scaled_data, columns = col_names)\n",
    "data.head()"
   ]
  },
  {
   "cell_type": "code",
   "execution_count": 32,
   "id": "d20ca32e",
   "metadata": {
    "pycharm": {
     "name": "#%%\n"
    }
   },
   "outputs": [],
   "source": [
    "y_data = data[\"default\"]\n",
    "X_data = data.drop([\"default\"], axis = 1)"
   ]
  },
  {
   "cell_type": "markdown",
   "id": "893a3c5c",
   "metadata": {
    "pycharm": {
     "name": "#%% md\n"
    }
   },
   "source": [
    "# Initial Model Building\n",
    "We will run our desired models on all features first before doing features selection to justify that feature selection is indeed helpful in our predictive modelling\n",
    "\n",
    "The models we are interested in building are\n",
    "1. Logistic Regression\n",
    "2. Support Vector Machine\n",
    "3. Random Forest\n",
    "4. XGBoost\n",
    "5. Neural Network"
   ]
  },
  {
   "cell_type": "markdown",
   "id": "77882aa9",
   "metadata": {
    "pycharm": {
     "name": "#%% md\n"
    }
   },
   "source": [
    "## Creating Training and Testing data set\n",
    "we will use a train/test size of 80/20"
   ]
  },
  {
   "cell_type": "code",
   "execution_count": 34,
   "id": "297c0ddd",
   "metadata": {
    "pycharm": {
     "name": "#%%\n"
    }
   },
   "outputs": [],
   "source": [
    "# creating training and testing data to be used for model selection\n",
    "X_train, X_test, y_train, y_test = train_test_split(X_data, y_data, test_size = 0.20, random_state = 0)"
   ]
  },
  {
   "cell_type": "markdown",
   "id": "cc9ff076",
   "metadata": {
    "pycharm": {
     "name": "#%% md\n"
    }
   },
   "source": [
    "## Logistic Regression"
   ]
  },
  {
   "cell_type": "markdown",
   "id": "70984944",
   "metadata": {
    "pycharm": {
     "name": "#%% md\n"
    }
   },
   "source": [
    "### Model Fitting for Logistic Regression"
   ]
  },
  {
   "cell_type": "code",
   "execution_count": 171,
   "id": "876944cb",
   "metadata": {
    "pycharm": {
     "name": "#%%\n"
    }
   },
   "outputs": [],
   "source": [
    "logistic_regression_model = LogisticRegression(max_iter = 1000, random_state = 0)\n",
    "logistic_regression_model.fit(X_train, y_train)\n",
    "\n",
    "logistic_regression_model_y_pred = logistic_regression_model.predict(X_test)"
   ]
  },
  {
   "cell_type": "markdown",
   "id": "92651a3a",
   "metadata": {
    "pycharm": {
     "name": "#%% md\n"
    }
   },
   "source": [
    "### Evaluation Metrics for Logistic Regression"
   ]
  },
  {
   "cell_type": "code",
   "execution_count": 172,
   "id": "6265c889",
   "metadata": {
    "pycharm": {
     "name": "#%%\n"
    }
   },
   "outputs": [
    {
     "name": "stdout",
     "output_type": "stream",
     "text": [
      "              precision    recall  f1-score   support\n",
      "\n",
      "         0.0    0.82995   0.95577   0.88843      4703\n",
      "         1.0    0.64384   0.28990   0.39979      1297\n",
      "\n",
      "    accuracy                        0.81183      6000\n",
      "   macro avg    0.73689   0.62284   0.64411      6000\n",
      "weighted avg    0.78972   0.81183   0.78280      6000\n",
      "\n"
     ]
    }
   ],
   "source": [
    "print(classification_report(y_test, logistic_regression_model_y_pred, digits=5))"
   ]
  },
  {
   "cell_type": "code",
   "execution_count": 173,
   "id": "2f774728",
   "metadata": {
    "pycharm": {
     "name": "#%%\n"
    }
   },
   "outputs": [
    {
     "name": "stdout",
     "output_type": "stream",
     "text": [
      "AUC: 0.6228363398024621\n"
     ]
    }
   ],
   "source": [
    "print(\"AUC: \" + str(roc_auc_score(y_test, logistic_regression_model_y_pred)))"
   ]
  },
  {
   "cell_type": "code",
   "execution_count": 174,
   "id": "20723aec",
   "metadata": {
    "pycharm": {
     "name": "#%%\n"
    }
   },
   "outputs": [
    {
     "data": {
      "text/html": [
       "<div>\n",
       "<style scoped>\n",
       "    .dataframe tbody tr th:only-of-type {\n",
       "        vertical-align: middle;\n",
       "    }\n",
       "\n",
       "    .dataframe tbody tr th {\n",
       "        vertical-align: top;\n",
       "    }\n",
       "\n",
       "    .dataframe thead th {\n",
       "        text-align: right;\n",
       "    }\n",
       "</style>\n",
       "<table border=\"1\" class=\"dataframe\">\n",
       "  <thead>\n",
       "    <tr style=\"text-align: right;\">\n",
       "      <th></th>\n",
       "      <th>Predicted 0</th>\n",
       "      <th>Predicted 1</th>\n",
       "    </tr>\n",
       "  </thead>\n",
       "  <tbody>\n",
       "    <tr>\n",
       "      <th>True 0</th>\n",
       "      <td>4495</td>\n",
       "      <td>208</td>\n",
       "    </tr>\n",
       "    <tr>\n",
       "      <th>True 1</th>\n",
       "      <td>921</td>\n",
       "      <td>376</td>\n",
       "    </tr>\n",
       "  </tbody>\n",
       "</table>\n",
       "</div>"
      ],
      "text/plain": [
       "        Predicted 0  Predicted 1\n",
       "True 0         4495          208\n",
       "True 1          921          376"
      ]
     },
     "execution_count": 174,
     "metadata": {},
     "output_type": "execute_result"
    }
   ],
   "source": [
    "pd.DataFrame(confusion_matrix(y_test, logistic_regression_model_y_pred), columns = [\"Predicted 0\", \"Predicted 1\"], index = [\"True 0\", \"True 1\"])"
   ]
  },
  {
   "cell_type": "markdown",
   "id": "65940101",
   "metadata": {
    "pycharm": {
     "name": "#%% md\n"
    }
   },
   "source": [
    "## Support Vector Machine"
   ]
  },
  {
   "cell_type": "markdown",
   "id": "45886304",
   "metadata": {
    "pycharm": {
     "name": "#%% md\n"
    }
   },
   "source": [
    "### Model Fitting for SVM"
   ]
  },
  {
   "cell_type": "code",
   "execution_count": 175,
   "id": "2299feb2",
   "metadata": {
    "pycharm": {
     "name": "#%%\n"
    }
   },
   "outputs": [],
   "source": [
    "svm_model = SVC(random_state = 0)\n",
    "svm_model.fit(X_train, y_train)\n",
    "svm_model_y_pred = svm_model.predict(X_test)"
   ]
  },
  {
   "cell_type": "markdown",
   "id": "4b96f704",
   "metadata": {
    "pycharm": {
     "name": "#%% md\n"
    }
   },
   "source": [
    "#### Evaluation Metrics for SVM"
   ]
  },
  {
   "cell_type": "code",
   "execution_count": 176,
   "id": "f40261bb",
   "metadata": {
    "pycharm": {
     "name": "#%%\n"
    }
   },
   "outputs": [
    {
     "name": "stdout",
     "output_type": "stream",
     "text": [
      "              precision    recall  f1-score   support\n",
      "\n",
      "         0.0    0.83049   0.95322   0.88763      4703\n",
      "         1.0    0.63455   0.29453   0.40232      1297\n",
      "\n",
      "    accuracy                        0.81083      6000\n",
      "   macro avg    0.73252   0.62387   0.64498      6000\n",
      "weighted avg    0.78814   0.81083   0.78273      6000\n",
      "\n"
     ]
    }
   ],
   "source": [
    "print(classification_report(y_test, svm_model_y_pred, digits=5))"
   ]
  },
  {
   "cell_type": "code",
   "execution_count": 177,
   "id": "8fd04d30",
   "metadata": {
    "pycharm": {
     "name": "#%%\n"
    }
   },
   "outputs": [
    {
     "name": "stdout",
     "output_type": "stream",
     "text": [
      "AUC: 0.6238735884557356\n"
     ]
    }
   ],
   "source": [
    "print(\"AUC: \" + str(roc_auc_score(y_test, svm_model_y_pred)))"
   ]
  },
  {
   "cell_type": "code",
   "execution_count": 178,
   "id": "6dfbf4ef",
   "metadata": {
    "pycharm": {
     "name": "#%%\n"
    }
   },
   "outputs": [
    {
     "data": {
      "text/html": [
       "<div>\n",
       "<style scoped>\n",
       "    .dataframe tbody tr th:only-of-type {\n",
       "        vertical-align: middle;\n",
       "    }\n",
       "\n",
       "    .dataframe tbody tr th {\n",
       "        vertical-align: top;\n",
       "    }\n",
       "\n",
       "    .dataframe thead th {\n",
       "        text-align: right;\n",
       "    }\n",
       "</style>\n",
       "<table border=\"1\" class=\"dataframe\">\n",
       "  <thead>\n",
       "    <tr style=\"text-align: right;\">\n",
       "      <th></th>\n",
       "      <th>Predicted 0</th>\n",
       "      <th>Predicted 1</th>\n",
       "    </tr>\n",
       "  </thead>\n",
       "  <tbody>\n",
       "    <tr>\n",
       "      <th>True 0</th>\n",
       "      <td>4483</td>\n",
       "      <td>220</td>\n",
       "    </tr>\n",
       "    <tr>\n",
       "      <th>True 1</th>\n",
       "      <td>915</td>\n",
       "      <td>382</td>\n",
       "    </tr>\n",
       "  </tbody>\n",
       "</table>\n",
       "</div>"
      ],
      "text/plain": [
       "        Predicted 0  Predicted 1\n",
       "True 0         4483          220\n",
       "True 1          915          382"
      ]
     },
     "execution_count": 178,
     "metadata": {},
     "output_type": "execute_result"
    }
   ],
   "source": [
    "pd.DataFrame(confusion_matrix(y_test, svm_model_y_pred), columns = [\"Predicted 0\", \"Predicted 1\"], index = [\"True 0\", \"True 1\"])"
   ]
  },
  {
   "cell_type": "markdown",
   "id": "e22c3c5f",
   "metadata": {
    "pycharm": {
     "name": "#%% md\n"
    }
   },
   "source": [
    "## Random Forest"
   ]
  },
  {
   "cell_type": "markdown",
   "id": "38b419d1",
   "metadata": {
    "pycharm": {
     "name": "#%% md\n"
    }
   },
   "source": [
    "### Model fitting for Random Forest"
   ]
  },
  {
   "cell_type": "code",
   "execution_count": 179,
   "id": "b6cf9e37",
   "metadata": {
    "pycharm": {
     "name": "#%%\n"
    }
   },
   "outputs": [],
   "source": [
    "random_forest_model = RandomForestClassifier(random_state = 0) \n",
    "random_forest_model.fit(X_train, y_train)\n",
    "\n",
    "random_forest_model_y_pred = random_forest_model.predict(X_test)"
   ]
  },
  {
   "cell_type": "markdown",
   "id": "2aab72e4",
   "metadata": {
    "pycharm": {
     "name": "#%% md\n"
    }
   },
   "source": [
    "#### Evaluation Metrics for Random Forest"
   ]
  },
  {
   "cell_type": "code",
   "execution_count": 180,
   "id": "b10514fb",
   "metadata": {
    "pycharm": {
     "name": "#%%\n"
    }
   },
   "outputs": [
    {
     "name": "stdout",
     "output_type": "stream",
     "text": [
      "              precision    recall  f1-score   support\n",
      "\n",
      "         0.0    0.84300   0.93961   0.88869      4703\n",
      "         1.0    0.62533   0.36546   0.46131      1297\n",
      "\n",
      "    accuracy                        0.81550      6000\n",
      "   macro avg    0.73416   0.65254   0.67500      6000\n",
      "weighted avg    0.79595   0.81550   0.79630      6000\n",
      "\n"
     ]
    }
   ],
   "source": [
    "print(classification_report(y_test, random_forest_model_y_pred, digits=5))"
   ]
  },
  {
   "cell_type": "code",
   "execution_count": 181,
   "id": "d8231c47",
   "metadata": {
    "pycharm": {
     "name": "#%%\n"
    }
   },
   "outputs": [
    {
     "name": "stdout",
     "output_type": "stream",
     "text": [
      "AUC: 0.6525358819671035\n"
     ]
    }
   ],
   "source": [
    "print(\"AUC: \" + str(roc_auc_score(y_test, random_forest_model_y_pred)))"
   ]
  },
  {
   "cell_type": "code",
   "execution_count": 182,
   "id": "ab1a87dc",
   "metadata": {
    "pycharm": {
     "name": "#%%\n"
    }
   },
   "outputs": [
    {
     "data": {
      "text/html": [
       "<div>\n",
       "<style scoped>\n",
       "    .dataframe tbody tr th:only-of-type {\n",
       "        vertical-align: middle;\n",
       "    }\n",
       "\n",
       "    .dataframe tbody tr th {\n",
       "        vertical-align: top;\n",
       "    }\n",
       "\n",
       "    .dataframe thead th {\n",
       "        text-align: right;\n",
       "    }\n",
       "</style>\n",
       "<table border=\"1\" class=\"dataframe\">\n",
       "  <thead>\n",
       "    <tr style=\"text-align: right;\">\n",
       "      <th></th>\n",
       "      <th>Predicted 0</th>\n",
       "      <th>Predicted 1</th>\n",
       "    </tr>\n",
       "  </thead>\n",
       "  <tbody>\n",
       "    <tr>\n",
       "      <th>True 0</th>\n",
       "      <td>4419</td>\n",
       "      <td>284</td>\n",
       "    </tr>\n",
       "    <tr>\n",
       "      <th>True 1</th>\n",
       "      <td>823</td>\n",
       "      <td>474</td>\n",
       "    </tr>\n",
       "  </tbody>\n",
       "</table>\n",
       "</div>"
      ],
      "text/plain": [
       "        Predicted 0  Predicted 1\n",
       "True 0         4419          284\n",
       "True 1          823          474"
      ]
     },
     "execution_count": 182,
     "metadata": {},
     "output_type": "execute_result"
    }
   ],
   "source": [
    "pd.DataFrame(confusion_matrix(y_test, random_forest_model_y_pred), columns = [\"Predicted 0\", \"Predicted 1\"], index = [\"True 0\", \"True 1\"])"
   ]
  },
  {
   "cell_type": "markdown",
   "id": "bd61006f",
   "metadata": {
    "pycharm": {
     "name": "#%% md\n"
    }
   },
   "source": [
    "## XGBoost"
   ]
  },
  {
   "cell_type": "markdown",
   "id": "56917cac",
   "metadata": {
    "pycharm": {
     "name": "#%% md\n"
    }
   },
   "source": [
    "### Model fitting for XGBoost"
   ]
  },
  {
   "cell_type": "code",
   "execution_count": 183,
   "id": "57312ab6",
   "metadata": {
    "pycharm": {
     "name": "#%%\n"
    }
   },
   "outputs": [],
   "source": [
    "xgboost_model = XGBClassifier(random_state = 0)\n",
    "xgboost_model.fit(X_train, y_train)\n",
    "\n",
    "xgboost_model_y_pred = xgboost_model.predict(X_test)"
   ]
  },
  {
   "cell_type": "markdown",
   "id": "8e3978fe",
   "metadata": {
    "pycharm": {
     "name": "#%% md\n"
    }
   },
   "source": [
    "### Evaluation metrics for XGBoost"
   ]
  },
  {
   "cell_type": "code",
   "execution_count": 184,
   "id": "d86bd93d",
   "metadata": {
    "pycharm": {
     "name": "#%%\n"
    }
   },
   "outputs": [
    {
     "name": "stdout",
     "output_type": "stream",
     "text": [
      "              precision    recall  f1-score   support\n",
      "\n",
      "         0.0    0.84132   0.93685   0.88652      4703\n",
      "         1.0    0.61075   0.35929   0.45243      1297\n",
      "\n",
      "    accuracy                        0.81200      6000\n",
      "   macro avg    0.72603   0.64807   0.66947      6000\n",
      "weighted avg    0.79148   0.81200   0.79268      6000\n",
      "\n"
     ]
    }
   ],
   "source": [
    "print(classification_report(y_test, xgboost_model_y_pred, digits=5))"
   ]
  },
  {
   "cell_type": "code",
   "execution_count": 185,
   "id": "276d0d29",
   "metadata": {
    "pycharm": {
     "name": "#%%\n"
    }
   },
   "outputs": [
    {
     "name": "stdout",
     "output_type": "stream",
     "text": [
      "AUC: 0.6480697453404551\n"
     ]
    }
   ],
   "source": [
    "print(\"AUC: \" + str(roc_auc_score(y_test, xgboost_model_y_pred)))"
   ]
  },
  {
   "cell_type": "code",
   "execution_count": 186,
   "id": "47be8a4a",
   "metadata": {
    "pycharm": {
     "name": "#%%\n"
    }
   },
   "outputs": [
    {
     "data": {
      "text/html": [
       "<div>\n",
       "<style scoped>\n",
       "    .dataframe tbody tr th:only-of-type {\n",
       "        vertical-align: middle;\n",
       "    }\n",
       "\n",
       "    .dataframe tbody tr th {\n",
       "        vertical-align: top;\n",
       "    }\n",
       "\n",
       "    .dataframe thead th {\n",
       "        text-align: right;\n",
       "    }\n",
       "</style>\n",
       "<table border=\"1\" class=\"dataframe\">\n",
       "  <thead>\n",
       "    <tr style=\"text-align: right;\">\n",
       "      <th></th>\n",
       "      <th>Predicted 0</th>\n",
       "      <th>Predicted 1</th>\n",
       "    </tr>\n",
       "  </thead>\n",
       "  <tbody>\n",
       "    <tr>\n",
       "      <th>True 0</th>\n",
       "      <td>4406</td>\n",
       "      <td>297</td>\n",
       "    </tr>\n",
       "    <tr>\n",
       "      <th>True 1</th>\n",
       "      <td>831</td>\n",
       "      <td>466</td>\n",
       "    </tr>\n",
       "  </tbody>\n",
       "</table>\n",
       "</div>"
      ],
      "text/plain": [
       "        Predicted 0  Predicted 1\n",
       "True 0         4406          297\n",
       "True 1          831          466"
      ]
     },
     "execution_count": 186,
     "metadata": {},
     "output_type": "execute_result"
    }
   ],
   "source": [
    "pd.DataFrame(confusion_matrix(y_test, xgboost_model_y_pred), columns = [\"Predicted 0\", \"Predicted 1\"], index = [\"True 0\", \"True 1\"])"
   ]
  },
  {
   "cell_type": "markdown",
   "id": "cce4a23c",
   "metadata": {
    "pycharm": {
     "name": "#%% md\n"
    }
   },
   "source": [
    "## Neural Network"
   ]
  },
  {
   "cell_type": "markdown",
   "id": "35f9b155",
   "metadata": {
    "pycharm": {
     "name": "#%% md\n"
    }
   },
   "source": [
    "### Building Neural Network\n",
    "\n",
    "We will be building a dense neural network with 2 hidden layers"
   ]
  },
  {
   "cell_type": "code",
   "execution_count": 187,
   "id": "5f676469",
   "metadata": {
    "pycharm": {
     "name": "#%%\n"
    }
   },
   "outputs": [],
   "source": [
    "tf.random.set_seed(0)"
   ]
  },
  {
   "cell_type": "code",
   "execution_count": 188,
   "id": "763d9c24",
   "metadata": {
    "pycharm": {
     "name": "#%%\n"
    }
   },
   "outputs": [],
   "source": [
    "nn_model = tf.keras.Sequential([\n",
    "    tf.keras.layers.Dense(16, activation = \"relu\"), #Hidden 1\n",
    "    tf.keras.layers.Dense(8, activation = \"relu\"), #Hidden 2\n",
    "    tf.keras.layers.Dense(1, activation = \"sigmoid\") #Output\n",
    "])"
   ]
  },
  {
   "cell_type": "code",
   "execution_count": 189,
   "id": "3e649f68",
   "metadata": {
    "pycharm": {
     "name": "#%%\n"
    }
   },
   "outputs": [],
   "source": [
    "# Hyperparameters\n",
    "learning_rate = 0.01\n",
    "loss_function = tf.keras.losses.binary_crossentropy\n",
    "optimiser_function = tf.keras.optimizers.Adam(learning_rate=learning_rate)"
   ]
  },
  {
   "cell_type": "code",
   "execution_count": 190,
   "id": "63960806",
   "metadata": {
    "pycharm": {
     "name": "#%%\n"
    }
   },
   "outputs": [],
   "source": [
    "nn_model.compile(\n",
    "    loss = loss_function,\n",
    "    optimizer = optimiser_function,\n",
    "    metrics=[\n",
    "        tf.keras.metrics.BinaryAccuracy(name='accuracy'),\n",
    "        tf.keras.metrics.Recall(name='recall'),\n",
    "        tf.keras.metrics.Precision(name='precision')\n",
    "    ]\n",
    ")"
   ]
  },
  {
   "cell_type": "code",
   "execution_count": 191,
   "id": "9e08ac1b",
   "metadata": {
    "pycharm": {
     "name": "#%%\n"
    }
   },
   "outputs": [
    {
     "name": "stdout",
     "output_type": "stream",
     "text": [
      "Epoch 1/50\n"
     ]
    },
    {
     "name": "stderr",
     "output_type": "stream",
     "text": [
      "2023-04-08 14:58:59.596691: I tensorflow/core/grappler/optimizers/custom_graph_optimizer_registry.cc:113] Plugin optimizer for device_type GPU is enabled.\n"
     ]
    },
    {
     "name": "stdout",
     "output_type": "stream",
     "text": [
      "750/750 [==============================] - 7s 9ms/step - loss: 0.4537 - accuracy: 0.8041 - recall: 0.3094 - precision: 0.6197\n",
      "Epoch 2/50\n",
      "750/750 [==============================] - 7s 9ms/step - loss: 0.4496 - accuracy: 0.8066 - recall: 0.3120 - precision: 0.6325\n",
      "Epoch 3/50\n",
      "750/750 [==============================] - 7s 9ms/step - loss: 0.4483 - accuracy: 0.8070 - recall: 0.3182 - precision: 0.6311\n",
      "Epoch 4/50\n",
      "750/750 [==============================] - 7s 9ms/step - loss: 0.4479 - accuracy: 0.8078 - recall: 0.3263 - precision: 0.6318\n",
      "Epoch 5/50\n",
      "750/750 [==============================] - 6s 9ms/step - loss: 0.4462 - accuracy: 0.8090 - recall: 0.3216 - precision: 0.6407\n",
      "Epoch 6/50\n",
      "750/750 [==============================] - 7s 9ms/step - loss: 0.4455 - accuracy: 0.8087 - recall: 0.3255 - precision: 0.6369\n",
      "Epoch 7/50\n",
      "750/750 [==============================] - 7s 9ms/step - loss: 0.4451 - accuracy: 0.8083 - recall: 0.3340 - precision: 0.6307\n",
      "Epoch 8/50\n",
      "750/750 [==============================] - 7s 9ms/step - loss: 0.4448 - accuracy: 0.8100 - recall: 0.3315 - precision: 0.6411\n",
      "Epoch 9/50\n",
      "750/750 [==============================] - 7s 9ms/step - loss: 0.4448 - accuracy: 0.8100 - recall: 0.3385 - precision: 0.6374\n",
      "Epoch 10/50\n",
      "750/750 [==============================] - 7s 9ms/step - loss: 0.4439 - accuracy: 0.8112 - recall: 0.3454 - precision: 0.6405\n",
      "Epoch 11/50\n",
      "750/750 [==============================] - 7s 10ms/step - loss: 0.4436 - accuracy: 0.8097 - recall: 0.3319 - precision: 0.6390\n",
      "Epoch 12/50\n",
      "750/750 [==============================] - 8s 10ms/step - loss: 0.4439 - accuracy: 0.8088 - recall: 0.3394 - precision: 0.6305\n",
      "Epoch 13/50\n",
      "750/750 [==============================] - 8s 10ms/step - loss: 0.4427 - accuracy: 0.8101 - recall: 0.3452 - precision: 0.6344\n",
      "Epoch 14/50\n",
      "750/750 [==============================] - 8s 10ms/step - loss: 0.4433 - accuracy: 0.8097 - recall: 0.3499 - precision: 0.6302\n",
      "Epoch 15/50\n",
      "750/750 [==============================] - 6s 9ms/step - loss: 0.4422 - accuracy: 0.8118 - recall: 0.3444 - precision: 0.6441\n",
      "Epoch 16/50\n",
      "750/750 [==============================] - 6s 9ms/step - loss: 0.4419 - accuracy: 0.8120 - recall: 0.3497 - precision: 0.6420\n",
      "Epoch 17/50\n",
      "750/750 [==============================] - 6s 8ms/step - loss: 0.4415 - accuracy: 0.8126 - recall: 0.3553 - precision: 0.6424\n",
      "Epoch 18/50\n",
      "750/750 [==============================] - 6s 9ms/step - loss: 0.4418 - accuracy: 0.8125 - recall: 0.3429 - precision: 0.6488\n",
      "Epoch 19/50\n",
      "750/750 [==============================] - 6s 8ms/step - loss: 0.4420 - accuracy: 0.8114 - recall: 0.3508 - precision: 0.6384\n",
      "Epoch 20/50\n",
      "750/750 [==============================] - 7s 9ms/step - loss: 0.4415 - accuracy: 0.8124 - recall: 0.3521 - precision: 0.6432\n",
      "Epoch 21/50\n",
      "750/750 [==============================] - 6s 9ms/step - loss: 0.4409 - accuracy: 0.8130 - recall: 0.3609 - precision: 0.6417\n",
      "Epoch 22/50\n",
      "750/750 [==============================] - 7s 9ms/step - loss: 0.4410 - accuracy: 0.8122 - recall: 0.3504 - precision: 0.6427\n",
      "Epoch 23/50\n",
      "750/750 [==============================] - 6s 9ms/step - loss: 0.4409 - accuracy: 0.8135 - recall: 0.3594 - precision: 0.6448\n",
      "Epoch 24/50\n",
      "750/750 [==============================] - 6s 9ms/step - loss: 0.4409 - accuracy: 0.8128 - recall: 0.3516 - precision: 0.6455\n",
      "Epoch 25/50\n",
      "750/750 [==============================] - 6s 9ms/step - loss: 0.4408 - accuracy: 0.8127 - recall: 0.3557 - precision: 0.6431\n",
      "Epoch 26/50\n",
      "750/750 [==============================] - 6s 8ms/step - loss: 0.4398 - accuracy: 0.8122 - recall: 0.3559 - precision: 0.6399\n",
      "Epoch 27/50\n",
      "750/750 [==============================] - 6s 8ms/step - loss: 0.4402 - accuracy: 0.8121 - recall: 0.3634 - precision: 0.6361\n",
      "Epoch 28/50\n",
      "750/750 [==============================] - 6s 8ms/step - loss: 0.4398 - accuracy: 0.8138 - recall: 0.3572 - precision: 0.6475\n",
      "Epoch 29/50\n",
      "750/750 [==============================] - 6s 8ms/step - loss: 0.4400 - accuracy: 0.8129 - recall: 0.3654 - precision: 0.6388\n",
      "Epoch 30/50\n",
      "750/750 [==============================] - 6s 8ms/step - loss: 0.4396 - accuracy: 0.8130 - recall: 0.3602 - precision: 0.6419\n",
      "Epoch 31/50\n",
      "750/750 [==============================] - 6s 8ms/step - loss: 0.4399 - accuracy: 0.8126 - recall: 0.3564 - precision: 0.6420\n",
      "Epoch 32/50\n",
      "750/750 [==============================] - 6s 8ms/step - loss: 0.4395 - accuracy: 0.8125 - recall: 0.3576 - precision: 0.6406\n",
      "Epoch 33/50\n",
      "750/750 [==============================] - 7s 9ms/step - loss: 0.4399 - accuracy: 0.8120 - recall: 0.3617 - precision: 0.6365\n",
      "Epoch 34/50\n",
      "750/750 [==============================] - 6s 8ms/step - loss: 0.4389 - accuracy: 0.8132 - recall: 0.3628 - precision: 0.6416\n",
      "Epoch 35/50\n",
      "750/750 [==============================] - 6s 9ms/step - loss: 0.4386 - accuracy: 0.8137 - recall: 0.3664 - precision: 0.6426\n",
      "Epoch 36/50\n",
      "750/750 [==============================] - 6s 8ms/step - loss: 0.4387 - accuracy: 0.8128 - recall: 0.3636 - precision: 0.6393\n",
      "Epoch 37/50\n",
      "750/750 [==============================] - 6s 8ms/step - loss: 0.4387 - accuracy: 0.8131 - recall: 0.3544 - precision: 0.6457\n",
      "Epoch 38/50\n",
      "750/750 [==============================] - 6s 9ms/step - loss: 0.4393 - accuracy: 0.8131 - recall: 0.3572 - precision: 0.6440\n",
      "Epoch 39/50\n",
      "750/750 [==============================] - 6s 8ms/step - loss: 0.4394 - accuracy: 0.8134 - recall: 0.3581 - precision: 0.6451\n",
      "Epoch 40/50\n",
      "750/750 [==============================] - 7s 9ms/step - loss: 0.4387 - accuracy: 0.8146 - recall: 0.3555 - precision: 0.6529\n",
      "Epoch 41/50\n",
      "750/750 [==============================] - 8s 10ms/step - loss: 0.4390 - accuracy: 0.8138 - recall: 0.3660 - precision: 0.6434\n",
      "Epoch 42/50\n",
      "750/750 [==============================] - 8s 10ms/step - loss: 0.4381 - accuracy: 0.8138 - recall: 0.3542 - precision: 0.6492\n",
      "Epoch 43/50\n",
      "750/750 [==============================] - 8s 10ms/step - loss: 0.4382 - accuracy: 0.8131 - recall: 0.3555 - precision: 0.6449\n",
      "Epoch 44/50\n",
      "750/750 [==============================] - 7s 10ms/step - loss: 0.4378 - accuracy: 0.8139 - recall: 0.3592 - precision: 0.6473\n",
      "Epoch 45/50\n",
      "750/750 [==============================] - 7s 10ms/step - loss: 0.4383 - accuracy: 0.8138 - recall: 0.3619 - precision: 0.6455\n",
      "Epoch 46/50\n",
      "750/750 [==============================] - 6s 8ms/step - loss: 0.4380 - accuracy: 0.8137 - recall: 0.3641 - precision: 0.6437\n",
      "Epoch 47/50\n",
      "750/750 [==============================] - 6s 8ms/step - loss: 0.4377 - accuracy: 0.8138 - recall: 0.3641 - precision: 0.6439\n",
      "Epoch 48/50\n",
      "750/750 [==============================] - 6s 9ms/step - loss: 0.4380 - accuracy: 0.8139 - recall: 0.3634 - precision: 0.6452\n",
      "Epoch 49/50\n",
      "750/750 [==============================] - 6s 8ms/step - loss: 0.4369 - accuracy: 0.8151 - recall: 0.3667 - precision: 0.6494\n",
      "Epoch 50/50\n",
      "750/750 [==============================] - 6s 8ms/step - loss: 0.4368 - accuracy: 0.8138 - recall: 0.3630 - precision: 0.6449\n"
     ]
    },
    {
     "data": {
      "text/plain": [
       "<keras.callbacks.History at 0x30c8e3100>"
      ]
     },
     "execution_count": 191,
     "metadata": {},
     "output_type": "execute_result"
    }
   ],
   "source": [
    "nn_model.fit(X_train, y_train, epochs=50)"
   ]
  },
  {
   "cell_type": "code",
   "execution_count": 192,
   "id": "7112eb85",
   "metadata": {
    "pycharm": {
     "name": "#%%\n"
    }
   },
   "outputs": [
    {
     "name": "stdout",
     "output_type": "stream",
     "text": [
      " 90/188 [=============>................] - ETA: 0s"
     ]
    },
    {
     "name": "stderr",
     "output_type": "stream",
     "text": [
      "2023-04-08 15:04:32.810346: I tensorflow/core/grappler/optimizers/custom_graph_optimizer_registry.cc:113] Plugin optimizer for device_type GPU is enabled.\n"
     ]
    },
    {
     "name": "stdout",
     "output_type": "stream",
     "text": [
      "188/188 [==============================] - 0s 2ms/step\n"
     ]
    }
   ],
   "source": [
    "# Make predictions\n",
    "nn_pred_raw = nn_model.predict(X_test)\n",
    "\n",
    "nn_pred = [1 if p > 0.5 else 0 for p in np.ravel(nn_pred_raw)]"
   ]
  },
  {
   "cell_type": "markdown",
   "id": "21d6dc52",
   "metadata": {
    "pycharm": {
     "name": "#%% md\n"
    }
   },
   "source": [
    "### Evaluation metrics for Neural Network"
   ]
  },
  {
   "cell_type": "code",
   "execution_count": 193,
   "id": "89e97158",
   "metadata": {
    "pycharm": {
     "name": "#%%\n"
    }
   },
   "outputs": [
    {
     "name": "stdout",
     "output_type": "stream",
     "text": [
      "              precision    recall  f1-score   support\n",
      "\n",
      "         0.0    0.84267   0.93727   0.88746      4703\n",
      "         1.0    0.61638   0.36546   0.45886      1297\n",
      "\n",
      "    accuracy                        0.81367      6000\n",
      "   macro avg    0.72953   0.65137   0.67316      6000\n",
      "weighted avg    0.79375   0.81367   0.79481      6000\n",
      "\n"
     ]
    }
   ],
   "source": [
    "print(classification_report(y_test, nn_pred, digits=5))"
   ]
  },
  {
   "cell_type": "code",
   "execution_count": 194,
   "id": "16d93464",
   "metadata": {
    "pycharm": {
     "name": "#%%\n"
    }
   },
   "outputs": [
    {
     "name": "stdout",
     "output_type": "stream",
     "text": [
      "AUC: 0.6513664156689959\n"
     ]
    }
   ],
   "source": [
    "print(\"AUC: \" + str(roc_auc_score(y_test, nn_pred)))"
   ]
  },
  {
   "cell_type": "code",
   "execution_count": 195,
   "id": "a4991f6d",
   "metadata": {
    "pycharm": {
     "name": "#%%\n"
    }
   },
   "outputs": [
    {
     "data": {
      "text/html": [
       "<div>\n",
       "<style scoped>\n",
       "    .dataframe tbody tr th:only-of-type {\n",
       "        vertical-align: middle;\n",
       "    }\n",
       "\n",
       "    .dataframe tbody tr th {\n",
       "        vertical-align: top;\n",
       "    }\n",
       "\n",
       "    .dataframe thead th {\n",
       "        text-align: right;\n",
       "    }\n",
       "</style>\n",
       "<table border=\"1\" class=\"dataframe\">\n",
       "  <thead>\n",
       "    <tr style=\"text-align: right;\">\n",
       "      <th></th>\n",
       "      <th>Predicted 0</th>\n",
       "      <th>Predicted 1</th>\n",
       "    </tr>\n",
       "  </thead>\n",
       "  <tbody>\n",
       "    <tr>\n",
       "      <th>True 0</th>\n",
       "      <td>4408</td>\n",
       "      <td>295</td>\n",
       "    </tr>\n",
       "    <tr>\n",
       "      <th>True 1</th>\n",
       "      <td>823</td>\n",
       "      <td>474</td>\n",
       "    </tr>\n",
       "  </tbody>\n",
       "</table>\n",
       "</div>"
      ],
      "text/plain": [
       "        Predicted 0  Predicted 1\n",
       "True 0         4408          295\n",
       "True 1          823          474"
      ]
     },
     "execution_count": 195,
     "metadata": {},
     "output_type": "execute_result"
    }
   ],
   "source": [
    "pd.DataFrame(confusion_matrix(y_test, nn_pred), columns = [\"Predicted 0\", \"Predicted 1\"], index = [\"True 0\", \"True 1\"])"
   ]
  },
  {
   "cell_type": "markdown",
   "id": "2de028a8",
   "metadata": {
    "pycharm": {
     "name": "#%% md\n"
    }
   },
   "source": [
    "# Feature selection"
   ]
  },
  {
   "cell_type": "markdown",
   "id": "aeb5fd56",
   "metadata": {
    "pycharm": {
     "name": "#%% md\n"
    }
   },
   "source": [
    "### Filter Method - Chi2\n",
    "\n",
    "H0: There is no relationship between \"default\" and other categorical independent variables.\n",
    "\n",
    "H1: There is a relationship between \"default\" and other categorical independent variables.\n",
    "\n",
    "Testing this hypothesis at 5% level of significance, with (r-1)(c-1) degrees of freedom"
   ]
  },
  {
   "cell_type": "code",
   "execution_count": 35,
   "id": "cc0b1af2",
   "metadata": {
    "pycharm": {
     "name": "#%%\n"
    }
   },
   "outputs": [
    {
     "data": {
      "text/plain": "        feature        score         pvalue\n0           SEX    19.328592   1.100461e-05\n1         PAY_1  2504.407508   0.000000e+00\n2         PAY_2  2336.386495   0.000000e+00\n3         PAY_3  1783.040210   0.000000e+00\n4         PAY_4  1596.935908   0.000000e+00\n5         PAY_5  1567.964929   0.000000e+00\n6         PAY_6  1352.401621  4.632186e-296\n7   EDUCATION_1    39.102150   4.022009e-10\n8   EDUCATION_2    20.157046   7.133698e-06\n9   EDUCATION_3    14.052988   1.777313e-04\n10  EDUCATION_4    49.763611   1.734309e-12\n11   MARRIAGE_1    18.253826   1.933372e-05\n12   MARRIAGE_2    16.289254   5.437141e-05\n13   MARRIAGE_3     0.415601   5.191403e-01",
      "text/html": "<div>\n<style scoped>\n    .dataframe tbody tr th:only-of-type {\n        vertical-align: middle;\n    }\n\n    .dataframe tbody tr th {\n        vertical-align: top;\n    }\n\n    .dataframe thead th {\n        text-align: right;\n    }\n</style>\n<table border=\"1\" class=\"dataframe\">\n  <thead>\n    <tr style=\"text-align: right;\">\n      <th></th>\n      <th>feature</th>\n      <th>score</th>\n      <th>pvalue</th>\n    </tr>\n  </thead>\n  <tbody>\n    <tr>\n      <th>0</th>\n      <td>SEX</td>\n      <td>19.328592</td>\n      <td>1.100461e-05</td>\n    </tr>\n    <tr>\n      <th>1</th>\n      <td>PAY_1</td>\n      <td>2504.407508</td>\n      <td>0.000000e+00</td>\n    </tr>\n    <tr>\n      <th>2</th>\n      <td>PAY_2</td>\n      <td>2336.386495</td>\n      <td>0.000000e+00</td>\n    </tr>\n    <tr>\n      <th>3</th>\n      <td>PAY_3</td>\n      <td>1783.040210</td>\n      <td>0.000000e+00</td>\n    </tr>\n    <tr>\n      <th>4</th>\n      <td>PAY_4</td>\n      <td>1596.935908</td>\n      <td>0.000000e+00</td>\n    </tr>\n    <tr>\n      <th>5</th>\n      <td>PAY_5</td>\n      <td>1567.964929</td>\n      <td>0.000000e+00</td>\n    </tr>\n    <tr>\n      <th>6</th>\n      <td>PAY_6</td>\n      <td>1352.401621</td>\n      <td>4.632186e-296</td>\n    </tr>\n    <tr>\n      <th>7</th>\n      <td>EDUCATION_1</td>\n      <td>39.102150</td>\n      <td>4.022009e-10</td>\n    </tr>\n    <tr>\n      <th>8</th>\n      <td>EDUCATION_2</td>\n      <td>20.157046</td>\n      <td>7.133698e-06</td>\n    </tr>\n    <tr>\n      <th>9</th>\n      <td>EDUCATION_3</td>\n      <td>14.052988</td>\n      <td>1.777313e-04</td>\n    </tr>\n    <tr>\n      <th>10</th>\n      <td>EDUCATION_4</td>\n      <td>49.763611</td>\n      <td>1.734309e-12</td>\n    </tr>\n    <tr>\n      <th>11</th>\n      <td>MARRIAGE_1</td>\n      <td>18.253826</td>\n      <td>1.933372e-05</td>\n    </tr>\n    <tr>\n      <th>12</th>\n      <td>MARRIAGE_2</td>\n      <td>16.289254</td>\n      <td>5.437141e-05</td>\n    </tr>\n    <tr>\n      <th>13</th>\n      <td>MARRIAGE_3</td>\n      <td>0.415601</td>\n      <td>5.191403e-01</td>\n    </tr>\n  </tbody>\n</table>\n</div>"
     },
     "execution_count": 35,
     "metadata": {},
     "output_type": "execute_result"
    }
   ],
   "source": [
    "# extracting categorical columns\n",
    "x = X_train[[\"SEX\", \"PAY_1\", \"PAY_2\", \"PAY_3\", \"PAY_4\", \"PAY_5\", \"PAY_6\", \"EDUCATION_1\", \"EDUCATION_2\", \"EDUCATION_3\", \"EDUCATION_4\", \"MARRIAGE_1\", \"MARRIAGE_2\", \"MARRIAGE_3\"]]\n",
    "y = y_train\n",
    "\n",
    "# chi2\n",
    "statistics = chi2(x, y)\n",
    "\n",
    "# # creating the chi2 statistics\n",
    "# chi_sq= SelectKBest(chi2, k = 8)\n",
    "# chi_sq.fit(x, y)\n",
    "\n",
    "# observing the chi2 scores\n",
    "chi_scores = pd.DataFrame(list(zip(x.columns, *statistics)), columns =[\"feature\", \"score\", \"pvalue\"])\n",
    "chi_scores"
   ]
  },
  {
   "cell_type": "code",
   "execution_count": 36,
   "outputs": [
    {
     "data": {
      "text/plain": "['SEX',\n 'PAY_1',\n 'PAY_2',\n 'PAY_3',\n 'PAY_4',\n 'PAY_5',\n 'PAY_6',\n 'EDUCATION_1',\n 'EDUCATION_2',\n 'EDUCATION_3',\n 'EDUCATION_4',\n 'MARRIAGE_1',\n 'MARRIAGE_2']"
     },
     "execution_count": 36,
     "metadata": {},
     "output_type": "execute_result"
    }
   ],
   "source": [
    "# selecting the features that reject the null hypothesis (5%)\n",
    "significant_features = chi_scores[chi_scores[\"pvalue\"] < 0.05][\"feature\"]\n",
    "significant_features.tolist()"
   ],
   "metadata": {
    "collapsed": false,
    "pycharm": {
     "name": "#%%\n"
    }
   }
  },
  {
   "cell_type": "markdown",
   "id": "32496afe",
   "metadata": {
    "pycharm": {
     "name": "#%% md\n"
    }
   },
   "source": [
    "Features that have p-value less than 0.05 are\n",
    "\n",
    "'SEX', 'PAY_1', 'PAY_2', 'PAY_3', 'PAY_4', 'PAY_5', 'PAY_6', 'EDUCATION_1', 'EDUCATION_2', 'EDUCATION_3', 'EDUCATION_4', 'MARRIAGE_1', 'MARRIAGE_2'"
   ]
  },
  {
   "cell_type": "markdown",
   "id": "be44f687",
   "metadata": {
    "pycharm": {
     "name": "#%% md\n"
    }
   },
   "source": [
    "### Wrapper Method - Forward Selection\n",
    "We use Linear Regression as our test for variables to keep"
   ]
  },
  {
   "cell_type": "code",
   "execution_count": 60,
   "id": "b2cc807c",
   "metadata": {
    "pycharm": {
     "name": "#%%\n"
    }
   },
   "outputs": [
    {
     "data": {
      "text/html": [
       "<div>\n",
       "<style scoped>\n",
       "    .dataframe tbody tr th:only-of-type {\n",
       "        vertical-align: middle;\n",
       "    }\n",
       "\n",
       "    .dataframe tbody tr th {\n",
       "        vertical-align: top;\n",
       "    }\n",
       "\n",
       "    .dataframe thead th {\n",
       "        text-align: right;\n",
       "    }\n",
       "</style>\n",
       "<table border=\"1\" class=\"dataframe\">\n",
       "  <thead>\n",
       "    <tr style=\"text-align: right;\">\n",
       "      <th></th>\n",
       "      <th>feature_idx</th>\n",
       "      <th>cv_scores</th>\n",
       "      <th>avg_score</th>\n",
       "      <th>feature_names</th>\n",
       "    </tr>\n",
       "  </thead>\n",
       "  <tbody>\n",
       "    <tr>\n",
       "      <th>1</th>\n",
       "      <td>(3,)</td>\n",
       "      <td>[0.1493453338652141, 0.15603158985458587, 0.10...</td>\n",
       "      <td>0.134645</td>\n",
       "      <td>(PAY_1,)</td>\n",
       "    </tr>\n",
       "    <tr>\n",
       "      <th>2</th>\n",
       "      <td>(3, 7)</td>\n",
       "      <td>[0.16689715979474085, 0.18346492163381334, 0.1...</td>\n",
       "      <td>0.157067</td>\n",
       "      <td>(PAY_1, PAY_5)</td>\n",
       "    </tr>\n",
       "    <tr>\n",
       "      <th>3</th>\n",
       "      <td>(3, 5, 7)</td>\n",
       "      <td>[0.1776180954004405, 0.1919190131535382, 0.143...</td>\n",
       "      <td>0.166702</td>\n",
       "      <td>(PAY_1, PAY_3, PAY_5)</td>\n",
       "    </tr>\n",
       "    <tr>\n",
       "      <th>4</th>\n",
       "      <td>(0, 3, 5, 7)</td>\n",
       "      <td>[0.1816902129537168, 0.195047685075718, 0.1462...</td>\n",
       "      <td>0.170809</td>\n",
       "      <td>(LIMIT_BAL, PAY_1, PAY_3, PAY_5)</td>\n",
       "    </tr>\n",
       "    <tr>\n",
       "      <th>5</th>\n",
       "      <td>(0, 3, 5, 7, 8)</td>\n",
       "      <td>[0.18244146637156478, 0.19761495156268338, 0.1...</td>\n",
       "      <td>0.172928</td>\n",
       "      <td>(LIMIT_BAL, PAY_1, PAY_3, PAY_5, PAY_6)</td>\n",
       "    </tr>\n",
       "    <tr>\n",
       "      <th>6</th>\n",
       "      <td>(0, 3, 5, 7, 8, 26)</td>\n",
       "      <td>[0.18471736060559452, 0.19664098349476122, 0.1...</td>\n",
       "      <td>0.174311</td>\n",
       "      <td>(LIMIT_BAL, PAY_1, PAY_3, PAY_5, PAY_6, MARRIA...</td>\n",
       "    </tr>\n",
       "    <tr>\n",
       "      <th>7</th>\n",
       "      <td>(0, 3, 4, 5, 7, 8, 26)</td>\n",
       "      <td>[0.18419494977466977, 0.19493017522635647, 0.1...</td>\n",
       "      <td>0.175213</td>\n",
       "      <td>(LIMIT_BAL, PAY_1, PAY_2, PAY_3, PAY_5, PAY_6,...</td>\n",
       "    </tr>\n",
       "    <tr>\n",
       "      <th>8</th>\n",
       "      <td>(0, 3, 4, 5, 7, 8, 24, 26)</td>\n",
       "      <td>[0.18395368107918797, 0.19614342955272046, 0.1...</td>\n",
       "      <td>0.175969</td>\n",
       "      <td>(LIMIT_BAL, PAY_1, PAY_2, PAY_3, PAY_5, PAY_6,...</td>\n",
       "    </tr>\n",
       "    <tr>\n",
       "      <th>9</th>\n",
       "      <td>(0, 1, 3, 4, 5, 7, 8, 24, 26)</td>\n",
       "      <td>[0.18523891652939084, 0.19726953839960093, 0.1...</td>\n",
       "      <td>0.176697</td>\n",
       "      <td>(LIMIT_BAL, SEX, PAY_1, PAY_2, PAY_3, PAY_5, P...</td>\n",
       "    </tr>\n",
       "    <tr>\n",
       "      <th>10</th>\n",
       "      <td>(0, 1, 3, 4, 5, 7, 8, 15, 24, 26)</td>\n",
       "      <td>[0.18600923529533686, 0.19801381812057617, 0.1...</td>\n",
       "      <td>0.177418</td>\n",
       "      <td>(LIMIT_BAL, SEX, PAY_1, PAY_2, PAY_3, PAY_5, P...</td>\n",
       "    </tr>\n",
       "  </tbody>\n",
       "</table>\n",
       "</div>"
      ],
      "text/plain": [
       "                          feature_idx  \\\n",
       "1                                (3,)   \n",
       "2                              (3, 7)   \n",
       "3                           (3, 5, 7)   \n",
       "4                        (0, 3, 5, 7)   \n",
       "5                     (0, 3, 5, 7, 8)   \n",
       "6                 (0, 3, 5, 7, 8, 26)   \n",
       "7              (0, 3, 4, 5, 7, 8, 26)   \n",
       "8          (0, 3, 4, 5, 7, 8, 24, 26)   \n",
       "9       (0, 1, 3, 4, 5, 7, 8, 24, 26)   \n",
       "10  (0, 1, 3, 4, 5, 7, 8, 15, 24, 26)   \n",
       "\n",
       "                                            cv_scores avg_score  \\\n",
       "1   [0.1493453338652141, 0.15603158985458587, 0.10...  0.134645   \n",
       "2   [0.16689715979474085, 0.18346492163381334, 0.1...  0.157067   \n",
       "3   [0.1776180954004405, 0.1919190131535382, 0.143...  0.166702   \n",
       "4   [0.1816902129537168, 0.195047685075718, 0.1462...  0.170809   \n",
       "5   [0.18244146637156478, 0.19761495156268338, 0.1...  0.172928   \n",
       "6   [0.18471736060559452, 0.19664098349476122, 0.1...  0.174311   \n",
       "7   [0.18419494977466977, 0.19493017522635647, 0.1...  0.175213   \n",
       "8   [0.18395368107918797, 0.19614342955272046, 0.1...  0.175969   \n",
       "9   [0.18523891652939084, 0.19726953839960093, 0.1...  0.176697   \n",
       "10  [0.18600923529533686, 0.19801381812057617, 0.1...  0.177418   \n",
       "\n",
       "                                        feature_names  \n",
       "1                                            (PAY_1,)  \n",
       "2                                      (PAY_1, PAY_5)  \n",
       "3                               (PAY_1, PAY_3, PAY_5)  \n",
       "4                    (LIMIT_BAL, PAY_1, PAY_3, PAY_5)  \n",
       "5             (LIMIT_BAL, PAY_1, PAY_3, PAY_5, PAY_6)  \n",
       "6   (LIMIT_BAL, PAY_1, PAY_3, PAY_5, PAY_6, MARRIA...  \n",
       "7   (LIMIT_BAL, PAY_1, PAY_2, PAY_3, PAY_5, PAY_6,...  \n",
       "8   (LIMIT_BAL, PAY_1, PAY_2, PAY_3, PAY_5, PAY_6,...  \n",
       "9   (LIMIT_BAL, SEX, PAY_1, PAY_2, PAY_3, PAY_5, P...  \n",
       "10  (LIMIT_BAL, SEX, PAY_1, PAY_2, PAY_3, PAY_5, P...  "
      ]
     },
     "execution_count": 60,
     "metadata": {},
     "output_type": "execute_result"
    }
   ],
   "source": [
    "# Forward Selection\n",
    "lreg = LinearRegression()\n",
    "fws = sfs(lreg, k_features=10, forward=True, scoring='r2', cv = 5) # keep approximately half of the total number of features\n",
    "fws.fit(X_train, y_train)\n",
    "table = pd.DataFrame(fws.subsets_).T\n",
    "table"
   ]
  },
  {
   "cell_type": "markdown",
   "id": "171194d5",
   "metadata": {
    "pycharm": {
     "name": "#%% md\n"
    }
   },
   "source": [
    "The top 10 features to select will be LIMIT_BAL, SEX, PAY_1, PAY_2, PAY_3, PAY_5, PAY_6, PAY_AMT1, EDUCATION_4, MARRIAGE_2"
   ]
  },
  {
   "cell_type": "markdown",
   "id": "2c155cec",
   "metadata": {
    "pycharm": {
     "name": "#%% md\n"
    }
   },
   "source": [
    "### Embedded Method - Random Forest"
   ]
  },
  {
   "cell_type": "code",
   "execution_count": 61,
   "id": "8ebc9eee",
   "metadata": {
    "pycharm": {
     "name": "#%%\n"
    }
   },
   "outputs": [
    {
     "data": {
      "text/plain": [
       "array([0.06164632, 0.01267104, 0.06781958, 0.06520381, 0.03397051,\n",
       "       0.0212019 , 0.01812225, 0.01525486, 0.01892131, 0.0678045 ,\n",
       "       0.05917926, 0.05643935, 0.05404311, 0.05282601, 0.05430341,\n",
       "       0.05421721, 0.04942933, 0.0488772 , 0.0463043 , 0.04461673,\n",
       "       0.04904686, 0.0089207 , 0.01012574, 0.00821934, 0.00127353,\n",
       "       0.00875422, 0.00887152, 0.00193611])"
      ]
     },
     "execution_count": 61,
     "metadata": {},
     "output_type": "execute_result"
    }
   ],
   "source": [
    "rf = RandomForestClassifier(random_state=0)\n",
    "rf.fit(X_train, y_train)\n",
    "rf.feature_importances_"
   ]
  },
  {
   "cell_type": "code",
   "execution_count": 62,
   "id": "168af761",
   "metadata": {
    "pycharm": {
     "name": "#%%\n"
    }
   },
   "outputs": [
    {
     "data": {
      "text/plain": [
       "<BarContainer object of 28 artists>"
      ]
     },
     "execution_count": 62,
     "metadata": {},
     "output_type": "execute_result"
    },
    {
     "data": {
      "image/png": "[encoded data removed]",
      "text/plain": [
       "<Figure size 640x480 with 1 Axes>"
      ]
     },
     "metadata": {},
     "output_type": "display_data"
    }
   ],
   "source": [
    "# Plot RF scores\n",
    "sorted_idx = rf.feature_importances_.argsort()\n",
    "plt.barh(rf.feature_names_in_[sorted_idx], rf.feature_importances_[sorted_idx])"
   ]
  },
  {
   "cell_type": "markdown",
   "id": "ca3b8657",
   "metadata": {
    "pycharm": {
     "name": "#%% md\n"
    }
   },
   "source": [
    "The most important feature is \"AGE\" and the least important feature is \"EDUCATION_4\""
   ]
  },
  {
   "cell_type": "markdown",
   "id": "1268b47b",
   "metadata": {
    "pycharm": {
     "name": "#%% md\n"
    }
   },
   "source": [
    "From the 3 feature selection methods as shown above, we derive these conclusions\n",
    "1. From chi2 test, ‘SEX’, ‘PAY_1’, ‘PAY_2’, ‘PAY_3’, ‘PAY_4’, ‘PAY_5’, ‘PAY_6’, ‘EDUCATION_1’, ‘EDUCATION_2’, ‘EDUCATION_3’, ‘EDUCATION_4’, ‘MARRIAGE_1’, ‘MARRIAGE_2’ are features whose p-value are less than 0.05\n",
    "2. From forward selection, 'LIMIT_BAL', 'SEX', 'PAY_1', 'PAY_2', 'PAY_3', 'PAY_5', 'PAY_6', 'PAY_AMT1', 'EDUCATION_4', 'MARRIAGE_2' are the 10 most important features\n",
    "3. From Embedded method, 'AGE', 'BILL_AMT1', 'PAY_1', 'LIMIT_BAL', 'BILL_AMT2', 'BILL_AMT3', 'BILL_AMT6', 'BILL_AMT4', 'PAY_AMT1', 'BILL_AMT5' are the 10 most important features\n",
    "\n",
    "For categorical variables, we will select features that appear in both (1) and (2)\n",
    "These features are 'SEX', 'PAY_1', 'PAY_2', 'PAY_3', 'PAY_5', 'PAY_6', 'MARRIAGE_2', 'EDUCATION_4'\n",
    "\n",
    "For continuous variables, we will select features that appear in both (2) and (3)\n",
    "These features are 'LIMIT_BAL', 'PAY_AMT1'\n",
    "\n",
    "As such, our final set of selected features are 'SEX', 'PAY_1', 'PAY_2', 'PAY_3', 'PAY_5', 'PAY_6', 'MARRIAGE_2', 'EDUCATION_4', 'LIMIT_BAL', 'PAY_AMT1'"
   ]
  },
  {
   "cell_type": "markdown",
   "id": "11c24d21",
   "metadata": {
    "pycharm": {
     "name": "#%% md\n"
    }
   },
   "source": []
  },
  {
   "cell_type": "code",
   "execution_count": 34,
   "id": "a1272b69",
   "metadata": {
    "pycharm": {
     "name": "#%%\n"
    }
   },
   "outputs": [],
   "source": [
    "features_selected = [\n",
    "    'SEX',\n",
    "    'PAY_1',\n",
    "    'PAY_2',\n",
    "    'PAY_3',\n",
    "    'PAY_5',\n",
    "    'PAY_6',\n",
    "    'MARRIAGE_2',\n",
    "    'EDUCATION_4',\n",
    "    'LIMIT_BAL',\n",
    "    'PAY_AMT1'\n",
    "]"
   ]
  },
  {
   "cell_type": "markdown",
   "id": "8decff24",
   "metadata": {
    "pycharm": {
     "name": "#%% md\n"
    }
   },
   "source": [
    "## Refactoring dataset"
   ]
  },
  {
   "cell_type": "code",
   "execution_count": 35,
   "id": "180422f4",
   "metadata": {
    "pycharm": {
     "name": "#%%\n"
    }
   },
   "outputs": [
    {
     "data": {
      "text/html": [
       "<div>\n",
       "<style scoped>\n",
       "    .dataframe tbody tr th:only-of-type {\n",
       "        vertical-align: middle;\n",
       "    }\n",
       "\n",
       "    .dataframe tbody tr th {\n",
       "        vertical-align: top;\n",
       "    }\n",
       "\n",
       "    .dataframe thead th {\n",
       "        text-align: right;\n",
       "    }\n",
       "</style>\n",
       "<table border=\"1\" class=\"dataframe\">\n",
       "  <thead>\n",
       "    <tr style=\"text-align: right;\">\n",
       "      <th></th>\n",
       "      <th>SEX</th>\n",
       "      <th>PAY_1</th>\n",
       "      <th>PAY_2</th>\n",
       "      <th>PAY_3</th>\n",
       "      <th>PAY_5</th>\n",
       "      <th>PAY_6</th>\n",
       "      <th>MARRIAGE_2</th>\n",
       "      <th>EDUCATION_4</th>\n",
       "      <th>LIMIT_BAL</th>\n",
       "      <th>PAY_AMT1</th>\n",
       "    </tr>\n",
       "  </thead>\n",
       "  <tbody>\n",
       "    <tr>\n",
       "      <th>3225</th>\n",
       "      <td>1.0</td>\n",
       "      <td>0.0</td>\n",
       "      <td>0.0</td>\n",
       "      <td>1.0</td>\n",
       "      <td>0.0</td>\n",
       "      <td>0.0</td>\n",
       "      <td>0.0</td>\n",
       "      <td>0.0</td>\n",
       "      <td>0.010101</td>\n",
       "      <td>0.003434</td>\n",
       "    </tr>\n",
       "    <tr>\n",
       "      <th>11815</th>\n",
       "      <td>1.0</td>\n",
       "      <td>0.0</td>\n",
       "      <td>0.0</td>\n",
       "      <td>0.0</td>\n",
       "      <td>0.0</td>\n",
       "      <td>0.0</td>\n",
       "      <td>1.0</td>\n",
       "      <td>0.0</td>\n",
       "      <td>0.252525</td>\n",
       "      <td>0.000189</td>\n",
       "    </tr>\n",
       "    <tr>\n",
       "      <th>7338</th>\n",
       "      <td>0.0</td>\n",
       "      <td>1.0</td>\n",
       "      <td>0.0</td>\n",
       "      <td>0.0</td>\n",
       "      <td>0.0</td>\n",
       "      <td>0.0</td>\n",
       "      <td>0.0</td>\n",
       "      <td>0.0</td>\n",
       "      <td>0.010101</td>\n",
       "      <td>0.001717</td>\n",
       "    </tr>\n",
       "    <tr>\n",
       "      <th>14980</th>\n",
       "      <td>0.0</td>\n",
       "      <td>1.0</td>\n",
       "      <td>1.0</td>\n",
       "      <td>1.0</td>\n",
       "      <td>1.0</td>\n",
       "      <td>1.0</td>\n",
       "      <td>0.0</td>\n",
       "      <td>0.0</td>\n",
       "      <td>0.020202</td>\n",
       "      <td>0.002061</td>\n",
       "    </tr>\n",
       "    <tr>\n",
       "      <th>27167</th>\n",
       "      <td>0.0</td>\n",
       "      <td>0.0</td>\n",
       "      <td>0.0</td>\n",
       "      <td>0.0</td>\n",
       "      <td>0.0</td>\n",
       "      <td>0.0</td>\n",
       "      <td>0.0</td>\n",
       "      <td>0.0</td>\n",
       "      <td>0.000000</td>\n",
       "      <td>0.003205</td>\n",
       "    </tr>\n",
       "  </tbody>\n",
       "</table>\n",
       "</div>"
      ],
      "text/plain": [
       "       SEX  PAY_1  PAY_2  PAY_3  PAY_5  PAY_6  MARRIAGE_2  EDUCATION_4  \\\n",
       "3225   1.0    0.0    0.0    1.0    0.0    0.0         0.0          0.0   \n",
       "11815  1.0    0.0    0.0    0.0    0.0    0.0         1.0          0.0   \n",
       "7338   0.0    1.0    0.0    0.0    0.0    0.0         0.0          0.0   \n",
       "14980  0.0    1.0    1.0    1.0    1.0    1.0         0.0          0.0   \n",
       "27167  0.0    0.0    0.0    0.0    0.0    0.0         0.0          0.0   \n",
       "\n",
       "       LIMIT_BAL  PAY_AMT1  \n",
       "3225    0.010101  0.003434  \n",
       "11815   0.252525  0.000189  \n",
       "7338    0.010101  0.001717  \n",
       "14980   0.020202  0.002061  \n",
       "27167   0.000000  0.003205  "
      ]
     },
     "execution_count": 35,
     "metadata": {},
     "output_type": "execute_result"
    }
   ],
   "source": [
    "X_train = X_train[features_selected]\n",
    "X_train.head()"
   ]
  },
  {
   "cell_type": "code",
   "execution_count": 36,
   "id": "cbff4630",
   "metadata": {
    "pycharm": {
     "name": "#%%\n"
    }
   },
   "outputs": [
    {
     "data": {
      "text/html": [
       "<div>\n",
       "<style scoped>\n",
       "    .dataframe tbody tr th:only-of-type {\n",
       "        vertical-align: middle;\n",
       "    }\n",
       "\n",
       "    .dataframe tbody tr th {\n",
       "        vertical-align: top;\n",
       "    }\n",
       "\n",
       "    .dataframe thead th {\n",
       "        text-align: right;\n",
       "    }\n",
       "</style>\n",
       "<table border=\"1\" class=\"dataframe\">\n",
       "  <thead>\n",
       "    <tr style=\"text-align: right;\">\n",
       "      <th></th>\n",
       "      <th>SEX</th>\n",
       "      <th>PAY_1</th>\n",
       "      <th>PAY_2</th>\n",
       "      <th>PAY_3</th>\n",
       "      <th>PAY_5</th>\n",
       "      <th>PAY_6</th>\n",
       "      <th>MARRIAGE_2</th>\n",
       "      <th>EDUCATION_4</th>\n",
       "      <th>LIMIT_BAL</th>\n",
       "      <th>PAY_AMT1</th>\n",
       "    </tr>\n",
       "  </thead>\n",
       "  <tbody>\n",
       "    <tr>\n",
       "      <th>8225</th>\n",
       "      <td>0.0</td>\n",
       "      <td>1.0</td>\n",
       "      <td>1.0</td>\n",
       "      <td>1.0</td>\n",
       "      <td>1.0</td>\n",
       "      <td>1.0</td>\n",
       "      <td>1.0</td>\n",
       "      <td>0.0</td>\n",
       "      <td>0.010101</td>\n",
       "      <td>0.000000</td>\n",
       "    </tr>\n",
       "    <tr>\n",
       "      <th>10794</th>\n",
       "      <td>1.0</td>\n",
       "      <td>0.0</td>\n",
       "      <td>0.0</td>\n",
       "      <td>1.0</td>\n",
       "      <td>0.0</td>\n",
       "      <td>0.0</td>\n",
       "      <td>1.0</td>\n",
       "      <td>0.0</td>\n",
       "      <td>0.010101</td>\n",
       "      <td>0.003892</td>\n",
       "    </tr>\n",
       "    <tr>\n",
       "      <th>9163</th>\n",
       "      <td>1.0</td>\n",
       "      <td>1.0</td>\n",
       "      <td>0.0</td>\n",
       "      <td>0.0</td>\n",
       "      <td>0.0</td>\n",
       "      <td>0.0</td>\n",
       "      <td>0.0</td>\n",
       "      <td>0.0</td>\n",
       "      <td>0.222222</td>\n",
       "      <td>0.001086</td>\n",
       "    </tr>\n",
       "    <tr>\n",
       "      <th>26591</th>\n",
       "      <td>0.0</td>\n",
       "      <td>0.0</td>\n",
       "      <td>0.0</td>\n",
       "      <td>0.0</td>\n",
       "      <td>0.0</td>\n",
       "      <td>0.0</td>\n",
       "      <td>0.0</td>\n",
       "      <td>0.0</td>\n",
       "      <td>0.090909</td>\n",
       "      <td>0.005724</td>\n",
       "    </tr>\n",
       "    <tr>\n",
       "      <th>6631</th>\n",
       "      <td>0.0</td>\n",
       "      <td>0.0</td>\n",
       "      <td>0.0</td>\n",
       "      <td>0.0</td>\n",
       "      <td>0.0</td>\n",
       "      <td>0.0</td>\n",
       "      <td>1.0</td>\n",
       "      <td>0.0</td>\n",
       "      <td>0.141414</td>\n",
       "      <td>0.008001</td>\n",
       "    </tr>\n",
       "  </tbody>\n",
       "</table>\n",
       "</div>"
      ],
      "text/plain": [
       "       SEX  PAY_1  PAY_2  PAY_3  PAY_5  PAY_6  MARRIAGE_2  EDUCATION_4  \\\n",
       "8225   0.0    1.0    1.0    1.0    1.0    1.0         1.0          0.0   \n",
       "10794  1.0    0.0    0.0    1.0    0.0    0.0         1.0          0.0   \n",
       "9163   1.0    1.0    0.0    0.0    0.0    0.0         0.0          0.0   \n",
       "26591  0.0    0.0    0.0    0.0    0.0    0.0         0.0          0.0   \n",
       "6631   0.0    0.0    0.0    0.0    0.0    0.0         1.0          0.0   \n",
       "\n",
       "       LIMIT_BAL  PAY_AMT1  \n",
       "8225    0.010101  0.000000  \n",
       "10794   0.010101  0.003892  \n",
       "9163    0.222222  0.001086  \n",
       "26591   0.090909  0.005724  \n",
       "6631    0.141414  0.008001  "
      ]
     },
     "execution_count": 36,
     "metadata": {},
     "output_type": "execute_result"
    }
   ],
   "source": [
    "X_test = X_test[features_selected]\n",
    "X_test.head()"
   ]
  },
  {
   "cell_type": "markdown",
   "id": "72e13e0e",
   "metadata": {
    "pycharm": {
     "name": "#%% md\n"
    }
   },
   "source": []
  },
  {
   "cell_type": "markdown",
   "id": "576e2755",
   "metadata": {
    "pycharm": {
     "name": "#%% md\n"
    }
   },
   "source": [
    "# Creating a balanced dataset using SMOTE"
   ]
  },
  {
   "cell_type": "code",
   "execution_count": 37,
   "id": "fb14a8e4",
   "metadata": {
    "pycharm": {
     "name": "#%%\n"
    }
   },
   "outputs": [],
   "source": [
    "sm = SMOTE(random_state=0, sampling_strategy= 1.0)\n",
    "X_SMOTE, y_SMOTE = sm.fit_resample(X_train, y_train)"
   ]
  },
  {
   "cell_type": "code",
   "execution_count": 38,
   "id": "968acaea",
   "metadata": {
    "pycharm": {
     "name": "#%%\n"
    }
   },
   "outputs": [
    {
     "data": {
      "text/plain": [
       "0.0    18661\n",
       "1.0    18661\n",
       "Name: default, dtype: int64"
      ]
     },
     "execution_count": 38,
     "metadata": {},
     "output_type": "execute_result"
    }
   ],
   "source": [
    "y_SMOTE.value_counts()"
   ]
  },
  {
   "cell_type": "markdown",
   "id": "87f5507f",
   "metadata": {
    "pycharm": {
     "name": "#%% md\n"
    }
   },
   "source": [
    "# Model Selection\n",
    "\n",
    "We will now run the 5 models on the dataset that has undergone feature selection, followed by using the balanced dataset from SMOTE and finally tune the hyparameters of each model.\n",
    "1. Logistic Regression\n",
    "2. Support Vector Machine\n",
    "3. Random Forest\n",
    "4. XGBoost\n",
    "5. Neural Network"
   ]
  },
  {
   "cell_type": "markdown",
   "id": "7fb748ae",
   "metadata": {
    "pycharm": {
     "name": "#%% md\n"
    }
   },
   "source": [
    "## Logistic Regression"
   ]
  },
  {
   "cell_type": "markdown",
   "id": "7f60a7fe",
   "metadata": {
    "pycharm": {
     "name": "#%% md\n"
    }
   },
   "source": [
    "### Model Fitting for Logistic Regression after Feature Selection"
   ]
  },
  {
   "cell_type": "code",
   "execution_count": 202,
   "id": "86363eb7",
   "metadata": {
    "pycharm": {
     "name": "#%%\n"
    }
   },
   "outputs": [],
   "source": [
    "logistic_regression_model = LogisticRegression(max_iter = 1000, random_state = 0)\n",
    "logistic_regression_model.fit(X_train, y_train)\n",
    "\n",
    "logistic_regression_model_y_pred = logistic_regression_model.predict(X_test)"
   ]
  },
  {
   "cell_type": "code",
   "execution_count": 203,
   "id": "b325fa8a",
   "metadata": {
    "pycharm": {
     "name": "#%%\n"
    }
   },
   "outputs": [
    {
     "name": "stdout",
     "output_type": "stream",
     "text": [
      "              precision    recall  f1-score   support\n",
      "\n",
      "         0.0    0.83019   0.95322   0.88746      4703\n",
      "         1.0    0.63333   0.29298   0.40063      1297\n",
      "\n",
      "    accuracy                        0.81050      6000\n",
      "   macro avg    0.73176   0.62310   0.64405      6000\n",
      "weighted avg    0.78763   0.81050   0.78222      6000\n",
      "\n"
     ]
    }
   ],
   "source": [
    "print(classification_report(y_test, logistic_regression_model_y_pred, digits=5))"
   ]
  },
  {
   "cell_type": "code",
   "execution_count": 204,
   "id": "fbd2c5a1",
   "metadata": {
    "pycharm": {
     "name": "#%%\n"
    }
   },
   "outputs": [
    {
     "name": "stdout",
     "output_type": "stream",
     "text": [
      "AUC: 0.6231025784326053\n"
     ]
    }
   ],
   "source": [
    "print(\"AUC: \" + str(roc_auc_score(y_test, logistic_regression_model_y_pred)))"
   ]
  },
  {
   "cell_type": "code",
   "execution_count": 205,
   "id": "80f415d1",
   "metadata": {
    "pycharm": {
     "name": "#%%\n"
    }
   },
   "outputs": [
    {
     "data": {
      "text/html": [
       "<div>\n",
       "<style scoped>\n",
       "    .dataframe tbody tr th:only-of-type {\n",
       "        vertical-align: middle;\n",
       "    }\n",
       "\n",
       "    .dataframe tbody tr th {\n",
       "        vertical-align: top;\n",
       "    }\n",
       "\n",
       "    .dataframe thead th {\n",
       "        text-align: right;\n",
       "    }\n",
       "</style>\n",
       "<table border=\"1\" class=\"dataframe\">\n",
       "  <thead>\n",
       "    <tr style=\"text-align: right;\">\n",
       "      <th></th>\n",
       "      <th>Predicted 0</th>\n",
       "      <th>Predicted 1</th>\n",
       "    </tr>\n",
       "  </thead>\n",
       "  <tbody>\n",
       "    <tr>\n",
       "      <th>True 0</th>\n",
       "      <td>4483</td>\n",
       "      <td>220</td>\n",
       "    </tr>\n",
       "    <tr>\n",
       "      <th>True 1</th>\n",
       "      <td>917</td>\n",
       "      <td>380</td>\n",
       "    </tr>\n",
       "  </tbody>\n",
       "</table>\n",
       "</div>"
      ],
      "text/plain": [
       "        Predicted 0  Predicted 1\n",
       "True 0         4483          220\n",
       "True 1          917          380"
      ]
     },
     "execution_count": 205,
     "metadata": {},
     "output_type": "execute_result"
    }
   ],
   "source": [
    "pd.DataFrame(confusion_matrix(y_test, logistic_regression_model_y_pred), columns = [\"Predicted 0\", \"Predicted 1\"], index = [\"True 0\", \"True 1\"])"
   ]
  },
  {
   "cell_type": "markdown",
   "id": "d5aaa6bb",
   "metadata": {
    "pycharm": {
     "name": "#%% md\n"
    }
   },
   "source": [
    "### Model Fitting for Logistic Regression on Balanced Dataset after SMOTE"
   ]
  },
  {
   "cell_type": "code",
   "execution_count": 326,
   "id": "d6fb06cb",
   "metadata": {
    "pycharm": {
     "name": "#%%\n"
    }
   },
   "outputs": [],
   "source": [
    "smote_lr = LogisticRegression(max_iter = 1000, random_state = 0)\n",
    "smote_lr.fit(X_SMOTE, y_SMOTE)\n",
    "\n",
    "smote_lr_y_pred = smote_lr.predict(X_test)"
   ]
  },
  {
   "cell_type": "code",
   "execution_count": 327,
   "id": "0e82540a",
   "metadata": {
    "pycharm": {
     "name": "#%%\n"
    }
   },
   "outputs": [
    {
     "name": "stdout",
     "output_type": "stream",
     "text": [
      "              precision    recall  f1-score   support\n",
      "\n",
      "         0.0    0.87679   0.82160   0.84830      4703\n",
      "         1.0    0.47332   0.58134   0.52180      1297\n",
      "\n",
      "    accuracy                        0.76967      6000\n",
      "   macro avg    0.67505   0.70147   0.68505      6000\n",
      "weighted avg    0.78957   0.76967   0.77772      6000\n",
      "\n"
     ]
    }
   ],
   "source": [
    "print(classification_report(y_test, smote_lr_y_pred, digits=5))"
   ]
  },
  {
   "cell_type": "code",
   "execution_count": 328,
   "id": "b5b58808",
   "metadata": {
    "pycharm": {
     "name": "#%%\n"
    }
   },
   "outputs": [
    {
     "name": "stdout",
     "output_type": "stream",
     "text": [
      "AUC: 0.7014723947099172\n"
     ]
    }
   ],
   "source": [
    "print(\"AUC: \" + str(roc_auc_score(y_test, smote_lr_y_pred)))"
   ]
  },
  {
   "cell_type": "code",
   "execution_count": 329,
   "id": "5d826506",
   "metadata": {
    "pycharm": {
     "name": "#%%\n"
    }
   },
   "outputs": [
    {
     "data": {
      "text/html": [
       "<div>\n",
       "<style scoped>\n",
       "    .dataframe tbody tr th:only-of-type {\n",
       "        vertical-align: middle;\n",
       "    }\n",
       "\n",
       "    .dataframe tbody tr th {\n",
       "        vertical-align: top;\n",
       "    }\n",
       "\n",
       "    .dataframe thead th {\n",
       "        text-align: right;\n",
       "    }\n",
       "</style>\n",
       "<table border=\"1\" class=\"dataframe\">\n",
       "  <thead>\n",
       "    <tr style=\"text-align: right;\">\n",
       "      <th></th>\n",
       "      <th>Predicted 0</th>\n",
       "      <th>Predicted 1</th>\n",
       "    </tr>\n",
       "  </thead>\n",
       "  <tbody>\n",
       "    <tr>\n",
       "      <th>True 0</th>\n",
       "      <td>3864</td>\n",
       "      <td>839</td>\n",
       "    </tr>\n",
       "    <tr>\n",
       "      <th>True 1</th>\n",
       "      <td>543</td>\n",
       "      <td>754</td>\n",
       "    </tr>\n",
       "  </tbody>\n",
       "</table>\n",
       "</div>"
      ],
      "text/plain": [
       "        Predicted 0  Predicted 1\n",
       "True 0         3864          839\n",
       "True 1          543          754"
      ]
     },
     "execution_count": 329,
     "metadata": {},
     "output_type": "execute_result"
    }
   ],
   "source": [
    "pd.DataFrame(confusion_matrix(y_test, smote_lr_y_pred), columns = [\"Predicted 0\", \"Predicted 1\"], index = [\"True 0\", \"True 1\"])"
   ]
  },
  {
   "cell_type": "markdown",
   "id": "3896ad39",
   "metadata": {
    "pycharm": {
     "name": "#%% md\n"
    }
   },
   "source": [
    "### Tuning Logistic Regression"
   ]
  },
  {
   "cell_type": "code",
   "execution_count": 330,
   "id": "045453a2",
   "metadata": {
    "pycharm": {
     "name": "#%%\n"
    }
   },
   "outputs": [],
   "source": [
    "# create the grid\n",
    "lr_param_grid = {\n",
    "    'C': [0.01, 0.1, 1, 10, 100],\n",
    "    'penalty' : ['l2'],\n",
    "    'solver' : ['newton-cg', 'lbfgs']\n",
    "}"
   ]
  },
  {
   "cell_type": "code",
   "execution_count": 331,
   "id": "0c55f7b4",
   "metadata": {
    "pycharm": {
     "name": "#%%\n"
    }
   },
   "outputs": [
    {
     "name": "stdout",
     "output_type": "stream",
     "text": [
      "{'C': 10, 'penalty': 'l2', 'solver': 'newton-cg'}\n"
     ]
    }
   ],
   "source": [
    "# perform grid search and then fit\n",
    "lr_grid = GridSearchCV(LogisticRegression(max_iter = 1000, random_state = 0), lr_param_grid, scoring = 'accuracy')\n",
    "lr_grid.fit(X_SMOTE, y_SMOTE)\n",
    "print(lr_grid.best_params_)"
   ]
  },
  {
   "cell_type": "code",
   "execution_count": 39,
   "id": "422f8263",
   "metadata": {
    "pycharm": {
     "name": "#%%\n"
    }
   },
   "outputs": [],
   "source": [
    "optimised_lr = LogisticRegression(C = 10, penalty='l2', solver='newton-cg', max_iter = 1000, random_state = 0)\n",
    "optimised_lr.fit(X_SMOTE, y_SMOTE)\n",
    "\n",
    "lr_grid_y_predict = optimised_lr.predict(X_test)"
   ]
  },
  {
   "cell_type": "code",
   "execution_count": 40,
   "id": "0a90ab19",
   "metadata": {
    "pycharm": {
     "name": "#%%\n"
    }
   },
   "outputs": [
    {
     "name": "stdout",
     "output_type": "stream",
     "text": [
      "              precision    recall  f1-score   support\n",
      "\n",
      "         0.0    0.87750   0.81948   0.84750      4703\n",
      "         1.0    0.47201   0.58520   0.52255      1297\n",
      "\n",
      "    accuracy                        0.76883      6000\n",
      "   macro avg    0.67476   0.70234   0.68502      6000\n",
      "weighted avg    0.78985   0.76883   0.77725      6000\n",
      "\n"
     ]
    }
   ],
   "source": [
    "print(classification_report(y_test, lr_grid_y_predict, digits=5))"
   ]
  },
  {
   "cell_type": "code",
   "execution_count": 41,
   "id": "ceea64d0",
   "metadata": {
    "pycharm": {
     "name": "#%%\n"
    }
   },
   "outputs": [
    {
     "name": "stdout",
     "output_type": "stream",
     "text": [
      "AUC: 0.702336768587645\n"
     ]
    }
   ],
   "source": [
    "print(\"AUC: \" + str(roc_auc_score(y_test, lr_grid_y_predict)))"
   ]
  },
  {
   "cell_type": "code",
   "execution_count": 42,
   "id": "d1e681bd",
   "metadata": {
    "pycharm": {
     "name": "#%%\n"
    }
   },
   "outputs": [
    {
     "data": {
      "text/html": [
       "<div>\n",
       "<style scoped>\n",
       "    .dataframe tbody tr th:only-of-type {\n",
       "        vertical-align: middle;\n",
       "    }\n",
       "\n",
       "    .dataframe tbody tr th {\n",
       "        vertical-align: top;\n",
       "    }\n",
       "\n",
       "    .dataframe thead th {\n",
       "        text-align: right;\n",
       "    }\n",
       "</style>\n",
       "<table border=\"1\" class=\"dataframe\">\n",
       "  <thead>\n",
       "    <tr style=\"text-align: right;\">\n",
       "      <th></th>\n",
       "      <th>Predicted 0</th>\n",
       "      <th>Predicted 1</th>\n",
       "    </tr>\n",
       "  </thead>\n",
       "  <tbody>\n",
       "    <tr>\n",
       "      <th>True 0</th>\n",
       "      <td>3854</td>\n",
       "      <td>849</td>\n",
       "    </tr>\n",
       "    <tr>\n",
       "      <th>True 1</th>\n",
       "      <td>538</td>\n",
       "      <td>759</td>\n",
       "    </tr>\n",
       "  </tbody>\n",
       "</table>\n",
       "</div>"
      ],
      "text/plain": [
       "        Predicted 0  Predicted 1\n",
       "True 0         3854          849\n",
       "True 1          538          759"
      ]
     },
     "execution_count": 42,
     "metadata": {},
     "output_type": "execute_result"
    }
   ],
   "source": [
    "pd.DataFrame(confusion_matrix(y_test, lr_grid_y_predict), columns = [\"Predicted 0\", \"Predicted 1\"], index = [\"True 0\", \"True 1\"])"
   ]
  },
  {
   "cell_type": "markdown",
   "id": "866fabe2",
   "metadata": {
    "pycharm": {
     "name": "#%% md\n"
    }
   },
   "source": [
    "## Support Vector Machine"
   ]
  },
  {
   "cell_type": "markdown",
   "id": "f4588b75",
   "metadata": {
    "pycharm": {
     "name": "#%% md\n"
    }
   },
   "source": [
    "### Model Fitting for SVM after Feature Selection"
   ]
  },
  {
   "cell_type": "code",
   "execution_count": 216,
   "id": "23e98f67",
   "metadata": {
    "pycharm": {
     "name": "#%%\n"
    }
   },
   "outputs": [],
   "source": [
    "svm_model = SVC(random_state = 0)\n",
    "svm_model.fit(X_train, y_train)\n",
    "svm_model_y_pred = svm_model.predict(X_test)"
   ]
  },
  {
   "cell_type": "code",
   "execution_count": 217,
   "id": "37485cd0",
   "metadata": {
    "pycharm": {
     "name": "#%%\n"
    }
   },
   "outputs": [
    {
     "name": "stdout",
     "output_type": "stream",
     "text": [
      "              precision    recall  f1-score   support\n",
      "\n",
      "         0.0    0.83027   0.95173   0.88686      4703\n",
      "         1.0    0.62726   0.29453   0.40084      1297\n",
      "\n",
      "    accuracy                        0.80967      6000\n",
      "   macro avg    0.72877   0.62313   0.64385      6000\n",
      "weighted avg    0.78639   0.80967   0.78180      6000\n",
      "\n"
     ]
    }
   ],
   "source": [
    "print(classification_report(y_test, svm_model_y_pred, digits=5))"
   ]
  },
  {
   "cell_type": "code",
   "execution_count": 218,
   "id": "c907691b",
   "metadata": {
    "pycharm": {
     "name": "#%%\n"
    }
   },
   "outputs": [
    {
     "name": "stdout",
     "output_type": "stream",
     "text": [
      "AUC: 0.6231293826296671\n"
     ]
    }
   ],
   "source": [
    "print(\"AUC: \" + str(roc_auc_score(y_test, svm_model_y_pred)))"
   ]
  },
  {
   "cell_type": "code",
   "execution_count": 219,
   "id": "c4000d94",
   "metadata": {
    "pycharm": {
     "name": "#%%\n"
    }
   },
   "outputs": [
    {
     "data": {
      "text/html": [
       "<div>\n",
       "<style scoped>\n",
       "    .dataframe tbody tr th:only-of-type {\n",
       "        vertical-align: middle;\n",
       "    }\n",
       "\n",
       "    .dataframe tbody tr th {\n",
       "        vertical-align: top;\n",
       "    }\n",
       "\n",
       "    .dataframe thead th {\n",
       "        text-align: right;\n",
       "    }\n",
       "</style>\n",
       "<table border=\"1\" class=\"dataframe\">\n",
       "  <thead>\n",
       "    <tr style=\"text-align: right;\">\n",
       "      <th></th>\n",
       "      <th>Predicted 0</th>\n",
       "      <th>Predicted 1</th>\n",
       "    </tr>\n",
       "  </thead>\n",
       "  <tbody>\n",
       "    <tr>\n",
       "      <th>True 0</th>\n",
       "      <td>4476</td>\n",
       "      <td>227</td>\n",
       "    </tr>\n",
       "    <tr>\n",
       "      <th>True 1</th>\n",
       "      <td>915</td>\n",
       "      <td>382</td>\n",
       "    </tr>\n",
       "  </tbody>\n",
       "</table>\n",
       "</div>"
      ],
      "text/plain": [
       "        Predicted 0  Predicted 1\n",
       "True 0         4476          227\n",
       "True 1          915          382"
      ]
     },
     "execution_count": 219,
     "metadata": {},
     "output_type": "execute_result"
    }
   ],
   "source": [
    "pd.DataFrame(confusion_matrix(y_test, svm_model_y_pred), columns = [\"Predicted 0\", \"Predicted 1\"], index = [\"True 0\", \"True 1\"])"
   ]
  },
  {
   "cell_type": "markdown",
   "id": "dffe0dc1",
   "metadata": {
    "pycharm": {
     "name": "#%% md\n"
    }
   },
   "source": [
    "### Model Fitting for SVM on Balanced Dataset after SMOTE"
   ]
  },
  {
   "cell_type": "code",
   "execution_count": 220,
   "id": "72c0e1d0",
   "metadata": {
    "pycharm": {
     "name": "#%%\n"
    }
   },
   "outputs": [],
   "source": [
    "smote_svm = SVC(random_state = 0)\n",
    "smote_svm.fit(X_SMOTE, y_SMOTE)\n",
    "smote_svm_y_pred = smote_svm.predict(X_test)"
   ]
  },
  {
   "cell_type": "code",
   "execution_count": 221,
   "id": "29db84a8",
   "metadata": {
    "pycharm": {
     "name": "#%%\n"
    }
   },
   "outputs": [
    {
     "name": "stdout",
     "output_type": "stream",
     "text": [
      "              precision    recall  f1-score   support\n",
      "\n",
      "         0.0    0.88213   0.79247   0.83490      4703\n",
      "         1.0    0.45014   0.61604   0.52018      1297\n",
      "\n",
      "    accuracy                        0.75433      6000\n",
      "   macro avg    0.66614   0.70425   0.67754      6000\n",
      "weighted avg    0.78875   0.75433   0.76687      6000\n",
      "\n"
     ]
    }
   ],
   "source": [
    "print(classification_report(y_test, smote_svm_y_pred, digits=5))"
   ]
  },
  {
   "cell_type": "code",
   "execution_count": 222,
   "id": "cbd3eddb",
   "metadata": {
    "pycharm": {
     "name": "#%%\n"
    }
   },
   "outputs": [
    {
     "name": "stdout",
     "output_type": "stream",
     "text": [
      "AUC: 0.7042549490630089\n"
     ]
    }
   ],
   "source": [
    "print(\"AUC: \" + str(roc_auc_score(y_test, smote_svm_y_pred)))"
   ]
  },
  {
   "cell_type": "code",
   "execution_count": 223,
   "id": "226e65cc",
   "metadata": {
    "pycharm": {
     "name": "#%%\n"
    }
   },
   "outputs": [
    {
     "data": {
      "text/html": [
       "<div>\n",
       "<style scoped>\n",
       "    .dataframe tbody tr th:only-of-type {\n",
       "        vertical-align: middle;\n",
       "    }\n",
       "\n",
       "    .dataframe tbody tr th {\n",
       "        vertical-align: top;\n",
       "    }\n",
       "\n",
       "    .dataframe thead th {\n",
       "        text-align: right;\n",
       "    }\n",
       "</style>\n",
       "<table border=\"1\" class=\"dataframe\">\n",
       "  <thead>\n",
       "    <tr style=\"text-align: right;\">\n",
       "      <th></th>\n",
       "      <th>Predicted 0</th>\n",
       "      <th>Predicted 1</th>\n",
       "    </tr>\n",
       "  </thead>\n",
       "  <tbody>\n",
       "    <tr>\n",
       "      <th>True 0</th>\n",
       "      <td>3727</td>\n",
       "      <td>976</td>\n",
       "    </tr>\n",
       "    <tr>\n",
       "      <th>True 1</th>\n",
       "      <td>498</td>\n",
       "      <td>799</td>\n",
       "    </tr>\n",
       "  </tbody>\n",
       "</table>\n",
       "</div>"
      ],
      "text/plain": [
       "        Predicted 0  Predicted 1\n",
       "True 0         3727          976\n",
       "True 1          498          799"
      ]
     },
     "execution_count": 223,
     "metadata": {},
     "output_type": "execute_result"
    }
   ],
   "source": [
    "pd.DataFrame(confusion_matrix(y_test, smote_svm_y_pred), columns = [\"Predicted 0\", \"Predicted 1\"], index = [\"True 0\", \"True 1\"])"
   ]
  },
  {
   "cell_type": "markdown",
   "id": "4aaacedc",
   "metadata": {
    "pycharm": {
     "name": "#%% md\n"
    }
   },
   "source": [
    "### Tuning SVM"
   ]
  },
  {
   "cell_type": "code",
   "execution_count": 90,
   "id": "2feda4f9",
   "metadata": {
    "pycharm": {
     "name": "#%%\n"
    }
   },
   "outputs": [],
   "source": [
    "# create the grid\n",
    "svm_param_grid = {\n",
    "    'C': [0.01, 0.1, 1, 10, 100],\n",
    "    'kernel': ['rbf']\n",
    "}"
   ]
  },
  {
   "cell_type": "code",
   "execution_count": 91,
   "id": "63658c7e",
   "metadata": {
    "pycharm": {
     "name": "#%%\n"
    }
   },
   "outputs": [
    {
     "name": "stdout",
     "output_type": "stream",
     "text": [
      "{'C': 100, 'kernel': 'rbf'}\n"
     ]
    }
   ],
   "source": [
    "# perform grid search and then fit\n",
    "svm_grid = GridSearchCV(SVC(random_state = 0), svm_param_grid, scoring = 'accuracy')\n",
    "svm_grid.fit(X_SMOTE, y_SMOTE)\n",
    "print(svm_grid.best_params_)"
   ]
  },
  {
   "cell_type": "code",
   "execution_count": 43,
   "id": "797bed59",
   "metadata": {
    "pycharm": {
     "name": "#%%\n"
    }
   },
   "outputs": [],
   "source": [
    "optimised_svm = SVC(random_state = 0, kernel = 'rbf', C = 100, probability=True)\n",
    "optimised_svm.fit(X_SMOTE, y_SMOTE)\n",
    "\n",
    "svm_grid_y_pred = optimised_svm.predict(X_test)"
   ]
  },
  {
   "cell_type": "code",
   "execution_count": 44,
   "id": "c288b094",
   "metadata": {
    "pycharm": {
     "name": "#%%\n"
    }
   },
   "outputs": [
    {
     "name": "stdout",
     "output_type": "stream",
     "text": [
      "              precision    recall  f1-score   support\n",
      "\n",
      "         0.0    0.88024   0.79545   0.83570      4703\n",
      "         1.0    0.45029   0.60756   0.51723      1297\n",
      "\n",
      "    accuracy                        0.75483      6000\n",
      "   macro avg    0.66526   0.70150   0.67646      6000\n",
      "weighted avg    0.78729   0.75483   0.76686      6000\n",
      "\n"
     ]
    }
   ],
   "source": [
    "print(classification_report(y_test, svm_grid_y_pred, digits=5))"
   ]
  },
  {
   "cell_type": "code",
   "execution_count": 45,
   "id": "90926e57",
   "metadata": {
    "pycharm": {
     "name": "#%%\n"
    }
   },
   "outputs": [
    {
     "name": "stdout",
     "output_type": "stream",
     "text": [
      "AUC: 0.7015028055879291\n"
     ]
    }
   ],
   "source": [
    "print(\"AUC: \" + str(roc_auc_score(y_test, svm_grid_y_pred)))"
   ]
  },
  {
   "cell_type": "code",
   "execution_count": 46,
   "id": "6916f3d6",
   "metadata": {
    "pycharm": {
     "name": "#%%\n"
    }
   },
   "outputs": [
    {
     "data": {
      "text/html": [
       "<div>\n",
       "<style scoped>\n",
       "    .dataframe tbody tr th:only-of-type {\n",
       "        vertical-align: middle;\n",
       "    }\n",
       "\n",
       "    .dataframe tbody tr th {\n",
       "        vertical-align: top;\n",
       "    }\n",
       "\n",
       "    .dataframe thead th {\n",
       "        text-align: right;\n",
       "    }\n",
       "</style>\n",
       "<table border=\"1\" class=\"dataframe\">\n",
       "  <thead>\n",
       "    <tr style=\"text-align: right;\">\n",
       "      <th></th>\n",
       "      <th>Predicted 0</th>\n",
       "      <th>Predicted 1</th>\n",
       "    </tr>\n",
       "  </thead>\n",
       "  <tbody>\n",
       "    <tr>\n",
       "      <th>True 0</th>\n",
       "      <td>3741</td>\n",
       "      <td>962</td>\n",
       "    </tr>\n",
       "    <tr>\n",
       "      <th>True 1</th>\n",
       "      <td>509</td>\n",
       "      <td>788</td>\n",
       "    </tr>\n",
       "  </tbody>\n",
       "</table>\n",
       "</div>"
      ],
      "text/plain": [
       "        Predicted 0  Predicted 1\n",
       "True 0         3741          962\n",
       "True 1          509          788"
      ]
     },
     "execution_count": 46,
     "metadata": {},
     "output_type": "execute_result"
    }
   ],
   "source": [
    "pd.DataFrame(confusion_matrix(y_test, svm_grid_y_pred), columns = [\"Predicted 0\", \"Predicted 1\"], index = [\"True 0\", \"True 1\"])"
   ]
  },
  {
   "cell_type": "markdown",
   "id": "20743afd",
   "metadata": {
    "pycharm": {
     "name": "#%% md\n"
    }
   },
   "source": [
    "## Random Forest"
   ]
  },
  {
   "cell_type": "markdown",
   "id": "c0522e88",
   "metadata": {
    "pycharm": {
     "name": "#%% md\n"
    }
   },
   "source": [
    "### Model Fitting for Random Forest after Feature Selection"
   ]
  },
  {
   "cell_type": "code",
   "execution_count": 228,
   "id": "bebef498",
   "metadata": {
    "pycharm": {
     "name": "#%%\n"
    }
   },
   "outputs": [],
   "source": [
    "random_forest_model = RandomForestClassifier(random_state = 0)\n",
    "random_forest_model.fit(X_train, y_train)\n",
    "\n",
    "random_forest_model_y_pred = random_forest_model.predict(X_test)"
   ]
  },
  {
   "cell_type": "code",
   "execution_count": 229,
   "id": "4d72e347",
   "metadata": {
    "pycharm": {
     "name": "#%%\n"
    }
   },
   "outputs": [
    {
     "name": "stdout",
     "output_type": "stream",
     "text": [
      "              precision    recall  f1-score   support\n",
      "\n",
      "         0.0    0.82991   0.88497   0.85655      4703\n",
      "         1.0    0.45076   0.34233   0.38913      1297\n",
      "\n",
      "    accuracy                        0.76767      6000\n",
      "   macro avg    0.64034   0.61365   0.62284      6000\n",
      "weighted avg    0.74795   0.76767   0.75551      6000\n",
      "\n"
     ]
    }
   ],
   "source": [
    "print(classification_report(y_test, random_forest_model_y_pred, digits=5))"
   ]
  },
  {
   "cell_type": "code",
   "execution_count": 230,
   "id": "e499f051",
   "metadata": {
    "pycharm": {
     "name": "#%%\n"
    }
   },
   "outputs": [
    {
     "name": "stdout",
     "output_type": "stream",
     "text": [
      "AUC: 0.6136477462916352\n"
     ]
    }
   ],
   "source": [
    "print(\"AUC: \" + str(roc_auc_score(y_test, random_forest_model_y_pred)))"
   ]
  },
  {
   "cell_type": "code",
   "execution_count": 231,
   "id": "aebb4064",
   "metadata": {
    "pycharm": {
     "name": "#%%\n"
    }
   },
   "outputs": [
    {
     "data": {
      "text/html": [
       "<div>\n",
       "<style scoped>\n",
       "    .dataframe tbody tr th:only-of-type {\n",
       "        vertical-align: middle;\n",
       "    }\n",
       "\n",
       "    .dataframe tbody tr th {\n",
       "        vertical-align: top;\n",
       "    }\n",
       "\n",
       "    .dataframe thead th {\n",
       "        text-align: right;\n",
       "    }\n",
       "</style>\n",
       "<table border=\"1\" class=\"dataframe\">\n",
       "  <thead>\n",
       "    <tr style=\"text-align: right;\">\n",
       "      <th></th>\n",
       "      <th>Predicted 0</th>\n",
       "      <th>Predicted 1</th>\n",
       "    </tr>\n",
       "  </thead>\n",
       "  <tbody>\n",
       "    <tr>\n",
       "      <th>True 0</th>\n",
       "      <td>4162</td>\n",
       "      <td>541</td>\n",
       "    </tr>\n",
       "    <tr>\n",
       "      <th>True 1</th>\n",
       "      <td>853</td>\n",
       "      <td>444</td>\n",
       "    </tr>\n",
       "  </tbody>\n",
       "</table>\n",
       "</div>"
      ],
      "text/plain": [
       "        Predicted 0  Predicted 1\n",
       "True 0         4162          541\n",
       "True 1          853          444"
      ]
     },
     "execution_count": 231,
     "metadata": {},
     "output_type": "execute_result"
    }
   ],
   "source": [
    "pd.DataFrame(confusion_matrix(y_test, random_forest_model_y_pred), columns = [\"Predicted 0\", \"Predicted 1\"], index = [\"True 0\", \"True 1\"])"
   ]
  },
  {
   "cell_type": "markdown",
   "id": "bcb48725",
   "metadata": {
    "pycharm": {
     "name": "#%% md\n"
    }
   },
   "source": [
    "### Model Fitting for Random Forest on Balanced Dataset after SMOTE"
   ]
  },
  {
   "cell_type": "code",
   "execution_count": 232,
   "id": "4798436d",
   "metadata": {
    "pycharm": {
     "name": "#%%\n"
    }
   },
   "outputs": [],
   "source": [
    "smote_rf = RandomForestClassifier(random_state = 0)\n",
    "smote_rf.fit(X_SMOTE, y_SMOTE)\n",
    "\n",
    "smote_rf_y_pred = smote_rf.predict(X_test)"
   ]
  },
  {
   "cell_type": "code",
   "execution_count": 233,
   "id": "78d8e5f1",
   "metadata": {
    "pycharm": {
     "name": "#%%\n"
    }
   },
   "outputs": [
    {
     "name": "stdout",
     "output_type": "stream",
     "text": [
      "              precision    recall  f1-score   support\n",
      "\n",
      "         0.0    0.84835   0.73272   0.78631      4703\n",
      "         1.0    0.35139   0.52506   0.42102      1297\n",
      "\n",
      "    accuracy                        0.68783      6000\n",
      "   macro avg    0.59987   0.62889   0.60366      6000\n",
      "weighted avg    0.74092   0.68783   0.70735      6000\n",
      "\n"
     ]
    }
   ],
   "source": [
    "print(classification_report(y_test, smote_rf_y_pred, digits=5))"
   ]
  },
  {
   "cell_type": "code",
   "execution_count": 234,
   "id": "847efe3e",
   "metadata": {
    "pycharm": {
     "name": "#%%\n"
    }
   },
   "outputs": [
    {
     "name": "stdout",
     "output_type": "stream",
     "text": [
      "AUC: 0.6288908095375727\n"
     ]
    }
   ],
   "source": [
    "print(\"AUC: \" + str(roc_auc_score(y_test, smote_rf_y_pred)))"
   ]
  },
  {
   "cell_type": "code",
   "execution_count": 235,
   "id": "427c3263",
   "metadata": {
    "pycharm": {
     "name": "#%%\n"
    }
   },
   "outputs": [
    {
     "data": {
      "text/html": [
       "<div>\n",
       "<style scoped>\n",
       "    .dataframe tbody tr th:only-of-type {\n",
       "        vertical-align: middle;\n",
       "    }\n",
       "\n",
       "    .dataframe tbody tr th {\n",
       "        vertical-align: top;\n",
       "    }\n",
       "\n",
       "    .dataframe thead th {\n",
       "        text-align: right;\n",
       "    }\n",
       "</style>\n",
       "<table border=\"1\" class=\"dataframe\">\n",
       "  <thead>\n",
       "    <tr style=\"text-align: right;\">\n",
       "      <th></th>\n",
       "      <th>Predicted 0</th>\n",
       "      <th>Predicted 1</th>\n",
       "    </tr>\n",
       "  </thead>\n",
       "  <tbody>\n",
       "    <tr>\n",
       "      <th>True 0</th>\n",
       "      <td>3446</td>\n",
       "      <td>1257</td>\n",
       "    </tr>\n",
       "    <tr>\n",
       "      <th>True 1</th>\n",
       "      <td>616</td>\n",
       "      <td>681</td>\n",
       "    </tr>\n",
       "  </tbody>\n",
       "</table>\n",
       "</div>"
      ],
      "text/plain": [
       "        Predicted 0  Predicted 1\n",
       "True 0         3446         1257\n",
       "True 1          616          681"
      ]
     },
     "execution_count": 235,
     "metadata": {},
     "output_type": "execute_result"
    }
   ],
   "source": [
    "pd.DataFrame(confusion_matrix(y_test, smote_rf_y_pred), columns = [\"Predicted 0\", \"Predicted 1\"], index = [\"True 0\", \"True 1\"])"
   ]
  },
  {
   "cell_type": "markdown",
   "id": "d2da7670",
   "metadata": {
    "pycharm": {
     "name": "#%% md\n"
    }
   },
   "source": [
    "### Tuning Random Forest"
   ]
  },
  {
   "cell_type": "code",
   "execution_count": 236,
   "id": "1db8dd06",
   "metadata": {
    "pycharm": {
     "name": "#%%\n"
    }
   },
   "outputs": [],
   "source": [
    "# create the grid\n",
    "rf_params_grid = {\n",
    "    'n_estimators': [10, 50, 100, 250, 500],\n",
    "    'max_depth': [2, 3, 4, 5]\n",
    "}"
   ]
  },
  {
   "cell_type": "code",
   "execution_count": 237,
   "id": "088a98fa",
   "metadata": {
    "pycharm": {
     "name": "#%%\n"
    }
   },
   "outputs": [
    {
     "name": "stdout",
     "output_type": "stream",
     "text": [
      "{'max_depth': 5, 'n_estimators': 500}\n"
     ]
    }
   ],
   "source": [
    "# perform grid search and then fit\n",
    "rf_grid = GridSearchCV(RandomForestClassifier(random_state = 0), rf_params_grid, scoring = 'accuracy')\n",
    "rf_grid.fit(X_SMOTE, y_SMOTE)\n",
    "print(rf_grid.best_params_)"
   ]
  },
  {
   "cell_type": "code",
   "execution_count": 47,
   "id": "265b6157",
   "metadata": {
    "pycharm": {
     "name": "#%%\n"
    }
   },
   "outputs": [],
   "source": [
    "optimised_rf = RandomForestClassifier(random_state = 0, max_depth = 5, n_estimators = 500)\n",
    "optimised_rf.fit(X_SMOTE, y_SMOTE)\n",
    "\n",
    "rf_grid_y_pred = optimised_rf.predict(X_test)"
   ]
  },
  {
   "cell_type": "code",
   "execution_count": 48,
   "id": "0e2871e7",
   "metadata": {
    "pycharm": {
     "name": "#%%\n"
    }
   },
   "outputs": [
    {
     "name": "stdout",
     "output_type": "stream",
     "text": [
      "              precision    recall  f1-score   support\n",
      "\n",
      "         0.0    0.87853   0.81352   0.84478      4703\n",
      "         1.0    0.46687   0.59214   0.52209      1297\n",
      "\n",
      "    accuracy                        0.76567      6000\n",
      "   macro avg    0.67270   0.70283   0.68344      6000\n",
      "weighted avg    0.78954   0.76567   0.77502      6000\n",
      "\n"
     ]
    }
   ],
   "source": [
    "print(classification_report(y_test, rf_grid_y_pred, digits=5))"
   ]
  },
  {
   "cell_type": "code",
   "execution_count": 49,
   "id": "bf4b2c23",
   "metadata": {
    "pycharm": {
     "name": "#%%\n"
    }
   },
   "outputs": [
    {
     "name": "stdout",
     "output_type": "stream",
     "text": [
      "AUC: 0.7028294903874575\n"
     ]
    }
   ],
   "source": [
    "print(\"AUC: \" + str(roc_auc_score(y_test, rf_grid_y_pred)))"
   ]
  },
  {
   "cell_type": "code",
   "execution_count": 50,
   "id": "55f37ac1",
   "metadata": {
    "pycharm": {
     "name": "#%%\n"
    }
   },
   "outputs": [
    {
     "data": {
      "text/html": [
       "<div>\n",
       "<style scoped>\n",
       "    .dataframe tbody tr th:only-of-type {\n",
       "        vertical-align: middle;\n",
       "    }\n",
       "\n",
       "    .dataframe tbody tr th {\n",
       "        vertical-align: top;\n",
       "    }\n",
       "\n",
       "    .dataframe thead th {\n",
       "        text-align: right;\n",
       "    }\n",
       "</style>\n",
       "<table border=\"1\" class=\"dataframe\">\n",
       "  <thead>\n",
       "    <tr style=\"text-align: right;\">\n",
       "      <th></th>\n",
       "      <th>Predicted 0</th>\n",
       "      <th>Predicted 1</th>\n",
       "    </tr>\n",
       "  </thead>\n",
       "  <tbody>\n",
       "    <tr>\n",
       "      <th>True 0</th>\n",
       "      <td>3826</td>\n",
       "      <td>877</td>\n",
       "    </tr>\n",
       "    <tr>\n",
       "      <th>True 1</th>\n",
       "      <td>529</td>\n",
       "      <td>768</td>\n",
       "    </tr>\n",
       "  </tbody>\n",
       "</table>\n",
       "</div>"
      ],
      "text/plain": [
       "        Predicted 0  Predicted 1\n",
       "True 0         3826          877\n",
       "True 1          529          768"
      ]
     },
     "execution_count": 50,
     "metadata": {},
     "output_type": "execute_result"
    }
   ],
   "source": [
    "pd.DataFrame(confusion_matrix(y_test, rf_grid_y_pred), columns = [\"Predicted 0\", \"Predicted 1\"], index = [\"True 0\", \"True 1\"])"
   ]
  },
  {
   "cell_type": "markdown",
   "id": "8e65c070",
   "metadata": {
    "pycharm": {
     "name": "#%% md\n"
    }
   },
   "source": [
    "## XGBoost"
   ]
  },
  {
   "cell_type": "markdown",
   "id": "d406f102",
   "metadata": {
    "pycharm": {
     "name": "#%% md\n"
    }
   },
   "source": [
    "### Model Fitting for XGBoost after Feature Selection"
   ]
  },
  {
   "cell_type": "code",
   "execution_count": 242,
   "id": "999adace",
   "metadata": {
    "pycharm": {
     "name": "#%%\n"
    }
   },
   "outputs": [],
   "source": [
    "xgboost_model = XGBClassifier(random_state = 0)\n",
    "xgboost_model.fit(X_train, y_train)\n",
    "\n",
    "xgboost_model_y_pred = xgboost_model.predict(X_test)"
   ]
  },
  {
   "cell_type": "code",
   "execution_count": 243,
   "id": "daae0a5a",
   "metadata": {
    "pycharm": {
     "name": "#%%\n"
    }
   },
   "outputs": [
    {
     "name": "stdout",
     "output_type": "stream",
     "text": [
      "              precision    recall  f1-score   support\n",
      "\n",
      "         0.0    0.83434   0.94238   0.88507      4703\n",
      "         1.0    0.60610   0.32151   0.42015      1297\n",
      "\n",
      "    accuracy                        0.80817      6000\n",
      "   macro avg    0.72022   0.63194   0.65261      6000\n",
      "weighted avg    0.78500   0.80817   0.78457      6000\n",
      "\n"
     ]
    }
   ],
   "source": [
    "print(classification_report(y_test, xgboost_model_y_pred, digits=5))"
   ]
  },
  {
   "cell_type": "code",
   "execution_count": 244,
   "id": "4e8c5df6",
   "metadata": {
    "pycharm": {
     "name": "#%%\n"
    }
   },
   "outputs": [
    {
     "name": "stdout",
     "output_type": "stream",
     "text": [
      "AUC: 0.6319441928420171\n"
     ]
    }
   ],
   "source": [
    "print(\"AUC: \" + str(roc_auc_score(y_test, xgboost_model_y_pred)))"
   ]
  },
  {
   "cell_type": "code",
   "execution_count": 245,
   "id": "5dd79262",
   "metadata": {
    "pycharm": {
     "name": "#%%\n"
    }
   },
   "outputs": [
    {
     "data": {
      "text/html": [
       "<div>\n",
       "<style scoped>\n",
       "    .dataframe tbody tr th:only-of-type {\n",
       "        vertical-align: middle;\n",
       "    }\n",
       "\n",
       "    .dataframe tbody tr th {\n",
       "        vertical-align: top;\n",
       "    }\n",
       "\n",
       "    .dataframe thead th {\n",
       "        text-align: right;\n",
       "    }\n",
       "</style>\n",
       "<table border=\"1\" class=\"dataframe\">\n",
       "  <thead>\n",
       "    <tr style=\"text-align: right;\">\n",
       "      <th></th>\n",
       "      <th>Predicted 0</th>\n",
       "      <th>Predicted 1</th>\n",
       "    </tr>\n",
       "  </thead>\n",
       "  <tbody>\n",
       "    <tr>\n",
       "      <th>True 0</th>\n",
       "      <td>4432</td>\n",
       "      <td>271</td>\n",
       "    </tr>\n",
       "    <tr>\n",
       "      <th>True 1</th>\n",
       "      <td>880</td>\n",
       "      <td>417</td>\n",
       "    </tr>\n",
       "  </tbody>\n",
       "</table>\n",
       "</div>"
      ],
      "text/plain": [
       "        Predicted 0  Predicted 1\n",
       "True 0         4432          271\n",
       "True 1          880          417"
      ]
     },
     "execution_count": 245,
     "metadata": {},
     "output_type": "execute_result"
    }
   ],
   "source": [
    "pd.DataFrame(confusion_matrix(y_test, xgboost_model_y_pred), columns = [\"Predicted 0\", \"Predicted 1\"], index = [\"True 0\", \"True 1\"])"
   ]
  },
  {
   "cell_type": "markdown",
   "id": "0ecdb17a",
   "metadata": {
    "pycharm": {
     "name": "#%% md\n"
    }
   },
   "source": [
    "### Model Fitting for XGBoost on Balanced Dataset after SMOTE"
   ]
  },
  {
   "cell_type": "code",
   "execution_count": 246,
   "id": "7c2875d2",
   "metadata": {
    "pycharm": {
     "name": "#%%\n"
    }
   },
   "outputs": [],
   "source": [
    "smote_xgboost = XGBClassifier(random_state = 0)\n",
    "smote_xgboost.fit(X_SMOTE, y_SMOTE)\n",
    "\n",
    "smote_xgboost_y_pred = smote_xgboost.predict(X_test)"
   ]
  },
  {
   "cell_type": "code",
   "execution_count": 247,
   "id": "4c1cca07",
   "metadata": {
    "pycharm": {
     "name": "#%%\n"
    }
   },
   "outputs": [
    {
     "name": "stdout",
     "output_type": "stream",
     "text": [
      "              precision    recall  f1-score   support\n",
      "\n",
      "         0.0    0.86759   0.79970   0.83226      4703\n",
      "         1.0    0.43423   0.55744   0.48818      1297\n",
      "\n",
      "    accuracy                        0.74733      6000\n",
      "   macro avg    0.65091   0.67857   0.66022      6000\n",
      "weighted avg    0.77391   0.74733   0.75789      6000\n",
      "\n"
     ]
    }
   ],
   "source": [
    "print(classification_report(y_test, smote_xgboost_y_pred, digits=5))"
   ]
  },
  {
   "cell_type": "code",
   "execution_count": 248,
   "id": "f26801b7",
   "metadata": {
    "pycharm": {
     "name": "#%%\n"
    }
   },
   "outputs": [
    {
     "name": "stdout",
     "output_type": "stream",
     "text": [
      "AUC: 0.6785712821963898\n"
     ]
    }
   ],
   "source": [
    "print(\"AUC: \" + str(roc_auc_score(y_test, smote_xgboost_y_pred)))"
   ]
  },
  {
   "cell_type": "code",
   "execution_count": 249,
   "id": "21e69350",
   "metadata": {
    "pycharm": {
     "name": "#%%\n"
    }
   },
   "outputs": [
    {
     "data": {
      "text/html": [
       "<div>\n",
       "<style scoped>\n",
       "    .dataframe tbody tr th:only-of-type {\n",
       "        vertical-align: middle;\n",
       "    }\n",
       "\n",
       "    .dataframe tbody tr th {\n",
       "        vertical-align: top;\n",
       "    }\n",
       "\n",
       "    .dataframe thead th {\n",
       "        text-align: right;\n",
       "    }\n",
       "</style>\n",
       "<table border=\"1\" class=\"dataframe\">\n",
       "  <thead>\n",
       "    <tr style=\"text-align: right;\">\n",
       "      <th></th>\n",
       "      <th>Predicted 0</th>\n",
       "      <th>Predicted 1</th>\n",
       "    </tr>\n",
       "  </thead>\n",
       "  <tbody>\n",
       "    <tr>\n",
       "      <th>True 0</th>\n",
       "      <td>3761</td>\n",
       "      <td>942</td>\n",
       "    </tr>\n",
       "    <tr>\n",
       "      <th>True 1</th>\n",
       "      <td>574</td>\n",
       "      <td>723</td>\n",
       "    </tr>\n",
       "  </tbody>\n",
       "</table>\n",
       "</div>"
      ],
      "text/plain": [
       "        Predicted 0  Predicted 1\n",
       "True 0         3761          942\n",
       "True 1          574          723"
      ]
     },
     "execution_count": 249,
     "metadata": {},
     "output_type": "execute_result"
    }
   ],
   "source": [
    "pd.DataFrame(confusion_matrix(y_test, smote_xgboost_y_pred), columns = [\"Predicted 0\", \"Predicted 1\"], index = [\"True 0\", \"True 1\"])"
   ]
  },
  {
   "cell_type": "markdown",
   "id": "f6642d6c",
   "metadata": {
    "pycharm": {
     "name": "#%% md\n"
    }
   },
   "source": [
    "### Tuning XGBoost"
   ]
  },
  {
   "cell_type": "code",
   "execution_count": 250,
   "id": "a095d26c",
   "metadata": {
    "pycharm": {
     "name": "#%%\n"
    }
   },
   "outputs": [],
   "source": [
    "# create the grid\n",
    "xgboost_params_grid = {\n",
    "    'n_estimators': [10, 50, 100, 250, 500],\n",
    "    'max_depth': [2, 3, 4, 5]\n",
    "}"
   ]
  },
  {
   "cell_type": "code",
   "execution_count": 251,
   "id": "b4f1d3b0",
   "metadata": {
    "pycharm": {
     "name": "#%%\n"
    }
   },
   "outputs": [
    {
     "name": "stdout",
     "output_type": "stream",
     "text": [
      "{'max_depth': 5, 'n_estimators': 500}\n"
     ]
    }
   ],
   "source": [
    "# perform grid search and then fit\n",
    "xgboost_grid = GridSearchCV(XGBClassifier(random_state = 0), xgboost_params_grid, scoring = 'accuracy')\n",
    "xgboost_grid.fit(X_SMOTE, y_SMOTE)\n",
    "print(xgboost_grid.best_params_)"
   ]
  },
  {
   "cell_type": "code",
   "execution_count": 64,
   "id": "6f13787d",
   "metadata": {
    "pycharm": {
     "name": "#%%\n"
    }
   },
   "outputs": [],
   "source": [
    "optimised_xgboost = XGBClassifier(random_state = 0, max_depth = 5, n_estimators = 500)\n",
    "optimised_xgboost.fit(X_SMOTE, y_SMOTE)\n",
    "\n",
    "xgboost_grid_y_predict = optimised_xgboost.predict(X_test)"
   ]
  },
  {
   "cell_type": "code",
   "execution_count": 65,
   "id": "b68d3eb4",
   "metadata": {
    "pycharm": {
     "name": "#%%\n"
    }
   },
   "outputs": [
    {
     "name": "stdout",
     "output_type": "stream",
     "text": [
      "              precision    recall  f1-score   support\n",
      "\n",
      "         0.0    0.86080   0.79417   0.82614      4703\n",
      "         1.0    0.41722   0.53431   0.46856      1297\n",
      "\n",
      "    accuracy                        0.73800      6000\n",
      "   macro avg    0.63901   0.66424   0.64735      6000\n",
      "weighted avg    0.76491   0.73800   0.74885      6000\n",
      "\n"
     ]
    }
   ],
   "source": [
    "print(classification_report(y_test, xgboost_grid_y_predict, digits=5))"
   ]
  },
  {
   "cell_type": "code",
   "execution_count": 66,
   "id": "0f551ee3",
   "metadata": {
    "pycharm": {
     "name": "#%%\n"
    }
   },
   "outputs": [
    {
     "name": "stdout",
     "output_type": "stream",
     "text": [
      "AUC: 0.6642419387811812\n"
     ]
    }
   ],
   "source": [
    "print(\"AUC: \" + str(roc_auc_score(y_test, xgboost_grid_y_predict)))"
   ]
  },
  {
   "cell_type": "code",
   "execution_count": 67,
   "id": "5fd362f0",
   "metadata": {
    "pycharm": {
     "name": "#%%\n"
    }
   },
   "outputs": [
    {
     "data": {
      "text/html": [
       "<div>\n",
       "<style scoped>\n",
       "    .dataframe tbody tr th:only-of-type {\n",
       "        vertical-align: middle;\n",
       "    }\n",
       "\n",
       "    .dataframe tbody tr th {\n",
       "        vertical-align: top;\n",
       "    }\n",
       "\n",
       "    .dataframe thead th {\n",
       "        text-align: right;\n",
       "    }\n",
       "</style>\n",
       "<table border=\"1\" class=\"dataframe\">\n",
       "  <thead>\n",
       "    <tr style=\"text-align: right;\">\n",
       "      <th></th>\n",
       "      <th>Predicted 0</th>\n",
       "      <th>Predicted 1</th>\n",
       "    </tr>\n",
       "  </thead>\n",
       "  <tbody>\n",
       "    <tr>\n",
       "      <th>True 0</th>\n",
       "      <td>3735</td>\n",
       "      <td>968</td>\n",
       "    </tr>\n",
       "    <tr>\n",
       "      <th>True 1</th>\n",
       "      <td>604</td>\n",
       "      <td>693</td>\n",
       "    </tr>\n",
       "  </tbody>\n",
       "</table>\n",
       "</div>"
      ],
      "text/plain": [
       "        Predicted 0  Predicted 1\n",
       "True 0         3735          968\n",
       "True 1          604          693"
      ]
     },
     "execution_count": 67,
     "metadata": {},
     "output_type": "execute_result"
    }
   ],
   "source": [
    "pd.DataFrame(confusion_matrix(y_test, xgboost_grid_y_predict), columns = [\"Predicted 0\", \"Predicted 1\"], index = [\"True 0\", \"True 1\"])"
   ]
  },
  {
   "cell_type": "markdown",
   "id": "9228d895",
   "metadata": {
    "pycharm": {
     "name": "#%% md\n"
    }
   },
   "source": [
    "## Neural Network"
   ]
  },
  {
   "cell_type": "markdown",
   "id": "f4b040d6",
   "metadata": {
    "pycharm": {
     "name": "#%% md\n"
    }
   },
   "source": [
    "### Helper Functions"
   ]
  },
  {
   "cell_type": "code",
   "execution_count": 58,
   "id": "47f1d345",
   "metadata": {
    "pycharm": {
     "name": "#%%\n"
    }
   },
   "outputs": [],
   "source": [
    "# this function will help us to visualise the training graphs for the neural network\n",
    "def plot_graphs(history, metric):\n",
    "    plt.plot(history.history[metric])\n",
    "    plt.xlabel(\"Epochs\")\n",
    "    plt.ylabel(metric)"
   ]
  },
  {
   "cell_type": "markdown",
   "id": "3df742ed",
   "metadata": {
    "pycharm": {
     "name": "#%% md\n"
    }
   },
   "source": [
    "### Model Fitting for Neural Network after Feature Selection"
   ]
  },
  {
   "cell_type": "code",
   "execution_count": 125,
   "id": "4b11c7e9",
   "metadata": {
    "pycharm": {
     "name": "#%%\n"
    }
   },
   "outputs": [],
   "source": [
    "tf.random.set_seed(0)"
   ]
  },
  {
   "cell_type": "code",
   "execution_count": 126,
   "id": "4a6613bf",
   "metadata": {
    "pycharm": {
     "name": "#%%\n"
    }
   },
   "outputs": [],
   "source": [
    "nn_fs_model = tf.keras.Sequential([\n",
    "    tf.keras.layers.Dense(16, activation = \"relu\"), #Hidden 1\n",
    "    tf.keras.layers.Dense(8, activation = \"sigmoid\"), #Hidden 2\n",
    "    tf.keras.layers.Dense(1, activation = \"sigmoid\") #Output\n",
    "])\n",
    "\n",
    "#Hyperparameters\n",
    "learning_rate = 0.01\n",
    "loss_function = tf.keras.losses.binary_crossentropy\n",
    "optimiser_function = tf.keras.optimizers.Adam(learning_rate=learning_rate)\n",
    "\n",
    "nn_fs_model.compile(\n",
    "    loss = loss_function,\n",
    "    optimizer = optimiser_function,\n",
    "    metrics=[\n",
    "        tf.keras.metrics.BinaryAccuracy(name='accuracy'),\n",
    "        tf.keras.metrics.Recall(name='recall'),\n",
    "        tf.keras.metrics.Precision(name='precision')\n",
    "    ]\n",
    ")"
   ]
  },
  {
   "cell_type": "code",
   "execution_count": 127,
   "id": "25abc5b7",
   "metadata": {
    "pycharm": {
     "name": "#%%\n"
    }
   },
   "outputs": [
    {
     "name": "stdout",
     "output_type": "stream",
     "text": [
      "Epoch 1/50\n",
      "  1/750 [..............................] - ETA: 5:27 - loss: 0.6599 - accuracy: 0.6875 - recall: 0.0000e+00 - precision: 0.0000e+00"
     ]
    },
    {
     "name": "stderr",
     "output_type": "stream",
     "text": [
      "2023-04-08 05:32:15.731019: I tensorflow/core/grappler/optimizers/custom_graph_optimizer_registry.cc:113] Plugin optimizer for device_type GPU is enabled.\n"
     ]
    },
    {
     "name": "stdout",
     "output_type": "stream",
     "text": [
      "750/750 [==============================] - 6s 8ms/step - loss: 0.4547 - accuracy: 0.8028 - recall: 0.3023 - precision: 0.6158\n",
      "Epoch 2/50\n",
      "750/750 [==============================] - 6s 8ms/step - loss: 0.4500 - accuracy: 0.8059 - recall: 0.3169 - precision: 0.6257\n",
      "Epoch 3/50\n",
      "750/750 [==============================] - 6s 8ms/step - loss: 0.4491 - accuracy: 0.8059 - recall: 0.3235 - precision: 0.6228\n",
      "Epoch 4/50\n",
      "750/750 [==============================] - 919s 1s/step - loss: 0.4500 - accuracy: 0.8074 - recall: 0.3199 - precision: 0.6328\n",
      "Epoch 5/50\n",
      "750/750 [==============================] - 6s 8ms/step - loss: 0.4489 - accuracy: 0.8058 - recall: 0.3171 - precision: 0.6250\n",
      "Epoch 6/50\n",
      "750/750 [==============================] - 6s 8ms/step - loss: 0.4484 - accuracy: 0.8068 - recall: 0.3272 - precision: 0.6257\n",
      "Epoch 7/50\n",
      "750/750 [==============================] - 6s 8ms/step - loss: 0.4484 - accuracy: 0.8074 - recall: 0.3267 - precision: 0.6294\n",
      "Epoch 8/50\n",
      "750/750 [==============================] - 6s 8ms/step - loss: 0.4482 - accuracy: 0.8073 - recall: 0.3255 - precision: 0.6295\n",
      "Epoch 9/50\n",
      "750/750 [==============================] - 6s 8ms/step - loss: 0.4485 - accuracy: 0.8065 - recall: 0.3276 - precision: 0.6240\n",
      "Epoch 10/50\n",
      "750/750 [==============================] - 6s 8ms/step - loss: 0.4478 - accuracy: 0.8065 - recall: 0.3207 - precision: 0.6271\n",
      "Epoch 11/50\n",
      "750/750 [==============================] - 6s 8ms/step - loss: 0.4476 - accuracy: 0.8063 - recall: 0.3208 - precision: 0.6263\n",
      "Epoch 12/50\n",
      "750/750 [==============================] - 6s 8ms/step - loss: 0.4479 - accuracy: 0.8071 - recall: 0.3302 - precision: 0.6258\n",
      "Epoch 13/50\n",
      "750/750 [==============================] - 6s 8ms/step - loss: 0.4473 - accuracy: 0.8065 - recall: 0.3261 - precision: 0.6249\n",
      "Epoch 14/50\n",
      "750/750 [==============================] - 6s 8ms/step - loss: 0.4475 - accuracy: 0.8066 - recall: 0.3229 - precision: 0.6267\n",
      "Epoch 15/50\n",
      "750/750 [==============================] - 6s 8ms/step - loss: 0.4473 - accuracy: 0.8077 - recall: 0.3298 - precision: 0.6292\n",
      "Epoch 16/50\n",
      "750/750 [==============================] - 6s 8ms/step - loss: 0.4469 - accuracy: 0.8062 - recall: 0.3257 - precision: 0.6235\n",
      "Epoch 17/50\n",
      "750/750 [==============================] - 6s 8ms/step - loss: 0.4469 - accuracy: 0.8074 - recall: 0.3334 - precision: 0.6261\n",
      "Epoch 18/50\n",
      "750/750 [==============================] - 6s 8ms/step - loss: 0.4470 - accuracy: 0.8075 - recall: 0.3244 - precision: 0.6307\n",
      "Epoch 19/50\n",
      "750/750 [==============================] - 6s 8ms/step - loss: 0.4468 - accuracy: 0.8058 - recall: 0.3195 - precision: 0.6242\n",
      "Epoch 20/50\n",
      "750/750 [==============================] - 6s 8ms/step - loss: 0.4462 - accuracy: 0.8076 - recall: 0.3306 - precision: 0.6283\n",
      "Epoch 21/50\n",
      "750/750 [==============================] - 6s 8ms/step - loss: 0.4465 - accuracy: 0.8077 - recall: 0.3280 - precision: 0.6303\n",
      "Epoch 22/50\n",
      "750/750 [==============================] - 6s 8ms/step - loss: 0.4460 - accuracy: 0.8071 - recall: 0.3197 - precision: 0.6311\n",
      "Epoch 23/50\n",
      "750/750 [==============================] - 6s 8ms/step - loss: 0.4461 - accuracy: 0.8074 - recall: 0.3250 - precision: 0.6300\n",
      "Epoch 24/50\n",
      "750/750 [==============================] - 6s 8ms/step - loss: 0.4464 - accuracy: 0.8077 - recall: 0.3291 - precision: 0.6297\n",
      "Epoch 25/50\n",
      "750/750 [==============================] - 6s 8ms/step - loss: 0.4462 - accuracy: 0.8086 - recall: 0.3235 - precision: 0.6375\n",
      "Epoch 26/50\n",
      "750/750 [==============================] - 6s 8ms/step - loss: 0.4459 - accuracy: 0.8085 - recall: 0.3306 - precision: 0.6331\n",
      "Epoch 27/50\n",
      "750/750 [==============================] - 6s 8ms/step - loss: 0.4459 - accuracy: 0.8071 - recall: 0.3313 - precision: 0.6255\n",
      "Epoch 28/50\n",
      "750/750 [==============================] - 6s 8ms/step - loss: 0.4460 - accuracy: 0.8077 - recall: 0.3296 - precision: 0.6292\n",
      "Epoch 29/50\n",
      "750/750 [==============================] - 6s 8ms/step - loss: 0.4454 - accuracy: 0.8085 - recall: 0.3263 - precision: 0.6355\n",
      "Epoch 30/50\n",
      "750/750 [==============================] - 6s 8ms/step - loss: 0.4453 - accuracy: 0.8076 - recall: 0.3302 - precision: 0.6285\n",
      "Epoch 31/50\n",
      "750/750 [==============================] - 6s 8ms/step - loss: 0.4455 - accuracy: 0.8067 - recall: 0.3154 - precision: 0.6309\n",
      "Epoch 32/50\n",
      "750/750 [==============================] - 6s 8ms/step - loss: 0.4455 - accuracy: 0.8068 - recall: 0.3175 - precision: 0.6306\n",
      "Epoch 33/50\n",
      "750/750 [==============================] - 6s 8ms/step - loss: 0.4453 - accuracy: 0.8076 - recall: 0.3268 - precision: 0.6304\n",
      "Epoch 34/50\n",
      "750/750 [==============================] - 6s 8ms/step - loss: 0.4452 - accuracy: 0.8073 - recall: 0.3218 - precision: 0.6312\n",
      "Epoch 35/50\n",
      "750/750 [==============================] - 6s 8ms/step - loss: 0.4450 - accuracy: 0.8072 - recall: 0.3253 - precision: 0.6289\n",
      "Epoch 36/50\n",
      "750/750 [==============================] - 6s 8ms/step - loss: 0.4446 - accuracy: 0.8073 - recall: 0.3216 - precision: 0.6310\n",
      "Epoch 37/50\n",
      "750/750 [==============================] - 6s 8ms/step - loss: 0.4449 - accuracy: 0.8070 - recall: 0.3092 - precision: 0.6362\n",
      "Epoch 38/50\n",
      "750/750 [==============================] - 6s 8ms/step - loss: 0.4450 - accuracy: 0.8073 - recall: 0.3321 - precision: 0.6261\n",
      "Epoch 39/50\n",
      "750/750 [==============================] - 6s 8ms/step - loss: 0.4454 - accuracy: 0.8064 - recall: 0.3190 - precision: 0.6277\n",
      "Epoch 40/50\n",
      "750/750 [==============================] - 6s 8ms/step - loss: 0.4450 - accuracy: 0.8074 - recall: 0.3162 - precision: 0.6348\n",
      "Epoch 41/50\n",
      "750/750 [==============================] - 6s 8ms/step - loss: 0.4450 - accuracy: 0.8077 - recall: 0.3137 - precision: 0.6376\n",
      "Epoch 42/50\n",
      "750/750 [==============================] - 6s 8ms/step - loss: 0.4443 - accuracy: 0.8080 - recall: 0.3248 - precision: 0.6338\n",
      "Epoch 43/50\n",
      "750/750 [==============================] - 6s 8ms/step - loss: 0.4448 - accuracy: 0.8081 - recall: 0.3267 - precision: 0.6330\n",
      "Epoch 44/50\n",
      "750/750 [==============================] - 6s 8ms/step - loss: 0.4445 - accuracy: 0.8076 - recall: 0.3233 - precision: 0.6320\n",
      "Epoch 45/50\n",
      "750/750 [==============================] - 6s 8ms/step - loss: 0.4449 - accuracy: 0.8070 - recall: 0.3188 - precision: 0.6308\n",
      "Epoch 46/50\n",
      "750/750 [==============================] - 6s 8ms/step - loss: 0.4446 - accuracy: 0.8074 - recall: 0.3149 - precision: 0.6353\n",
      "Epoch 47/50\n",
      "750/750 [==============================] - 6s 8ms/step - loss: 0.4446 - accuracy: 0.8083 - recall: 0.3231 - precision: 0.6361\n",
      "Epoch 48/50\n",
      "750/750 [==============================] - 6s 8ms/step - loss: 0.4446 - accuracy: 0.8077 - recall: 0.3214 - precision: 0.6339\n",
      "Epoch 49/50\n",
      "750/750 [==============================] - 6s 8ms/step - loss: 0.4447 - accuracy: 0.8080 - recall: 0.3282 - precision: 0.6316\n",
      "Epoch 50/50\n",
      "750/750 [==============================] - 6s 8ms/step - loss: 0.4444 - accuracy: 0.8080 - recall: 0.3126 - precision: 0.6400\n"
     ]
    }
   ],
   "source": [
    "history_nn_fs = nn_fs_model.fit(X_train, y_train, epochs=50)"
   ]
  },
  {
   "cell_type": "code",
   "execution_count": 128,
   "id": "1362a188",
   "metadata": {
    "pycharm": {
     "name": "#%%\n"
    }
   },
   "outputs": [
    {
     "data": {
      "text/plain": [
       "(0.0, 1.0)"
      ]
     },
     "execution_count": 128,
     "metadata": {},
     "output_type": "execute_result"
    },
    {
     "data": {
      "image/png": "[encoded data removed]",
      "text/plain": [
       "<Figure size 1600x800 with 2 Axes>"
      ]
     },
     "metadata": {},
     "output_type": "display_data"
    }
   ],
   "source": [
    "# Visualising the learning curves\n",
    "plt.figure(figsize=(16, 8))\n",
    "plt.subplot(1, 2, 1)\n",
    "plot_graphs(history_nn_fs, 'accuracy')\n",
    "plt.ylim(0, 1)\n",
    "plt.subplot(1, 2, 2)\n",
    "plot_graphs(history_nn_fs, 'loss')\n",
    "plt.ylim(0, 1)"
   ]
  },
  {
   "cell_type": "code",
   "execution_count": 166,
   "id": "ff17619b",
   "metadata": {
    "pycharm": {
     "name": "#%%\n"
    }
   },
   "outputs": [
    {
     "name": "stdout",
     "output_type": "stream",
     "text": [
      "188/188 [==============================] - 0s 2ms/step\n",
      "              precision    recall  f1-score   support\n",
      "\n",
      "         0.0    0.83399   0.94642   0.88665      4703\n",
      "         1.0    0.61991   0.31689   0.41939      1297\n",
      "\n",
      "    accuracy                        0.81033      6000\n",
      "   macro avg    0.72695   0.63165   0.65302      6000\n",
      "weighted avg    0.78771   0.81033   0.78565      6000\n",
      "\n"
     ]
    }
   ],
   "source": [
    "#Make predictions\n",
    "nn_fs_pred_raw = nn_fs_model.predict(X_test)\n",
    "nn_fs_pred = [1 if p > 0.5 else 0 for p in np.ravel(nn_fs_pred_raw)]\n",
    "\n",
    "print(classification_report(y_test, nn_fs_pred, digits=5))"
   ]
  },
  {
   "cell_type": "code",
   "execution_count": 130,
   "id": "f6c65ff3",
   "metadata": {
    "pycharm": {
     "name": "#%%\n"
    }
   },
   "outputs": [
    {
     "name": "stdout",
     "output_type": "stream",
     "text": [
      "AUC: 0.631651150014812\n"
     ]
    }
   ],
   "source": [
    "print(\"AUC: \" + str(roc_auc_score(y_test, nn_fs_pred)))"
   ]
  },
  {
   "cell_type": "code",
   "execution_count": 131,
   "id": "fd09d09e",
   "metadata": {
    "pycharm": {
     "name": "#%%\n"
    }
   },
   "outputs": [
    {
     "data": {
      "text/html": [
       "<div>\n",
       "<style scoped>\n",
       "    .dataframe tbody tr th:only-of-type {\n",
       "        vertical-align: middle;\n",
       "    }\n",
       "\n",
       "    .dataframe tbody tr th {\n",
       "        vertical-align: top;\n",
       "    }\n",
       "\n",
       "    .dataframe thead th {\n",
       "        text-align: right;\n",
       "    }\n",
       "</style>\n",
       "<table border=\"1\" class=\"dataframe\">\n",
       "  <thead>\n",
       "    <tr style=\"text-align: right;\">\n",
       "      <th></th>\n",
       "      <th>Predicted 0</th>\n",
       "      <th>Predicted 1</th>\n",
       "    </tr>\n",
       "  </thead>\n",
       "  <tbody>\n",
       "    <tr>\n",
       "      <th>True 0</th>\n",
       "      <td>4451</td>\n",
       "      <td>252</td>\n",
       "    </tr>\n",
       "    <tr>\n",
       "      <th>True 1</th>\n",
       "      <td>886</td>\n",
       "      <td>411</td>\n",
       "    </tr>\n",
       "  </tbody>\n",
       "</table>\n",
       "</div>"
      ],
      "text/plain": [
       "        Predicted 0  Predicted 1\n",
       "True 0         4451          252\n",
       "True 1          886          411"
      ]
     },
     "execution_count": 131,
     "metadata": {},
     "output_type": "execute_result"
    }
   ],
   "source": [
    "pd.DataFrame(confusion_matrix(y_test, nn_fs_pred), columns = [\"Predicted 0\", \"Predicted 1\"], index = [\"True 0\", \"True 1\"])"
   ]
  },
  {
   "cell_type": "markdown",
   "id": "c812e374",
   "metadata": {
    "pycharm": {
     "name": "#%% md\n"
    }
   },
   "source": [
    "### Model Fitting for Neural Network on Balanced Dataset after SMOTE"
   ]
  },
  {
   "cell_type": "code",
   "execution_count": 263,
   "id": "ab3ca8bc",
   "metadata": {
    "pycharm": {
     "name": "#%%\n"
    }
   },
   "outputs": [],
   "source": [
    "nn_smote_model = tf.keras.Sequential([\n",
    "    tf.keras.layers.Dense(16, activation = \"relu\"), #Hidden 1\n",
    "    tf.keras.layers.Dense(8, activation = \"sigmoid\"), #Hidden 2\n",
    "    tf.keras.layers.Dense(1, activation = \"sigmoid\") #Output\n",
    "])\n",
    "\n",
    "#Hyperparameters\n",
    "learning_rate = 0.01\n",
    "loss_function = tf.keras.losses.binary_crossentropy\n",
    "optimiser_function = tf.keras.optimizers.Adam(learning_rate=learning_rate)\n",
    "\n",
    "nn_smote_model.compile(\n",
    "    loss = loss_function,\n",
    "    optimizer = optimiser_function,\n",
    "    metrics=[\n",
    "        tf.keras.metrics.BinaryAccuracy(name='accuracy'),\n",
    "        tf.keras.metrics.Recall(name='recall'),\n",
    "        tf.keras.metrics.Precision(name='precision')\n",
    "    ]\n",
    ")"
   ]
  },
  {
   "cell_type": "code",
   "execution_count": 264,
   "id": "b86407d1",
   "metadata": {
    "pycharm": {
     "name": "#%%\n"
    }
   },
   "outputs": [
    {
     "name": "stdout",
     "output_type": "stream",
     "text": [
      "Epoch 1/50\n"
     ]
    },
    {
     "name": "stderr",
     "output_type": "stream",
     "text": [
      "2023-04-08 15:18:40.111880: I tensorflow/core/grappler/optimizers/custom_graph_optimizer_registry.cc:113] Plugin optimizer for device_type GPU is enabled.\n"
     ]
    },
    {
     "name": "stdout",
     "output_type": "stream",
     "text": [
      "747/747 [==============================] - 8s 10ms/step - loss: 0.5897 - accuracy: 0.6990 - recall: 0.6026 - precision: 0.7465\n",
      "Epoch 2/50\n",
      "747/747 [==============================] - 7s 10ms/step - loss: 0.5828 - accuracy: 0.7045 - recall: 0.6132 - precision: 0.7502\n",
      "Epoch 3/50\n",
      "747/747 [==============================] - 7s 10ms/step - loss: 0.5808 - accuracy: 0.7049 - recall: 0.6107 - precision: 0.7524\n",
      "Epoch 4/50\n",
      "747/747 [==============================] - 7s 10ms/step - loss: 0.5801 - accuracy: 0.7055 - recall: 0.6181 - precision: 0.7491\n",
      "Epoch 5/50\n",
      "747/747 [==============================] - 7s 10ms/step - loss: 0.5795 - accuracy: 0.7050 - recall: 0.6232 - precision: 0.7451\n",
      "Epoch 6/50\n",
      "747/747 [==============================] - 7s 10ms/step - loss: 0.5787 - accuracy: 0.7054 - recall: 0.6192 - precision: 0.7482\n",
      "Epoch 7/50\n",
      "747/747 [==============================] - 7s 9ms/step - loss: 0.5777 - accuracy: 0.7058 - recall: 0.6275 - precision: 0.7440\n",
      "Epoch 8/50\n",
      "747/747 [==============================] - 7s 9ms/step - loss: 0.5776 - accuracy: 0.7061 - recall: 0.6235 - precision: 0.7469\n",
      "Epoch 9/50\n",
      "747/747 [==============================] - 7s 9ms/step - loss: 0.5768 - accuracy: 0.7054 - recall: 0.6240 - precision: 0.7453\n",
      "Epoch 10/50\n",
      "747/747 [==============================] - 7s 9ms/step - loss: 0.5766 - accuracy: 0.7067 - recall: 0.6225 - precision: 0.7486\n",
      "Epoch 11/50\n",
      "747/747 [==============================] - 7s 9ms/step - loss: 0.5766 - accuracy: 0.7073 - recall: 0.6239 - precision: 0.7489\n",
      "Epoch 12/50\n",
      "747/747 [==============================] - 7s 9ms/step - loss: 0.5761 - accuracy: 0.7077 - recall: 0.6202 - precision: 0.7517\n",
      "Epoch 13/50\n",
      "747/747 [==============================] - 7s 9ms/step - loss: 0.5760 - accuracy: 0.7075 - recall: 0.6189 - precision: 0.7521\n",
      "Epoch 14/50\n",
      "747/747 [==============================] - 7s 9ms/step - loss: 0.5757 - accuracy: 0.7079 - recall: 0.6220 - precision: 0.7510\n",
      "Epoch 15/50\n",
      "747/747 [==============================] - 7s 9ms/step - loss: 0.5756 - accuracy: 0.7080 - recall: 0.6214 - precision: 0.7515\n",
      "Epoch 16/50\n",
      "747/747 [==============================] - 7s 9ms/step - loss: 0.5755 - accuracy: 0.7064 - recall: 0.6153 - precision: 0.7523\n",
      "Epoch 17/50\n",
      "747/747 [==============================] - 7s 9ms/step - loss: 0.5755 - accuracy: 0.7074 - recall: 0.6223 - precision: 0.7500\n",
      "Epoch 18/50\n",
      "747/747 [==============================] - 7s 9ms/step - loss: 0.5747 - accuracy: 0.7075 - recall: 0.6172 - precision: 0.7533\n",
      "Epoch 19/50\n",
      "747/747 [==============================] - 7s 9ms/step - loss: 0.5750 - accuracy: 0.7084 - recall: 0.6186 - precision: 0.7540\n",
      "Epoch 20/50\n",
      "747/747 [==============================] - 7s 10ms/step - loss: 0.5748 - accuracy: 0.7084 - recall: 0.6208 - precision: 0.7527\n",
      "Epoch 21/50\n",
      "747/747 [==============================] - 7s 10ms/step - loss: 0.5745 - accuracy: 0.7077 - recall: 0.6163 - precision: 0.7541\n",
      "Epoch 22/50\n",
      "747/747 [==============================] - 7s 10ms/step - loss: 0.5739 - accuracy: 0.7079 - recall: 0.6188 - precision: 0.7530\n",
      "Epoch 23/50\n",
      "747/747 [==============================] - 7s 9ms/step - loss: 0.5742 - accuracy: 0.7087 - recall: 0.6194 - precision: 0.7541\n",
      "Epoch 24/50\n",
      "747/747 [==============================] - 7s 9ms/step - loss: 0.5745 - accuracy: 0.7084 - recall: 0.6174 - precision: 0.7548\n",
      "Epoch 25/50\n",
      "747/747 [==============================] - 7s 9ms/step - loss: 0.5738 - accuracy: 0.7079 - recall: 0.6193 - precision: 0.7527\n",
      "Epoch 26/50\n",
      "747/747 [==============================] - 7s 9ms/step - loss: 0.5737 - accuracy: 0.7085 - recall: 0.6211 - precision: 0.7527\n",
      "Epoch 27/50\n",
      "747/747 [==============================] - 7s 9ms/step - loss: 0.5734 - accuracy: 0.7087 - recall: 0.6227 - precision: 0.7521\n",
      "Epoch 28/50\n",
      "747/747 [==============================] - 8s 10ms/step - loss: 0.5735 - accuracy: 0.7093 - recall: 0.6183 - precision: 0.7558\n",
      "Epoch 29/50\n",
      "747/747 [==============================] - 7s 10ms/step - loss: 0.5734 - accuracy: 0.7095 - recall: 0.6193 - precision: 0.7556\n",
      "Epoch 30/50\n",
      "747/747 [==============================] - 8s 10ms/step - loss: 0.5731 - accuracy: 0.7086 - recall: 0.6209 - precision: 0.7530\n",
      "Epoch 31/50\n",
      "747/747 [==============================] - 7s 10ms/step - loss: 0.5729 - accuracy: 0.7095 - recall: 0.6263 - precision: 0.7513\n",
      "Epoch 32/50\n",
      "747/747 [==============================] - 7s 10ms/step - loss: 0.5727 - accuracy: 0.7091 - recall: 0.6210 - precision: 0.7538\n",
      "Epoch 33/50\n",
      "747/747 [==============================] - 8s 10ms/step - loss: 0.5726 - accuracy: 0.7087 - recall: 0.6177 - precision: 0.7551\n",
      "Epoch 34/50\n",
      "747/747 [==============================] - 7s 10ms/step - loss: 0.5730 - accuracy: 0.7096 - recall: 0.6225 - precision: 0.7538\n",
      "Epoch 35/50\n",
      "747/747 [==============================] - 7s 10ms/step - loss: 0.5724 - accuracy: 0.7102 - recall: 0.6259 - precision: 0.7528\n",
      "Epoch 36/50\n",
      "747/747 [==============================] - 8s 10ms/step - loss: 0.5724 - accuracy: 0.7093 - recall: 0.6203 - precision: 0.7547\n",
      "Epoch 37/50\n",
      "747/747 [==============================] - 8s 10ms/step - loss: 0.5722 - accuracy: 0.7097 - recall: 0.6213 - precision: 0.7547\n",
      "Epoch 38/50\n",
      "747/747 [==============================] - 8s 11ms/step - loss: 0.5725 - accuracy: 0.7100 - recall: 0.6238 - precision: 0.7538\n",
      "Epoch 39/50\n",
      "747/747 [==============================] - 8s 11ms/step - loss: 0.5725 - accuracy: 0.7085 - recall: 0.6216 - precision: 0.7524\n",
      "Epoch 40/50\n",
      "747/747 [==============================] - 8s 10ms/step - loss: 0.5718 - accuracy: 0.7083 - recall: 0.6226 - precision: 0.7514\n",
      "Epoch 41/50\n",
      "747/747 [==============================] - 7s 10ms/step - loss: 0.5717 - accuracy: 0.7100 - recall: 0.6257 - precision: 0.7525\n",
      "Epoch 42/50\n",
      "747/747 [==============================] - 7s 10ms/step - loss: 0.5715 - accuracy: 0.7095 - recall: 0.6245 - precision: 0.7524\n",
      "Epoch 43/50\n",
      "747/747 [==============================] - 8s 10ms/step - loss: 0.5714 - accuracy: 0.7098 - recall: 0.6215 - precision: 0.7547\n",
      "Epoch 44/50\n",
      "747/747 [==============================] - 7s 10ms/step - loss: 0.5712 - accuracy: 0.7097 - recall: 0.6267 - precision: 0.7515\n",
      "Epoch 45/50\n",
      "747/747 [==============================] - 7s 9ms/step - loss: 0.5717 - accuracy: 0.7097 - recall: 0.6200 - precision: 0.7556\n",
      "Epoch 46/50\n",
      "747/747 [==============================] - 7s 9ms/step - loss: 0.5712 - accuracy: 0.7098 - recall: 0.6267 - precision: 0.7517\n",
      "Epoch 47/50\n",
      "747/747 [==============================] - 7s 9ms/step - loss: 0.5714 - accuracy: 0.7101 - recall: 0.6231 - precision: 0.7543\n",
      "Epoch 48/50\n",
      "747/747 [==============================] - 7s 9ms/step - loss: 0.5710 - accuracy: 0.7102 - recall: 0.6242 - precision: 0.7539\n",
      "Epoch 49/50\n",
      "747/747 [==============================] - 7s 9ms/step - loss: 0.5709 - accuracy: 0.7094 - recall: 0.6258 - precision: 0.7514\n",
      "Epoch 50/50\n",
      "747/747 [==============================] - 7s 9ms/step - loss: 0.5710 - accuracy: 0.7091 - recall: 0.6235 - precision: 0.7522\n"
     ]
    }
   ],
   "source": [
    "history_nn_model_smote = nn_smote_model.fit(X_SMOTE, y_SMOTE, epochs=50, batch_size=50)"
   ]
  },
  {
   "cell_type": "code",
   "execution_count": 265,
   "id": "b420ce7d",
   "metadata": {
    "pycharm": {
     "name": "#%%\n"
    }
   },
   "outputs": [
    {
     "data": {
      "text/plain": [
       "(0.0, 1.0)"
      ]
     },
     "execution_count": 265,
     "metadata": {},
     "output_type": "execute_result"
    },
    {
     "data": {
      "image/png": "[encoded data removed]",
      "text/plain": [
       "<Figure size 1600x800 with 2 Axes>"
      ]
     },
     "metadata": {},
     "output_type": "display_data"
    }
   ],
   "source": [
    "# Visualising the learning curves\n",
    "plt.figure(figsize=(16, 8))\n",
    "plt.subplot(1, 2, 1)\n",
    "plot_graphs(history_nn_model_smote, 'accuracy')\n",
    "plt.ylim(0, 1)\n",
    "plt.subplot(1, 2, 2)\n",
    "plot_graphs(history_nn_model_smote, 'loss')\n",
    "plt.ylim(0, 1)"
   ]
  },
  {
   "cell_type": "code",
   "execution_count": 266,
   "id": "fc488ee1",
   "metadata": {
    "pycharm": {
     "name": "#%%\n"
    }
   },
   "outputs": [
    {
     "name": "stdout",
     "output_type": "stream",
     "text": [
      " 92/188 [=============>................] - ETA: 0s"
     ]
    },
    {
     "name": "stderr",
     "output_type": "stream",
     "text": [
      "2023-04-08 15:24:41.627117: I tensorflow/core/grappler/optimizers/custom_graph_optimizer_registry.cc:113] Plugin optimizer for device_type GPU is enabled.\n"
     ]
    },
    {
     "name": "stdout",
     "output_type": "stream",
     "text": [
      "188/188 [==============================] - 0s 2ms/step\n",
      "              precision    recall  f1-score   support\n",
      "\n",
      "         0.0    0.87929   0.79609   0.83562      4703\n",
      "         1.0    0.44948   0.60370   0.51530      1297\n",
      "\n",
      "    accuracy                        0.75450      6000\n",
      "   macro avg    0.66438   0.69989   0.67546      6000\n",
      "weighted avg    0.78638   0.75450   0.76638      6000\n",
      "\n"
     ]
    }
   ],
   "source": [
    "# making predictions on test set\n",
    "nn_smote_pred_raw = nn_smote_model.predict(X_test)\n",
    "\n",
    "nn_smote_pred = [1 if p > 0.5 else 0 for p in np.ravel(nn_smote_pred_raw)]\n",
    "\n",
    "print(classification_report(y_test, nn_smote_pred, digits=5))"
   ]
  },
  {
   "cell_type": "code",
   "execution_count": 267,
   "id": "df41ebb2",
   "metadata": {
    "pycharm": {
     "name": "#%%\n"
    }
   },
   "outputs": [
    {
     "name": "stdout",
     "output_type": "stream",
     "text": [
      "AUC: 0.6998942258841326\n"
     ]
    }
   ],
   "source": [
    "print(\"AUC: \" + str(roc_auc_score(y_test, nn_smote_pred)))"
   ]
  },
  {
   "cell_type": "code",
   "execution_count": 268,
   "id": "607593eb",
   "metadata": {
    "pycharm": {
     "name": "#%%\n"
    }
   },
   "outputs": [
    {
     "data": {
      "text/html": [
       "<div>\n",
       "<style scoped>\n",
       "    .dataframe tbody tr th:only-of-type {\n",
       "        vertical-align: middle;\n",
       "    }\n",
       "\n",
       "    .dataframe tbody tr th {\n",
       "        vertical-align: top;\n",
       "    }\n",
       "\n",
       "    .dataframe thead th {\n",
       "        text-align: right;\n",
       "    }\n",
       "</style>\n",
       "<table border=\"1\" class=\"dataframe\">\n",
       "  <thead>\n",
       "    <tr style=\"text-align: right;\">\n",
       "      <th></th>\n",
       "      <th>Predicted 0</th>\n",
       "      <th>Predicted 1</th>\n",
       "    </tr>\n",
       "  </thead>\n",
       "  <tbody>\n",
       "    <tr>\n",
       "      <th>True 0</th>\n",
       "      <td>3744</td>\n",
       "      <td>959</td>\n",
       "    </tr>\n",
       "    <tr>\n",
       "      <th>True 1</th>\n",
       "      <td>514</td>\n",
       "      <td>783</td>\n",
       "    </tr>\n",
       "  </tbody>\n",
       "</table>\n",
       "</div>"
      ],
      "text/plain": [
       "        Predicted 0  Predicted 1\n",
       "True 0         3744          959\n",
       "True 1          514          783"
      ]
     },
     "execution_count": 268,
     "metadata": {},
     "output_type": "execute_result"
    }
   ],
   "source": [
    "pd.DataFrame(confusion_matrix(y_test, nn_smote_pred), columns = [\"Predicted 0\", \"Predicted 1\"], index = [\"True 0\", \"True 1\"])"
   ]
  },
  {
   "cell_type": "markdown",
   "id": "f1fb341c",
   "metadata": {
    "pycharm": {
     "name": "#%% md\n"
    }
   },
   "source": [
    "### Neural Network Tuning"
   ]
  },
  {
   "cell_type": "code",
   "execution_count": 138,
   "id": "37fd73b9",
   "metadata": {
    "pycharm": {
     "name": "#%%\n"
    }
   },
   "outputs": [],
   "source": [
    "def define_model(learning_rate = 0.001, neurons_1 = 8, neurons_2 = 4):\n",
    "    model = tf.keras.Sequential([\n",
    "        tf.keras.layers.Dense(neurons_1, activation = \"relu\", input_shape=(10, )),\n",
    "        tf.keras.layers.Dense(neurons_2, activation = \"sigmoid\"),\n",
    "        tf.keras.layers.Dense(1, activation = \"sigmoid\")\n",
    "    ])\n",
    "\n",
    "    optimizer = tf.keras.optimizers.Adam(learning_rate = learning_rate)\n",
    "\n",
    "    model.compile(\n",
    "        loss=tf.keras.losses.binary_crossentropy,\n",
    "        optimizer = optimizer,\n",
    "        metrics = ['acc']\n",
    "    )\n",
    "    return model\n",
    "\n",
    "learning_rate = [0.001, 0.01, 0.1]\n",
    "neurons_1 = [8, 16]\n",
    "neurons_2 = [4, 8]\n",
    "\n",
    "param_grid = dict(learning_rate = learning_rate, neurons_1 = neurons_1, neurons_2 = neurons_2)"
   ]
  },
  {
   "cell_type": "code",
   "execution_count": 139,
   "id": "8bdb27a6",
   "metadata": {
    "pycharm": {
     "name": "#%%\n"
    }
   },
   "outputs": [],
   "source": [
    "nn_model_temp = KerasClassifier(model = define_model, epochs=50, batch_size = 50,\n",
    "                                learning_rate=0.001, neurons_1=8, neurons_2=4, verbose=0)\n",
    "nn_grid_model = GridSearchCV(estimator = nn_model_temp, param_grid = param_grid, scoring = \"accuracy\", cv = 3, verbose = 0)"
   ]
  },
  {
   "cell_type": "code",
   "execution_count": 140,
   "id": "0573e412",
   "metadata": {
    "pycharm": {
     "name": "#%%\n"
    }
   },
   "outputs": [
    {
     "name": "stderr",
     "output_type": "stream",
     "text": [
      "2023-04-08 06:33:53.693735: I tensorflow/core/grappler/optimizers/custom_graph_optimizer_registry.cc:113] Plugin optimizer for device_type GPU is enabled.\n",
      "2023-04-08 06:35:51.294481: I tensorflow/core/grappler/optimizers/custom_graph_optimizer_registry.cc:113] Plugin optimizer for device_type GPU is enabled.\n",
      "2023-04-08 06:35:51.864794: I tensorflow/core/grappler/optimizers/custom_graph_optimizer_registry.cc:113] Plugin optimizer for device_type GPU is enabled.\n",
      "2023-04-08 06:37:49.100805: I tensorflow/core/grappler/optimizers/custom_graph_optimizer_registry.cc:113] Plugin optimizer for device_type GPU is enabled.\n",
      "2023-04-08 06:37:49.662360: I tensorflow/core/grappler/optimizers/custom_graph_optimizer_registry.cc:113] Plugin optimizer for device_type GPU is enabled.\n",
      "2023-04-08 07:00:59.427460: I tensorflow/core/grappler/optimizers/custom_graph_optimizer_registry.cc:113] Plugin optimizer for device_type GPU is enabled.\n",
      "2023-04-08 07:01:00.004853: I tensorflow/core/grappler/optimizers/custom_graph_optimizer_registry.cc:113] Plugin optimizer for device_type GPU is enabled.\n",
      "2023-04-08 07:33:33.112069: I tensorflow/core/grappler/optimizers/custom_graph_optimizer_registry.cc:113] Plugin optimizer for device_type GPU is enabled.\n",
      "2023-04-08 07:33:33.678112: I tensorflow/core/grappler/optimizers/custom_graph_optimizer_registry.cc:113] Plugin optimizer for device_type GPU is enabled.\n",
      "2023-04-08 07:52:21.924525: I tensorflow/core/grappler/optimizers/custom_graph_optimizer_registry.cc:113] Plugin optimizer for device_type GPU is enabled.\n",
      "2023-04-08 07:52:22.477506: I tensorflow/core/grappler/optimizers/custom_graph_optimizer_registry.cc:113] Plugin optimizer for device_type GPU is enabled.\n",
      "2023-04-08 08:09:59.150052: I tensorflow/core/grappler/optimizers/custom_graph_optimizer_registry.cc:113] Plugin optimizer for device_type GPU is enabled.\n",
      "2023-04-08 08:09:59.794674: I tensorflow/core/grappler/optimizers/custom_graph_optimizer_registry.cc:113] Plugin optimizer for device_type GPU is enabled.\n",
      "2023-04-08 08:11:56.856607: I tensorflow/core/grappler/optimizers/custom_graph_optimizer_registry.cc:113] Plugin optimizer for device_type GPU is enabled.\n",
      "2023-04-08 08:11:57.421311: I tensorflow/core/grappler/optimizers/custom_graph_optimizer_registry.cc:113] Plugin optimizer for device_type GPU is enabled.\n",
      "2023-04-08 08:46:31.354975: I tensorflow/core/grappler/optimizers/custom_graph_optimizer_registry.cc:113] Plugin optimizer for device_type GPU is enabled.\n",
      "2023-04-08 08:46:31.919385: I tensorflow/core/grappler/optimizers/custom_graph_optimizer_registry.cc:113] Plugin optimizer for device_type GPU is enabled.\n",
      "2023-04-08 09:21:10.189272: I tensorflow/core/grappler/optimizers/custom_graph_optimizer_registry.cc:113] Plugin optimizer for device_type GPU is enabled.\n",
      "2023-04-08 09:21:10.750783: I tensorflow/core/grappler/optimizers/custom_graph_optimizer_registry.cc:113] Plugin optimizer for device_type GPU is enabled.\n",
      "2023-04-08 10:09:41.909988: I tensorflow/core/grappler/optimizers/custom_graph_optimizer_registry.cc:113] Plugin optimizer for device_type GPU is enabled.\n",
      "2023-04-08 10:09:42.467727: I tensorflow/core/grappler/optimizers/custom_graph_optimizer_registry.cc:113] Plugin optimizer for device_type GPU is enabled.\n",
      "2023-04-08 10:11:41.253550: I tensorflow/core/grappler/optimizers/custom_graph_optimizer_registry.cc:113] Plugin optimizer for device_type GPU is enabled.\n",
      "2023-04-08 10:11:41.817866: I tensorflow/core/grappler/optimizers/custom_graph_optimizer_registry.cc:113] Plugin optimizer for device_type GPU is enabled.\n",
      "2023-04-08 10:45:08.791129: I tensorflow/core/grappler/optimizers/custom_graph_optimizer_registry.cc:113] Plugin optimizer for device_type GPU is enabled.\n",
      "2023-04-08 10:45:09.366404: I tensorflow/core/grappler/optimizers/custom_graph_optimizer_registry.cc:113] Plugin optimizer for device_type GPU is enabled.\n",
      "2023-04-08 11:03:38.532051: I tensorflow/core/grappler/optimizers/custom_graph_optimizer_registry.cc:113] Plugin optimizer for device_type GPU is enabled.\n",
      "2023-04-08 11:03:39.096888: I tensorflow/core/grappler/optimizers/custom_graph_optimizer_registry.cc:113] Plugin optimizer for device_type GPU is enabled.\n",
      "2023-04-08 11:05:37.972301: I tensorflow/core/grappler/optimizers/custom_graph_optimizer_registry.cc:113] Plugin optimizer for device_type GPU is enabled.\n",
      "2023-04-08 11:05:38.539991: I tensorflow/core/grappler/optimizers/custom_graph_optimizer_registry.cc:113] Plugin optimizer for device_type GPU is enabled.\n",
      "2023-04-08 11:07:37.334446: I tensorflow/core/grappler/optimizers/custom_graph_optimizer_registry.cc:113] Plugin optimizer for device_type GPU is enabled.\n",
      "2023-04-08 11:07:37.894833: I tensorflow/core/grappler/optimizers/custom_graph_optimizer_registry.cc:113] Plugin optimizer for device_type GPU is enabled.\n",
      "2023-04-08 11:09:37.286243: I tensorflow/core/grappler/optimizers/custom_graph_optimizer_registry.cc:113] Plugin optimizer for device_type GPU is enabled.\n",
      "2023-04-08 11:09:37.923098: I tensorflow/core/grappler/optimizers/custom_graph_optimizer_registry.cc:113] Plugin optimizer for device_type GPU is enabled.\n",
      "2023-04-08 11:12:13.020215: I tensorflow/core/grappler/optimizers/custom_graph_optimizer_registry.cc:113] Plugin optimizer for device_type GPU is enabled.\n",
      "2023-04-08 11:12:14.305142: I tensorflow/core/grappler/optimizers/custom_graph_optimizer_registry.cc:113] Plugin optimizer for device_type GPU is enabled.\n",
      "2023-04-08 11:17:03.396704: I tensorflow/core/grappler/optimizers/custom_graph_optimizer_registry.cc:113] Plugin optimizer for device_type GPU is enabled.\n",
      "2023-04-08 11:17:04.850747: I tensorflow/core/grappler/optimizers/custom_graph_optimizer_registry.cc:113] Plugin optimizer for device_type GPU is enabled.\n",
      "2023-04-08 11:48:47.176956: I tensorflow/core/grappler/optimizers/custom_graph_optimizer_registry.cc:113] Plugin optimizer for device_type GPU is enabled.\n",
      "2023-04-08 11:48:48.196213: I tensorflow/core/grappler/optimizers/custom_graph_optimizer_registry.cc:113] Plugin optimizer for device_type GPU is enabled.\n",
      "2023-04-08 11:50:52.781287: I tensorflow/core/grappler/optimizers/custom_graph_optimizer_registry.cc:113] Plugin optimizer for device_type GPU is enabled.\n",
      "2023-04-08 11:50:53.366962: I tensorflow/core/grappler/optimizers/custom_graph_optimizer_registry.cc:113] Plugin optimizer for device_type GPU is enabled.\n",
      "2023-04-08 11:52:57.348449: I tensorflow/core/grappler/optimizers/custom_graph_optimizer_registry.cc:113] Plugin optimizer for device_type GPU is enabled.\n",
      "2023-04-08 11:52:57.964482: I tensorflow/core/grappler/optimizers/custom_graph_optimizer_registry.cc:113] Plugin optimizer for device_type GPU is enabled.\n",
      "2023-04-08 11:55:02.351613: I tensorflow/core/grappler/optimizers/custom_graph_optimizer_registry.cc:113] Plugin optimizer for device_type GPU is enabled.\n",
      "2023-04-08 11:55:02.947552: I tensorflow/core/grappler/optimizers/custom_graph_optimizer_registry.cc:113] Plugin optimizer for device_type GPU is enabled.\n",
      "2023-04-08 11:57:08.193507: I tensorflow/core/grappler/optimizers/custom_graph_optimizer_registry.cc:113] Plugin optimizer for device_type GPU is enabled.\n",
      "2023-04-08 11:57:08.786068: I tensorflow/core/grappler/optimizers/custom_graph_optimizer_registry.cc:113] Plugin optimizer for device_type GPU is enabled.\n",
      "2023-04-08 11:59:12.597589: I tensorflow/core/grappler/optimizers/custom_graph_optimizer_registry.cc:113] Plugin optimizer for device_type GPU is enabled.\n",
      "2023-04-08 11:59:13.191180: I tensorflow/core/grappler/optimizers/custom_graph_optimizer_registry.cc:113] Plugin optimizer for device_type GPU is enabled.\n",
      "2023-04-08 12:01:17.118341: I tensorflow/core/grappler/optimizers/custom_graph_optimizer_registry.cc:113] Plugin optimizer for device_type GPU is enabled.\n",
      "2023-04-08 12:01:17.715229: I tensorflow/core/grappler/optimizers/custom_graph_optimizer_registry.cc:113] Plugin optimizer for device_type GPU is enabled.\n",
      "2023-04-08 12:03:21.407998: I tensorflow/core/grappler/optimizers/custom_graph_optimizer_registry.cc:113] Plugin optimizer for device_type GPU is enabled.\n",
      "2023-04-08 12:03:22.000616: I tensorflow/core/grappler/optimizers/custom_graph_optimizer_registry.cc:113] Plugin optimizer for device_type GPU is enabled.\n",
      "2023-04-08 12:05:25.102859: I tensorflow/core/grappler/optimizers/custom_graph_optimizer_registry.cc:113] Plugin optimizer for device_type GPU is enabled.\n",
      "2023-04-08 12:05:25.757317: I tensorflow/core/grappler/optimizers/custom_graph_optimizer_registry.cc:113] Plugin optimizer for device_type GPU is enabled.\n",
      "2023-04-08 12:07:30.107472: I tensorflow/core/grappler/optimizers/custom_graph_optimizer_registry.cc:113] Plugin optimizer for device_type GPU is enabled.\n",
      "2023-04-08 12:07:30.717262: I tensorflow/core/grappler/optimizers/custom_graph_optimizer_registry.cc:113] Plugin optimizer for device_type GPU is enabled.\n",
      "2023-04-08 12:09:35.045776: I tensorflow/core/grappler/optimizers/custom_graph_optimizer_registry.cc:113] Plugin optimizer for device_type GPU is enabled.\n",
      "2023-04-08 12:09:35.641994: I tensorflow/core/grappler/optimizers/custom_graph_optimizer_registry.cc:113] Plugin optimizer for device_type GPU is enabled.\n",
      "2023-04-08 12:11:40.739902: I tensorflow/core/grappler/optimizers/custom_graph_optimizer_registry.cc:113] Plugin optimizer for device_type GPU is enabled.\n",
      "2023-04-08 12:11:41.378237: I tensorflow/core/grappler/optimizers/custom_graph_optimizer_registry.cc:113] Plugin optimizer for device_type GPU is enabled.\n",
      "2023-04-08 12:13:45.520290: I tensorflow/core/grappler/optimizers/custom_graph_optimizer_registry.cc:113] Plugin optimizer for device_type GPU is enabled.\n",
      "2023-04-08 12:13:46.114949: I tensorflow/core/grappler/optimizers/custom_graph_optimizer_registry.cc:113] Plugin optimizer for device_type GPU is enabled.\n",
      "2023-04-08 12:15:49.601896: I tensorflow/core/grappler/optimizers/custom_graph_optimizer_registry.cc:113] Plugin optimizer for device_type GPU is enabled.\n",
      "2023-04-08 12:15:50.240346: I tensorflow/core/grappler/optimizers/custom_graph_optimizer_registry.cc:113] Plugin optimizer for device_type GPU is enabled.\n",
      "2023-04-08 12:17:54.235077: I tensorflow/core/grappler/optimizers/custom_graph_optimizer_registry.cc:113] Plugin optimizer for device_type GPU is enabled.\n",
      "2023-04-08 12:17:54.844210: I tensorflow/core/grappler/optimizers/custom_graph_optimizer_registry.cc:113] Plugin optimizer for device_type GPU is enabled.\n",
      "2023-04-08 12:20:00.574210: I tensorflow/core/grappler/optimizers/custom_graph_optimizer_registry.cc:113] Plugin optimizer for device_type GPU is enabled.\n",
      "2023-04-08 12:20:01.185509: I tensorflow/core/grappler/optimizers/custom_graph_optimizer_registry.cc:113] Plugin optimizer for device_type GPU is enabled.\n",
      "2023-04-08 12:22:07.048759: I tensorflow/core/grappler/optimizers/custom_graph_optimizer_registry.cc:113] Plugin optimizer for device_type GPU is enabled.\n",
      "2023-04-08 12:22:07.645391: I tensorflow/core/grappler/optimizers/custom_graph_optimizer_registry.cc:113] Plugin optimizer for device_type GPU is enabled.\n",
      "2023-04-08 12:24:12.856743: I tensorflow/core/grappler/optimizers/custom_graph_optimizer_registry.cc:113] Plugin optimizer for device_type GPU is enabled.\n",
      "2023-04-08 12:24:13.495964: I tensorflow/core/grappler/optimizers/custom_graph_optimizer_registry.cc:113] Plugin optimizer for device_type GPU is enabled.\n"
     ]
    },
    {
     "name": "stdout",
     "output_type": "stream",
     "text": [
      "{'learning_rate': 0.01, 'neurons_1': 8, 'neurons_2': 8}\n"
     ]
    }
   ],
   "source": [
    "nn_grid_model.fit(X_SMOTE, y_SMOTE)\n",
    "print(nn_grid_model.best_params_)"
   ]
  },
  {
   "cell_type": "markdown",
   "id": "eace523b",
   "metadata": {
    "pycharm": {
     "name": "#%% md\n"
    }
   },
   "source": [
    "### Creating the Optimised Neural Network from the Tuned Hyperparameters"
   ]
  },
  {
   "cell_type": "code",
   "execution_count": 55,
   "id": "a69dbc84",
   "metadata": {
    "pycharm": {
     "name": "#%%\n"
    }
   },
   "outputs": [
    {
     "name": "stdout",
     "output_type": "stream",
     "text": [
      "Metal device set to: Apple M1 Pro\n"
     ]
    },
    {
     "name": "stderr",
     "output_type": "stream",
     "text": [
      "2023-04-09 13:30:23.189610: I tensorflow/core/common_runtime/pluggable_device/pluggable_device_factory.cc:305] Could not identify NUMA node of platform GPU ID 0, defaulting to 0. Your kernel may not have been built with NUMA support.\n",
      "2023-04-09 13:30:23.189904: I tensorflow/core/common_runtime/pluggable_device/pluggable_device_factory.cc:271] Created TensorFlow device (/job:localhost/replica:0/task:0/device:GPU:0 with 0 MB memory) -> physical PluggableDevice (device: 0, name: METAL, pci bus id: <undefined>)\n"
     ]
    }
   ],
   "source": [
    "optimised_nn = tf.keras.Sequential([\n",
    "    tf.keras.layers.Dense(8, activation = \"relu\", input_shape=(10, )),\n",
    "    tf.keras.layers.Dense(8, activation = \"sigmoid\"),\n",
    "    tf.keras.layers.Dense(1, activation = \"sigmoid\")\n",
    "])\n",
    "\n",
    "optimizer = tf.keras.optimizers.Adam(learning_rate = 0.01)\n",
    "\n",
    "optimised_nn.compile(\n",
    "    loss=tf.keras.losses.binary_crossentropy,\n",
    "    optimizer = optimizer,\n",
    "    metrics=[\n",
    "        tf.keras.metrics.BinaryAccuracy(name='accuracy'),\n",
    "        tf.keras.metrics.Recall(name='recall'),\n",
    "        tf.keras.metrics.Precision(name='precision')\n",
    "    ]\n",
    ")"
   ]
  },
  {
   "cell_type": "code",
   "execution_count": 56,
   "id": "178a7901",
   "metadata": {
    "pycharm": {
     "name": "#%%\n"
    }
   },
   "outputs": [
    {
     "name": "stdout",
     "output_type": "stream",
     "text": [
      "Epoch 1/50\n"
     ]
    },
    {
     "name": "stderr",
     "output_type": "stream",
     "text": [
      "2023-04-09 13:30:23.526673: W tensorflow/core/platform/profile_utils/cpu_utils.cc:128] Failed to get CPU frequency: 0 Hz\n",
      "2023-04-09 13:30:23.865839: I tensorflow/core/grappler/optimizers/custom_graph_optimizer_registry.cc:113] Plugin optimizer for device_type GPU is enabled.\n"
     ]
    },
    {
     "name": "stdout",
     "output_type": "stream",
     "text": [
      "747/747 [==============================] - 7s 9ms/step - loss: 0.5882 - accuracy: 0.7016 - recall: 0.6052 - precision: 0.7497\n",
      "Epoch 2/50\n",
      "747/747 [==============================] - 6s 9ms/step - loss: 0.5839 - accuracy: 0.7038 - recall: 0.6047 - precision: 0.7542\n",
      "Epoch 3/50\n",
      "747/747 [==============================] - 7s 9ms/step - loss: 0.5826 - accuracy: 0.7040 - recall: 0.6089 - precision: 0.7520\n",
      "Epoch 4/50\n",
      "747/747 [==============================] - 6s 9ms/step - loss: 0.5814 - accuracy: 0.7045 - recall: 0.6133 - precision: 0.7501\n",
      "Epoch 5/50\n",
      "747/747 [==============================] - 6s 8ms/step - loss: 0.5806 - accuracy: 0.7056 - recall: 0.6162 - precision: 0.7504\n",
      "Epoch 6/50\n",
      "747/747 [==============================] - 6s 8ms/step - loss: 0.5802 - accuracy: 0.7054 - recall: 0.6165 - precision: 0.7499\n",
      "Epoch 7/50\n",
      "747/747 [==============================] - 6s 9ms/step - loss: 0.5793 - accuracy: 0.7062 - recall: 0.6178 - precision: 0.7505\n",
      "Epoch 8/50\n",
      "747/747 [==============================] - 7s 9ms/step - loss: 0.5792 - accuracy: 0.7059 - recall: 0.6178 - precision: 0.7499\n",
      "Epoch 9/50\n",
      "747/747 [==============================] - 7s 9ms/step - loss: 0.5783 - accuracy: 0.7062 - recall: 0.6205 - precision: 0.7487\n",
      "Epoch 10/50\n",
      "747/747 [==============================] - 7s 9ms/step - loss: 0.5785 - accuracy: 0.7048 - recall: 0.6202 - precision: 0.7465\n",
      "Epoch 11/50\n",
      "747/747 [==============================] - 7s 9ms/step - loss: 0.5783 - accuracy: 0.7063 - recall: 0.6197 - precision: 0.7496\n",
      "Epoch 12/50\n",
      "747/747 [==============================] - 7s 9ms/step - loss: 0.5778 - accuracy: 0.7060 - recall: 0.6219 - precision: 0.7476\n",
      "Epoch 13/50\n",
      "747/747 [==============================] - 7s 9ms/step - loss: 0.5774 - accuracy: 0.7054 - recall: 0.6189 - precision: 0.7483\n",
      "Epoch 14/50\n",
      "747/747 [==============================] - 7s 9ms/step - loss: 0.5775 - accuracy: 0.7070 - recall: 0.6235 - precision: 0.7485\n",
      "Epoch 15/50\n",
      "747/747 [==============================] - 7s 9ms/step - loss: 0.5771 - accuracy: 0.7061 - recall: 0.6219 - precision: 0.7478\n",
      "Epoch 16/50\n",
      "747/747 [==============================] - 7s 9ms/step - loss: 0.5771 - accuracy: 0.7068 - recall: 0.6247 - precision: 0.7475\n",
      "Epoch 17/50\n",
      "747/747 [==============================] - 7s 9ms/step - loss: 0.5770 - accuracy: 0.7056 - recall: 0.6165 - precision: 0.7503\n",
      "Epoch 18/50\n",
      "747/747 [==============================] - 7s 9ms/step - loss: 0.5770 - accuracy: 0.7062 - recall: 0.6189 - precision: 0.7498\n",
      "Epoch 19/50\n",
      "747/747 [==============================] - 7s 9ms/step - loss: 0.5769 - accuracy: 0.7073 - recall: 0.6188 - precision: 0.7520\n",
      "Epoch 20/50\n",
      "747/747 [==============================] - 7s 9ms/step - loss: 0.5765 - accuracy: 0.7062 - recall: 0.6208 - precision: 0.7488\n",
      "Epoch 21/50\n",
      "747/747 [==============================] - 7s 9ms/step - loss: 0.5767 - accuracy: 0.7056 - recall: 0.6205 - precision: 0.7478\n",
      "Epoch 22/50\n",
      "747/747 [==============================] - 7s 9ms/step - loss: 0.5764 - accuracy: 0.7068 - recall: 0.6258 - precision: 0.7469\n",
      "Epoch 23/50\n",
      "747/747 [==============================] - 7s 9ms/step - loss: 0.5760 - accuracy: 0.7073 - recall: 0.6261 - precision: 0.7474\n",
      "Epoch 24/50\n",
      "747/747 [==============================] - 7s 9ms/step - loss: 0.5758 - accuracy: 0.7069 - recall: 0.6254 - precision: 0.7472\n",
      "Epoch 25/50\n",
      "747/747 [==============================] - 7s 10ms/step - loss: 0.5758 - accuracy: 0.7073 - recall: 0.6245 - precision: 0.7485\n",
      "Epoch 26/50\n",
      "747/747 [==============================] - 8s 11ms/step - loss: 0.5755 - accuracy: 0.7074 - recall: 0.6222 - precision: 0.7500\n",
      "Epoch 27/50\n",
      "747/747 [==============================] - 8s 11ms/step - loss: 0.5754 - accuracy: 0.7071 - recall: 0.6249 - precision: 0.7479\n",
      "Epoch 28/50\n",
      "747/747 [==============================] - 8s 11ms/step - loss: 0.5754 - accuracy: 0.7074 - recall: 0.6230 - precision: 0.7495\n",
      "Epoch 29/50\n",
      "747/747 [==============================] - 8s 11ms/step - loss: 0.5757 - accuracy: 0.7079 - recall: 0.6226 - precision: 0.7507\n",
      "Epoch 30/50\n",
      "747/747 [==============================] - 8s 11ms/step - loss: 0.5755 - accuracy: 0.7084 - recall: 0.6179 - precision: 0.7544\n",
      "Epoch 31/50\n",
      "747/747 [==============================] - 8s 11ms/step - loss: 0.5752 - accuracy: 0.7087 - recall: 0.6239 - precision: 0.7514\n",
      "Epoch 32/50\n",
      "747/747 [==============================] - 8s 11ms/step - loss: 0.5751 - accuracy: 0.7076 - recall: 0.6198 - precision: 0.7519\n",
      "Epoch 33/50\n",
      "747/747 [==============================] - 8s 11ms/step - loss: 0.5753 - accuracy: 0.7077 - recall: 0.6195 - precision: 0.7521\n",
      "Epoch 34/50\n",
      "747/747 [==============================] - 8s 11ms/step - loss: 0.5750 - accuracy: 0.7067 - recall: 0.6205 - precision: 0.7498\n",
      "Epoch 35/50\n",
      "747/747 [==============================] - 8s 11ms/step - loss: 0.5748 - accuracy: 0.7084 - recall: 0.6222 - precision: 0.7518\n",
      "Epoch 36/50\n",
      "747/747 [==============================] - 8s 11ms/step - loss: 0.5745 - accuracy: 0.7086 - recall: 0.6235 - precision: 0.7513\n",
      "Epoch 37/50\n",
      "747/747 [==============================] - 8s 11ms/step - loss: 0.5743 - accuracy: 0.7081 - recall: 0.6219 - precision: 0.7514\n",
      "Epoch 38/50\n",
      "747/747 [==============================] - 8s 11ms/step - loss: 0.5744 - accuracy: 0.7075 - recall: 0.6190 - precision: 0.7521\n",
      "Epoch 39/50\n",
      "747/747 [==============================] - 8s 11ms/step - loss: 0.5738 - accuracy: 0.7090 - recall: 0.6219 - precision: 0.7531\n",
      "Epoch 40/50\n",
      "747/747 [==============================] - 8s 11ms/step - loss: 0.5737 - accuracy: 0.7077 - recall: 0.6221 - precision: 0.7505\n",
      "Epoch 41/50\n",
      "747/747 [==============================] - 8s 11ms/step - loss: 0.5738 - accuracy: 0.7083 - recall: 0.6225 - precision: 0.7514\n",
      "Epoch 42/50\n",
      "747/747 [==============================] - 8s 11ms/step - loss: 0.5741 - accuracy: 0.7083 - recall: 0.6241 - precision: 0.7505\n",
      "Epoch 43/50\n",
      "747/747 [==============================] - 8s 11ms/step - loss: 0.5739 - accuracy: 0.7077 - recall: 0.6188 - precision: 0.7527\n",
      "Epoch 44/50\n",
      "747/747 [==============================] - 8s 11ms/step - loss: 0.5736 - accuracy: 0.7079 - recall: 0.6187 - precision: 0.7531\n",
      "Epoch 45/50\n",
      "747/747 [==============================] - 8s 11ms/step - loss: 0.5737 - accuracy: 0.7078 - recall: 0.6198 - precision: 0.7521\n",
      "Epoch 46/50\n",
      "747/747 [==============================] - 8s 11ms/step - loss: 0.5734 - accuracy: 0.7085 - recall: 0.6239 - precision: 0.7509\n",
      "Epoch 47/50\n",
      "747/747 [==============================] - 8s 10ms/step - loss: 0.5737 - accuracy: 0.7069 - recall: 0.6189 - precision: 0.7511\n",
      "Epoch 48/50\n",
      "747/747 [==============================] - 8s 11ms/step - loss: 0.5735 - accuracy: 0.7085 - recall: 0.6188 - precision: 0.7541\n",
      "Epoch 49/50\n",
      "747/747 [==============================] - 8s 11ms/step - loss: 0.5735 - accuracy: 0.7088 - recall: 0.6207 - precision: 0.7535\n",
      "Epoch 50/50\n",
      "747/747 [==============================] - 8s 11ms/step - loss: 0.5732 - accuracy: 0.7082 - recall: 0.6216 - precision: 0.7518\n"
     ]
    }
   ],
   "source": [
    "optimised_nn_history = optimised_nn.fit(X_SMOTE, y_SMOTE, batch_size=50, epochs=50)"
   ]
  },
  {
   "cell_type": "code",
   "execution_count": 59,
   "id": "fdee4f50",
   "metadata": {
    "pycharm": {
     "name": "#%%\n"
    }
   },
   "outputs": [
    {
     "data": {
      "text/plain": [
       "(0.0, 1.0)"
      ]
     },
     "execution_count": 59,
     "metadata": {},
     "output_type": "execute_result"
    },
    {
     "data": {
      "image/png": "[encoded data removed]",
      "text/plain": [
       "<Figure size 1600x800 with 2 Axes>"
      ]
     },
     "metadata": {},
     "output_type": "display_data"
    }
   ],
   "source": [
    "# Visualising the learning curves\n",
    "plt.figure(figsize=(16, 8))\n",
    "plt.subplot(1, 2, 1)\n",
    "plot_graphs(optimised_nn_history, 'accuracy')\n",
    "plt.ylim(0, 1)\n",
    "plt.subplot(1, 2, 2)\n",
    "plot_graphs(optimised_nn_history, 'loss')\n",
    "plt.ylim(0, 1)"
   ]
  },
  {
   "cell_type": "code",
   "execution_count": 68,
   "id": "68ea077d",
   "metadata": {
    "pycharm": {
     "name": "#%%\n"
    }
   },
   "outputs": [
    {
     "name": "stdout",
     "output_type": "stream",
     "text": [
      "188/188 [==============================] - 0s 2ms/step\n"
     ]
    }
   ],
   "source": [
    "# Make predictions\n",
    "nn_grid_pred_raw = optimised_nn.predict(X_test)\n",
    "\n",
    "nn_grid_pred = [1 if p > 0.5 else 0 for p in np.ravel(nn_grid_pred_raw)]"
   ]
  },
  {
   "cell_type": "code",
   "execution_count": 69,
   "id": "8eab9305",
   "metadata": {
    "pycharm": {
     "name": "#%%\n"
    }
   },
   "outputs": [
    {
     "name": "stdout",
     "output_type": "stream",
     "text": [
      "              precision    recall  f1-score   support\n",
      "\n",
      "         0.0    0.87457   0.81246   0.84237      4703\n",
      "         1.0    0.45923   0.57749   0.51161      1297\n",
      "\n",
      "    accuracy                        0.76167      6000\n",
      "   macro avg    0.66690   0.69497   0.67699      6000\n",
      "weighted avg    0.78479   0.76167   0.77087      6000\n",
      "\n"
     ]
    }
   ],
   "source": [
    "print(classification_report(y_test, nn_grid_pred, digits=5))"
   ]
  },
  {
   "cell_type": "code",
   "execution_count": 70,
   "id": "778fc0be",
   "metadata": {
    "pycharm": {
     "name": "#%%\n"
    }
   },
   "outputs": [
    {
     "name": "stdout",
     "output_type": "stream",
     "text": [
      "AUC: 0.6949733195776706\n"
     ]
    }
   ],
   "source": [
    "print(\"AUC: \" + str(roc_auc_score(y_test, nn_grid_pred)))"
   ]
  },
  {
   "cell_type": "code",
   "execution_count": 71,
   "id": "7a72c4cd",
   "metadata": {
    "pycharm": {
     "name": "#%%\n"
    }
   },
   "outputs": [
    {
     "data": {
      "text/html": [
       "<div>\n",
       "<style scoped>\n",
       "    .dataframe tbody tr th:only-of-type {\n",
       "        vertical-align: middle;\n",
       "    }\n",
       "\n",
       "    .dataframe tbody tr th {\n",
       "        vertical-align: top;\n",
       "    }\n",
       "\n",
       "    .dataframe thead th {\n",
       "        text-align: right;\n",
       "    }\n",
       "</style>\n",
       "<table border=\"1\" class=\"dataframe\">\n",
       "  <thead>\n",
       "    <tr style=\"text-align: right;\">\n",
       "      <th></th>\n",
       "      <th>Predicted 0</th>\n",
       "      <th>Predicted 1</th>\n",
       "    </tr>\n",
       "  </thead>\n",
       "  <tbody>\n",
       "    <tr>\n",
       "      <th>True 0</th>\n",
       "      <td>3821</td>\n",
       "      <td>882</td>\n",
       "    </tr>\n",
       "    <tr>\n",
       "      <th>True 1</th>\n",
       "      <td>548</td>\n",
       "      <td>749</td>\n",
       "    </tr>\n",
       "  </tbody>\n",
       "</table>\n",
       "</div>"
      ],
      "text/plain": [
       "        Predicted 0  Predicted 1\n",
       "True 0         3821          882\n",
       "True 1          548          749"
      ]
     },
     "execution_count": 71,
     "metadata": {},
     "output_type": "execute_result"
    }
   ],
   "source": [
    "pd.DataFrame(confusion_matrix(y_test, nn_grid_pred), columns = [\"Predicted 0\", \"Predicted 1\"], index = [\"True 0\", \"True 1\"])"
   ]
  },
  {
   "cell_type": "markdown",
   "id": "e65abb8f",
   "metadata": {
    "pycharm": {
     "name": "#%% md\n"
    }
   },
   "source": [
    "## ROC Curve for all models"
   ]
  },
  {
   "cell_type": "code",
   "execution_count": 72,
   "id": "6e76c347",
   "metadata": {
    "pycharm": {
     "name": "#%%\n"
    }
   },
   "outputs": [
    {
     "name": "stdout",
     "output_type": "stream",
     "text": [
      "188/188 [==============================] - 0s 2ms/step\n"
     ]
    },
    {
     "data": {
      "image/png": "[encoded data removed]",
      "text/plain": [
       "<Figure size 1500x800 with 1 Axes>"
      ]
     },
     "metadata": {},
     "output_type": "display_data"
    }
   ],
   "source": [
    "# Logistic Regression\n",
    "lr_y_pred_proba = optimised_lr.predict_proba(X_test)[::,-1]\n",
    "lr_fpr, lr_tpr, _ = roc_curve(y_test, lr_y_pred_proba)\n",
    "lr_auc = roc_auc_score(y_test, lr_y_pred_proba)\n",
    "\n",
    "# SVM\n",
    "svm_y_pred_proba = optimised_svm.predict_proba(X_test)[::,1]\n",
    "svm_fpr, svm_tpr, _ = roc_curve(y_test, svm_y_pred_proba)\n",
    "svm_auc = roc_auc_score(y_test, svm_y_pred_proba)\n",
    "\n",
    "# Random Forest\n",
    "rf_y_pred_proba = optimised_rf.predict_proba(X_test)[::,1]\n",
    "rf_fpr, rf_tpr, _ = roc_curve(y_test, rf_y_pred_proba)\n",
    "rf_auc = roc_auc_score(y_test, rf_y_pred_proba)\n",
    "\n",
    "# XGBoost\n",
    "xgb_y_pred_proba = optimised_xgboost.predict_proba(X_test)[::,1]\n",
    "xgb_fpr, xgb_tpr, _ = roc_curve(y_test, xgb_y_pred_proba)\n",
    "xgb_auc = roc_auc_score(y_test, xgb_y_pred_proba)\n",
    "\n",
    "# Neural Network\n",
    "nn_y_pred_proba = optimised_nn.predict(X_test)[::,-1]\n",
    "nn_fpr, nn_tpr, _ = roc_curve(y_test, nn_y_pred_proba)\n",
    "nn_auc = roc_auc_score(y_test, nn_y_pred_proba)\n",
    "\n",
    "# Plotting\n",
    "plt.figure(figsize = (15, 8))\n",
    "plt.plot([0, 1], [0, 1], 'k--')\n",
    "plt.plot(lr_fpr, lr_tpr, label=f\"Logistic Regression, AUC={round(lr_auc, 4)}\")\n",
    "plt.plot(svm_fpr, svm_tpr, label=f\"SVM, AUC={round(svm_auc, 4)}\")\n",
    "plt.plot(rf_fpr, rf_tpr, label=f\"Random Forest, AUC={round(rf_auc, 4)}\")\n",
    "plt.plot(xgb_fpr, xgb_tpr, label=f\"XGBoost, AUC={round(xgb_auc, 4)}\")\n",
    "plt.plot(nn_fpr, nn_tpr, label=f\"Neural Network, AUC={round(nn_auc, 4)}\")\n",
    "plt.legend(loc=5, title='Models', facecolor='white')\n",
    "plt.ylabel('True Positive Rate')\n",
    "plt.xlabel('False Positive Rate')\n",
    "plt.title('ROC Curve', size=15)\n",
    "plt.show()"
   ]
  },
  {
   "cell_type": "code",
   "execution_count": 145,
   "id": "df1bf332",
   "metadata": {
    "pycharm": {
     "name": "#%%\n"
    }
   },
   "outputs": [],
   "source": []
  }
 ],
 "metadata": {
  "kernelspec": {
   "display_name": "Python 3 (ipykernel)",
   "language": "python",
   "name": "python3"
  },
  "language_info": {
   "codemirror_mode": {
    "name": "ipython",
    "version": 3
   },
   "file_extension": ".py",
   "mimetype": "text/x-python",
   "name": "python",
   "nbconvert_exporter": "python",
   "pygments_lexer": "ipython3",
   "version": "3.9.13"
  }
 },
 "nbformat": 4,
 "nbformat_minor": 5
}